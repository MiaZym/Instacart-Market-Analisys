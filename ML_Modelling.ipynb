{
  "nbformat": 4,
  "nbformat_minor": 0,
  "metadata": {
    "colab": {
      "provenance": []
    },
    "kernelspec": {
      "name": "python3",
      "display_name": "Python 3"
    },
    "language_info": {
      "name": "python"
    }
  },
  "cells": [
    {
      "cell_type": "code",
      "execution_count": null,
      "metadata": {
        "id": "6QSYjUkKJIAv"
      },
      "outputs": [],
      "source": [
        "import numpy as np\n",
        "import pandas as pd"
      ]
    },
    {
      "cell_type": "code",
      "source": [
        "train_df = pd.read_csv('/content/drive/MyDrive/Colab Notebooks/Иннополис/Итоговый проект/Market Analysis/train_df.csv', index_col=0)\n",
        "test_df = pd.read_csv('/content/drive/MyDrive/Colab Notebooks/Иннополис/Итоговый проект/Market Analysis/test_df.csv', index_col=0)"
      ],
      "metadata": {
        "id": "rsJCRZRVJPRf"
      },
      "execution_count": null,
      "outputs": []
    },
    {
      "cell_type": "code",
      "execution_count": null,
      "metadata": {
        "collapsed": true,
        "id": "WPQTzH6_6jD4"
      },
      "outputs": [],
      "source": [
        "from numpy import loadtxt\n",
        "import xgboost as xgb\n",
        "from xgboost import XGBClassifier\n",
        "from sklearn.model_selection import train_test_split\n",
        "from sklearn.metrics import accuracy_score"
      ]
    },
    {
      "cell_type": "code",
      "execution_count": null,
      "metadata": {
        "collapsed": true,
        "id": "ErXXzV1K6jD5"
      },
      "outputs": [],
      "source": [
        "X=train_df.drop(['reordered','eval_set'],axis=1)"
      ]
    },
    {
      "cell_type": "code",
      "source": [],
      "metadata": {
        "id": "5J9Cg2ygXl0U"
      },
      "execution_count": null,
      "outputs": []
    },
    {
      "cell_type": "code",
      "execution_count": null,
      "metadata": {
        "id": "BlPlMqUq6jEB",
        "outputId": "05b0c85a-f07b-459e-f552-46e8bbac978f",
        "colab": {
          "base_uri": "https://localhost:8080/",
          "height": 206
        }
      },
      "outputs": [
        {
          "output_type": "execute_result",
          "data": {
            "text/plain": [
              "   order_id  user_id  order_dow  order_hour_of_day  days_since_prior_order  \\\n",
              "0         1   112108          4                 10                     9.0   \n",
              "1        96    17227          6                 20                    30.0   \n",
              "2      3243   206024          3                 15                     2.0   \n",
              "3     12950    11456          1                 14                    13.0   \n",
              "4     17683   177724          5                 21                     0.0   \n",
              "\n",
              "   product_id  reordered_count  reordered_sum  reordered_latest  aisle_id  \\\n",
              "0        2067                1              0               NaN         3   \n",
              "1        2067                1              0               NaN         3   \n",
              "2        2067                1              0               NaN         3   \n",
              "3        2067                1              0               0.0         3   \n",
              "4        2067                1              0               NaN         3   \n",
              "\n",
              "   department_id  \n",
              "0             19  \n",
              "1             19  \n",
              "2             19  \n",
              "3             19  \n",
              "4             19  "
            ],
            "text/html": [
              "\n",
              "  <div id=\"df-dc9aa3c6-f80e-4ede-b9b8-69a7708b5c90\" class=\"colab-df-container\">\n",
              "    <div>\n",
              "<style scoped>\n",
              "    .dataframe tbody tr th:only-of-type {\n",
              "        vertical-align: middle;\n",
              "    }\n",
              "\n",
              "    .dataframe tbody tr th {\n",
              "        vertical-align: top;\n",
              "    }\n",
              "\n",
              "    .dataframe thead th {\n",
              "        text-align: right;\n",
              "    }\n",
              "</style>\n",
              "<table border=\"1\" class=\"dataframe\">\n",
              "  <thead>\n",
              "    <tr style=\"text-align: right;\">\n",
              "      <th></th>\n",
              "      <th>order_id</th>\n",
              "      <th>user_id</th>\n",
              "      <th>order_dow</th>\n",
              "      <th>order_hour_of_day</th>\n",
              "      <th>days_since_prior_order</th>\n",
              "      <th>product_id</th>\n",
              "      <th>reordered_count</th>\n",
              "      <th>reordered_sum</th>\n",
              "      <th>reordered_latest</th>\n",
              "      <th>aisle_id</th>\n",
              "      <th>department_id</th>\n",
              "    </tr>\n",
              "  </thead>\n",
              "  <tbody>\n",
              "    <tr>\n",
              "      <th>0</th>\n",
              "      <td>1</td>\n",
              "      <td>112108</td>\n",
              "      <td>4</td>\n",
              "      <td>10</td>\n",
              "      <td>9.0</td>\n",
              "      <td>2067</td>\n",
              "      <td>1</td>\n",
              "      <td>0</td>\n",
              "      <td>NaN</td>\n",
              "      <td>3</td>\n",
              "      <td>19</td>\n",
              "    </tr>\n",
              "    <tr>\n",
              "      <th>1</th>\n",
              "      <td>96</td>\n",
              "      <td>17227</td>\n",
              "      <td>6</td>\n",
              "      <td>20</td>\n",
              "      <td>30.0</td>\n",
              "      <td>2067</td>\n",
              "      <td>1</td>\n",
              "      <td>0</td>\n",
              "      <td>NaN</td>\n",
              "      <td>3</td>\n",
              "      <td>19</td>\n",
              "    </tr>\n",
              "    <tr>\n",
              "      <th>2</th>\n",
              "      <td>3243</td>\n",
              "      <td>206024</td>\n",
              "      <td>3</td>\n",
              "      <td>15</td>\n",
              "      <td>2.0</td>\n",
              "      <td>2067</td>\n",
              "      <td>1</td>\n",
              "      <td>0</td>\n",
              "      <td>NaN</td>\n",
              "      <td>3</td>\n",
              "      <td>19</td>\n",
              "    </tr>\n",
              "    <tr>\n",
              "      <th>3</th>\n",
              "      <td>12950</td>\n",
              "      <td>11456</td>\n",
              "      <td>1</td>\n",
              "      <td>14</td>\n",
              "      <td>13.0</td>\n",
              "      <td>2067</td>\n",
              "      <td>1</td>\n",
              "      <td>0</td>\n",
              "      <td>0.0</td>\n",
              "      <td>3</td>\n",
              "      <td>19</td>\n",
              "    </tr>\n",
              "    <tr>\n",
              "      <th>4</th>\n",
              "      <td>17683</td>\n",
              "      <td>177724</td>\n",
              "      <td>5</td>\n",
              "      <td>21</td>\n",
              "      <td>0.0</td>\n",
              "      <td>2067</td>\n",
              "      <td>1</td>\n",
              "      <td>0</td>\n",
              "      <td>NaN</td>\n",
              "      <td>3</td>\n",
              "      <td>19</td>\n",
              "    </tr>\n",
              "  </tbody>\n",
              "</table>\n",
              "</div>\n",
              "    <div class=\"colab-df-buttons\">\n",
              "\n",
              "  <div class=\"colab-df-container\">\n",
              "    <button class=\"colab-df-convert\" onclick=\"convertToInteractive('df-dc9aa3c6-f80e-4ede-b9b8-69a7708b5c90')\"\n",
              "            title=\"Convert this dataframe to an interactive table.\"\n",
              "            style=\"display:none;\">\n",
              "\n",
              "  <svg xmlns=\"http://www.w3.org/2000/svg\" height=\"24px\" viewBox=\"0 -960 960 960\">\n",
              "    <path d=\"M120-120v-720h720v720H120Zm60-500h600v-160H180v160Zm220 220h160v-160H400v160Zm0 220h160v-160H400v160ZM180-400h160v-160H180v160Zm440 0h160v-160H620v160ZM180-180h160v-160H180v160Zm440 0h160v-160H620v160Z\"/>\n",
              "  </svg>\n",
              "    </button>\n",
              "\n",
              "  <style>\n",
              "    .colab-df-container {\n",
              "      display:flex;\n",
              "      gap: 12px;\n",
              "    }\n",
              "\n",
              "    .colab-df-convert {\n",
              "      background-color: #E8F0FE;\n",
              "      border: none;\n",
              "      border-radius: 50%;\n",
              "      cursor: pointer;\n",
              "      display: none;\n",
              "      fill: #1967D2;\n",
              "      height: 32px;\n",
              "      padding: 0 0 0 0;\n",
              "      width: 32px;\n",
              "    }\n",
              "\n",
              "    .colab-df-convert:hover {\n",
              "      background-color: #E2EBFA;\n",
              "      box-shadow: 0px 1px 2px rgba(60, 64, 67, 0.3), 0px 1px 3px 1px rgba(60, 64, 67, 0.15);\n",
              "      fill: #174EA6;\n",
              "    }\n",
              "\n",
              "    .colab-df-buttons div {\n",
              "      margin-bottom: 4px;\n",
              "    }\n",
              "\n",
              "    [theme=dark] .colab-df-convert {\n",
              "      background-color: #3B4455;\n",
              "      fill: #D2E3FC;\n",
              "    }\n",
              "\n",
              "    [theme=dark] .colab-df-convert:hover {\n",
              "      background-color: #434B5C;\n",
              "      box-shadow: 0px 1px 3px 1px rgba(0, 0, 0, 0.15);\n",
              "      filter: drop-shadow(0px 1px 2px rgba(0, 0, 0, 0.3));\n",
              "      fill: #FFFFFF;\n",
              "    }\n",
              "  </style>\n",
              "\n",
              "    <script>\n",
              "      const buttonEl =\n",
              "        document.querySelector('#df-dc9aa3c6-f80e-4ede-b9b8-69a7708b5c90 button.colab-df-convert');\n",
              "      buttonEl.style.display =\n",
              "        google.colab.kernel.accessAllowed ? 'block' : 'none';\n",
              "\n",
              "      async function convertToInteractive(key) {\n",
              "        const element = document.querySelector('#df-dc9aa3c6-f80e-4ede-b9b8-69a7708b5c90');\n",
              "        const dataTable =\n",
              "          await google.colab.kernel.invokeFunction('convertToInteractive',\n",
              "                                                    [key], {});\n",
              "        if (!dataTable) return;\n",
              "\n",
              "        const docLinkHtml = 'Like what you see? Visit the ' +\n",
              "          '<a target=\"_blank\" href=https://colab.research.google.com/notebooks/data_table.ipynb>data table notebook</a>'\n",
              "          + ' to learn more about interactive tables.';\n",
              "        element.innerHTML = '';\n",
              "        dataTable['output_type'] = 'display_data';\n",
              "        await google.colab.output.renderOutput(dataTable, element);\n",
              "        const docLink = document.createElement('div');\n",
              "        docLink.innerHTML = docLinkHtml;\n",
              "        element.appendChild(docLink);\n",
              "      }\n",
              "    </script>\n",
              "  </div>\n",
              "\n",
              "\n",
              "<div id=\"df-b2dac5e6-a205-482c-a228-0de06a035bc0\">\n",
              "  <button class=\"colab-df-quickchart\" onclick=\"quickchart('df-b2dac5e6-a205-482c-a228-0de06a035bc0')\"\n",
              "            title=\"Suggest charts.\"\n",
              "            style=\"display:none;\">\n",
              "\n",
              "<svg xmlns=\"http://www.w3.org/2000/svg\" height=\"24px\"viewBox=\"0 0 24 24\"\n",
              "     width=\"24px\">\n",
              "    <g>\n",
              "        <path d=\"M19 3H5c-1.1 0-2 .9-2 2v14c0 1.1.9 2 2 2h14c1.1 0 2-.9 2-2V5c0-1.1-.9-2-2-2zM9 17H7v-7h2v7zm4 0h-2V7h2v10zm4 0h-2v-4h2v4z\"/>\n",
              "    </g>\n",
              "</svg>\n",
              "  </button>\n",
              "\n",
              "<style>\n",
              "  .colab-df-quickchart {\n",
              "      --bg-color: #E8F0FE;\n",
              "      --fill-color: #1967D2;\n",
              "      --hover-bg-color: #E2EBFA;\n",
              "      --hover-fill-color: #174EA6;\n",
              "      --disabled-fill-color: #AAA;\n",
              "      --disabled-bg-color: #DDD;\n",
              "  }\n",
              "\n",
              "  [theme=dark] .colab-df-quickchart {\n",
              "      --bg-color: #3B4455;\n",
              "      --fill-color: #D2E3FC;\n",
              "      --hover-bg-color: #434B5C;\n",
              "      --hover-fill-color: #FFFFFF;\n",
              "      --disabled-bg-color: #3B4455;\n",
              "      --disabled-fill-color: #666;\n",
              "  }\n",
              "\n",
              "  .colab-df-quickchart {\n",
              "    background-color: var(--bg-color);\n",
              "    border: none;\n",
              "    border-radius: 50%;\n",
              "    cursor: pointer;\n",
              "    display: none;\n",
              "    fill: var(--fill-color);\n",
              "    height: 32px;\n",
              "    padding: 0;\n",
              "    width: 32px;\n",
              "  }\n",
              "\n",
              "  .colab-df-quickchart:hover {\n",
              "    background-color: var(--hover-bg-color);\n",
              "    box-shadow: 0 1px 2px rgba(60, 64, 67, 0.3), 0 1px 3px 1px rgba(60, 64, 67, 0.15);\n",
              "    fill: var(--button-hover-fill-color);\n",
              "  }\n",
              "\n",
              "  .colab-df-quickchart-complete:disabled,\n",
              "  .colab-df-quickchart-complete:disabled:hover {\n",
              "    background-color: var(--disabled-bg-color);\n",
              "    fill: var(--disabled-fill-color);\n",
              "    box-shadow: none;\n",
              "  }\n",
              "\n",
              "  .colab-df-spinner {\n",
              "    border: 2px solid var(--fill-color);\n",
              "    border-color: transparent;\n",
              "    border-bottom-color: var(--fill-color);\n",
              "    animation:\n",
              "      spin 1s steps(1) infinite;\n",
              "  }\n",
              "\n",
              "  @keyframes spin {\n",
              "    0% {\n",
              "      border-color: transparent;\n",
              "      border-bottom-color: var(--fill-color);\n",
              "      border-left-color: var(--fill-color);\n",
              "    }\n",
              "    20% {\n",
              "      border-color: transparent;\n",
              "      border-left-color: var(--fill-color);\n",
              "      border-top-color: var(--fill-color);\n",
              "    }\n",
              "    30% {\n",
              "      border-color: transparent;\n",
              "      border-left-color: var(--fill-color);\n",
              "      border-top-color: var(--fill-color);\n",
              "      border-right-color: var(--fill-color);\n",
              "    }\n",
              "    40% {\n",
              "      border-color: transparent;\n",
              "      border-right-color: var(--fill-color);\n",
              "      border-top-color: var(--fill-color);\n",
              "    }\n",
              "    60% {\n",
              "      border-color: transparent;\n",
              "      border-right-color: var(--fill-color);\n",
              "    }\n",
              "    80% {\n",
              "      border-color: transparent;\n",
              "      border-right-color: var(--fill-color);\n",
              "      border-bottom-color: var(--fill-color);\n",
              "    }\n",
              "    90% {\n",
              "      border-color: transparent;\n",
              "      border-bottom-color: var(--fill-color);\n",
              "    }\n",
              "  }\n",
              "</style>\n",
              "\n",
              "  <script>\n",
              "    async function quickchart(key) {\n",
              "      const quickchartButtonEl =\n",
              "        document.querySelector('#' + key + ' button');\n",
              "      quickchartButtonEl.disabled = true;  // To prevent multiple clicks.\n",
              "      quickchartButtonEl.classList.add('colab-df-spinner');\n",
              "      try {\n",
              "        const charts = await google.colab.kernel.invokeFunction(\n",
              "            'suggestCharts', [key], {});\n",
              "      } catch (error) {\n",
              "        console.error('Error during call to suggestCharts:', error);\n",
              "      }\n",
              "      quickchartButtonEl.classList.remove('colab-df-spinner');\n",
              "      quickchartButtonEl.classList.add('colab-df-quickchart-complete');\n",
              "    }\n",
              "    (() => {\n",
              "      let quickchartButtonEl =\n",
              "        document.querySelector('#df-b2dac5e6-a205-482c-a228-0de06a035bc0 button');\n",
              "      quickchartButtonEl.style.display =\n",
              "        google.colab.kernel.accessAllowed ? 'block' : 'none';\n",
              "    })();\n",
              "  </script>\n",
              "</div>\n",
              "    </div>\n",
              "  </div>\n"
            ]
          },
          "metadata": {},
          "execution_count": 62
        }
      ],
      "source": [
        "X.head()"
      ]
    },
    {
      "cell_type": "code",
      "execution_count": null,
      "metadata": {
        "collapsed": true,
        "id": "6b9ovKMg6jEH"
      },
      "outputs": [],
      "source": [
        "Y = train_df['reordered']"
      ]
    },
    {
      "cell_type": "code",
      "execution_count": null,
      "metadata": {
        "id": "NhQzB2y66jEI",
        "outputId": "e5ba6c8c-9d32-425b-abbd-6311a1c535db",
        "colab": {
          "base_uri": "https://localhost:8080/"
        }
      },
      "outputs": [
        {
          "output_type": "execute_result",
          "data": {
            "text/plain": [
              "0    0.0\n",
              "1    0.0\n",
              "2    0.0\n",
              "3    0.0\n",
              "4    0.0\n",
              "Name: reordered, dtype: float64"
            ]
          },
          "metadata": {},
          "execution_count": 64
        }
      ],
      "source": [
        "Y.head()"
      ]
    },
    {
      "cell_type": "markdown",
      "metadata": {
        "id": "oBcmtZ7s6jEJ"
      },
      "source": [
        "разделим данные на обучающие и тестовые наборы"
      ]
    },
    {
      "cell_type": "code",
      "execution_count": null,
      "metadata": {
        "collapsed": true,
        "id": "FitZCidE6jEP"
      },
      "outputs": [],
      "source": [
        "X_train, X_test, y_train, y_test = train_test_split(X, Y, test_size=0.33, random_state=7)"
      ]
    },
    {
      "cell_type": "code",
      "execution_count": null,
      "metadata": {
        "collapsed": true,
        "id": "GiDn6wo96jER"
      },
      "outputs": [],
      "source": [
        "model = XGBClassifier()"
      ]
    },
    {
      "cell_type": "code",
      "source": [
        "del X, Y"
      ],
      "metadata": {
        "id": "Ip-ruVndBdR2"
      },
      "execution_count": null,
      "outputs": []
    },
    {
      "cell_type": "code",
      "source": [
        "train_y = train_df.reordered.values\n",
        "out_df = test_df[[\"order_id\", \"product_id\"]]"
      ],
      "metadata": {
        "id": "5o0_X6tT-n0p"
      },
      "execution_count": null,
      "outputs": []
    },
    {
      "cell_type": "code",
      "source": [
        "train_df = np.array(train_df.drop([\"order_id\", \"user_id\", \"reordered\",'eval_set'], axis=1))\n",
        "test_df = np.array(test_df.drop([\"order_id\", \"user_id\",'eval_set'], axis=1))"
      ],
      "metadata": {
        "id": "9I9JinXh-zCS"
      },
      "execution_count": null,
      "outputs": []
    },
    {
      "cell_type": "code",
      "source": [],
      "metadata": {
        "id": "7KndskTpX22T"
      },
      "execution_count": null,
      "outputs": []
    },
    {
      "cell_type": "markdown",
      "metadata": {
        "id": "T7oCaTMU6jES"
      },
      "source": [
        "Обучение модели с помощью XGBClassifier"
      ]
    },
    {
      "cell_type": "code",
      "execution_count": null,
      "metadata": {
        "id": "qA69mGUM6jEY"
      },
      "outputs": [],
      "source": [
        "model.fit(X_train, y_train)"
      ]
    },
    {
      "cell_type": "markdown",
      "source": [
        "![image.png](data:image/png;base64,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)"
      ],
      "metadata": {
        "id": "UIBtE-s8ECQL"
      }
    },
    {
      "cell_type": "code",
      "execution_count": null,
      "metadata": {
        "collapsed": true,
        "id": "Al8O-gE66jEZ"
      },
      "outputs": [],
      "source": [
        "y_pred = model.predict(X_test)"
      ]
    },
    {
      "cell_type": "code",
      "execution_count": null,
      "metadata": {
        "collapsed": true,
        "id": "brKlz3JI6jEa"
      },
      "outputs": [],
      "source": [
        "predictions = [round(value) for value in y_pred]"
      ]
    },
    {
      "cell_type": "code",
      "execution_count": null,
      "metadata": {
        "collapsed": true,
        "id": "R2knPD9O6jEj"
      },
      "outputs": [],
      "source": [
        "accuracy = accuracy_score(y_test, predictions)"
      ]
    },
    {
      "cell_type": "markdown",
      "metadata": {
        "id": "CbjE5f1B6jEk"
      },
      "source": [
        "### Accuracy XGBoost Classifier"
      ]
    },
    {
      "cell_type": "code",
      "source": [
        "import matplotlib.pyplot as plt\n",
        "import seaborn as sns\n",
        "\n",
        "from sklearn.metrics import confusion_matrix, classification_report\n",
        "from sklearn.metrics import roc_auc_score, roc_curve, precision_score, recall_score, f1_score"
      ],
      "metadata": {
        "id": "97a1FM6OMMV0"
      },
      "execution_count": null,
      "outputs": []
    },
    {
      "cell_type": "code",
      "execution_count": null,
      "metadata": {
        "id": "_pyvKmS_6jEl",
        "outputId": "1f6049d1-9733-46cc-9310-8f20ee141eac",
        "colab": {
          "base_uri": "https://localhost:8080/"
        }
      },
      "outputs": [
        {
          "output_type": "stream",
          "name": "stdout",
          "text": [
            "Accuracy: 90.65%\n"
          ]
        }
      ],
      "source": [
        "print(\"Accuracy: %.2f%%\" % (accuracy * 100.0))"
      ]
    },
    {
      "cell_type": "code",
      "source": [
        "print (\"\\n Classification report : \\n\", classification_report(y_test, predictions))"
      ],
      "metadata": {
        "colab": {
          "base_uri": "https://localhost:8080/"
        },
        "id": "bNna_gQ6MHBR",
        "outputId": "eaf4ecb3-57f8-46ca-b384-1b37c033ba01"
      },
      "execution_count": null,
      "outputs": [
        {
          "output_type": "stream",
          "name": "stdout",
          "text": [
            "\n",
            " Classification report : \n",
            "               precision    recall  f1-score   support\n",
            "\n",
            "         0.0       0.91      0.99      0.95   2522522\n",
            "         1.0       0.60      0.14      0.22    274117\n",
            "\n",
            "    accuracy                           0.91   2796639\n",
            "   macro avg       0.76      0.56      0.59   2796639\n",
            "weighted avg       0.88      0.91      0.88   2796639\n",
            "\n"
          ]
        }
      ]
    },
    {
      "cell_type": "code",
      "source": [
        "#confusion matrix\n",
        "conf_matrix = confusion_matrix(y_test,predictions)\n",
        "plt.figure(figsize=(12,12))\n",
        "plt.subplot(221)\n",
        "sns.heatmap(conf_matrix, fmt = \"d\",annot=True, cmap='Blues')\n",
        "b, t = plt.ylim()\n",
        "plt.ylim(b + 0.5, t - 0.5)\n",
        "plt.title('Confusion Matrix')\n",
        "plt.ylabel('True Values')\n",
        "plt.xlabel('Predicted Values')"
      ],
      "metadata": {
        "id": "-jMhR9foMIci"
      },
      "execution_count": null,
      "outputs": []
    },
    {
      "cell_type": "markdown",
      "source": [
        "![image.png](data:image/png;base64,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)"
      ],
      "metadata": {
        "id": "KeMr5S-EdJ5b"
      }
    },
    {
      "cell_type": "code",
      "source": [
        "#f1-score\n",
        "f1 = f1_score(y_test, predictions)\n",
        "print(\"F1 Score: \", f1)\n",
        "\n",
        "#roc_auc_score\n",
        "model_roc_auc = roc_auc_score(y_test,predictions)\n",
        "print (\"Area under curve : \",model_roc_auc,\"\\n\")\n",
        "fpr,tpr,thresholds = roc_curve(y_test,predictions)\n",
        "gmeans = np.sqrt(tpr * (1-fpr))\n",
        "ix = np.argmax(gmeans)\n",
        "threshold = np.round(thresholds[ix],3)\n",
        "\n",
        "plt.figure(figsize=(12,12))\n",
        "plt.subplot(222)\n",
        "plt.plot(fpr, tpr, color='darkorange', lw=1, label = \"Auc : %.3f\" %model_roc_auc)\n",
        "plt.plot([0, 1], [0, 1], color='navy', lw=2, linestyle='--')\n",
        "plt.scatter(fpr[ix], tpr[ix], marker='o', color='black', label='Best Threshold:' + str(threshold))\n",
        "plt.xlim([0.0, 1.0])\n",
        "plt.ylim([0.0, 1.05])\n",
        "plt.xlabel('False Positive Rate')\n",
        "plt.ylabel('True Positive Rate')\n",
        "plt.title('Receiver operating characteristic')\n",
        "plt.legend(loc=\"lower right\")\n",
        "\n",
        "plt.show()"
      ],
      "metadata": {
        "id": "vaZkWvlcNI7l"
      },
      "execution_count": null,
      "outputs": []
    },
    {
      "cell_type": "markdown",
      "source": [
        "![image.png](data:image/png;base64,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)"
      ],
      "metadata": {
        "id": "ocCicT3UdNzg"
      }
    },
    {
      "cell_type": "code",
      "source": [],
      "metadata": {
        "id": "O8PghBJYQOlN"
      },
      "execution_count": null,
      "outputs": []
    },
    {
      "cell_type": "code",
      "source": [
        "fig, ax = plt.subplots(figsize = (10,8))\n",
        "xgb.plot_importance(model, ax = ax)"
      ],
      "metadata": {
        "id": "hiPex9h2NI4n"
      },
      "execution_count": null,
      "outputs": []
    },
    {
      "cell_type": "markdown",
      "source": [
        "![image.png](data:image/png;base64,iVBORw0KGgoAAAANSUhEUgAABAAAAALBCAYAAADGedOoAAAAAXNSR0IArs4c6QAAAARnQU1BAACxjwv8YQUAAAAJcEhZcwAAEnQAABJ0Ad5mH3gAAJKzSURBVHhe7d0JnE31G8fxZ2xj38tOWQpFlKWiqERIhfYFpU1lKZEWS8mSFu2rkCJaECX9FdooLZZQKEuLJNmzz5z/fH9zju6MmTGGmYvzeb9ex71nuesc557f83t+z4k599xzvZiYGBs6dKjVqFHDAAAAAADA0Seb/rn99ttp/AMAAAAAcBSLeffdd702bdr4swAAAAAA4GgU4yXw7wMAAAAAgKOUGwIAAAAAAACObgQAAAAAMmDkyJGmQsorV670lwAAcHgjAAAAANIlaPCmNPXq1cvf6tCaNWuW9evXzzZu3OgvwaGybds2993OnDnTXwIAONpRAwAAAKSLAgDXX3+9PfTQQ3b88cf7SxOdfPLJVqtWLX/u0HnsscesR48etmLFCjvuuOP8pYeHuLg42717t8XGxrogyJFm3bp1dswxx1jfvn1dIAAAcPQjAwAAAByQ5s2b27XXXptkyozGf2b6999//XsZlz17dsudO/cR1/iPj4+3HTt2+HMAgDAhAAAAAA6pDz/80M466yzLly+fFShQwFq2bGmLFi3y1yZasGCBdejQwSpWrOga0SVLlrQbbrjB/vnnH38Lc73S6v0XZRwEww005l6T7isrITktj+zR1n0tW7x4sV199dVWpEgRa9iwob/W7I033rDTTjvN8uTJY0WLFrUrr7zSfvvtN39t6lKqAaAshQsvvNCl1depU8c9Z40aNfam2Y8fP97N6zPrNefOneuWB/Sd5M+f35YvX27NmjVz32Hp0qVd1kXypE0FMbp3727lypVzWQgnnniiy5hIvp3e4x133GGjR4+2k046yW374osvut5/efDBB902kd9bev4+Eny3P//8s9u+cOHCVqhQIZcpoiEGyem7rlevnuXNm9f9Hc4++2z73//+569NlJ79BwCQMQQAAADAAdm0aZNLH4+cAq+//rprsKkR+8gjj1jv3r1dw1sN7siG8rRp01wjVw3FZ555xjW6x44day1atNjbgG3Tpo1dddVV7v7QoUPdc2sKGq4H6rLLLnON0oEDB9pNN93klg0YMMDatWtnVapUsSeeeMK6detmn3zyiWuYZrTugBrDCjS0atXKBg0aZBs2bHD31QC/8847XcaEGt2//PKLXX755a5HPpKGFlxwwQVWokQJGzJkiAsUKE1fU0Df0UUXXeS+F22r964AgAImd911l7/Vf6ZPn+5e+4orrrCnnnrK6tatay+88IJb17p1673frb5zSc/fJ5I+x5YtW9zn1X0FR/QZI2n+uuuus5w5c7qAhuYVvNB7C6R3/wEAZFDCQRwAAGC/RowYoZZfipMkNAC9woULewmNazcfWLNmjVeoUKEkyxMa4v69/7z55pvuuT777DN/iec9+uijbtmKFSv8JYk0r+V6T8lpeUJj2Z/z3H0tu+qqq/wliRIalF727Nm9AQMG+EsS/fDDD16OHDn2WZ5c8H1EvrcKFSq4ZbNmzfKXeN5HH33kluXJk8dbtWqVv9TzXnrpJbd8xowZ/hLPa9++vVvWuXNnf4nnxcfHewmNYi9Xrlze33//7ZZNnDjRbffwww+7+cCll17qxcTEeD///LO/JPH7yJYtm7do0SJ/SSI9l9ZFfleB9P59gu/2hhtu8Jckat26tVesWDF/zvOWLVvm3oOWx8XF+UsT6fPJgew/AICMIQMAAAAckOeee871EEdOolv1mqvXPjI7QGPl69evbwkNXbedKDU+oPHo2u700093899//727PdRuvfVW/14ipeOr91091pHvV+nuygiIfL8Honr16nbGGWf4c+Y+u5x77rlWvnx5d1+C5eppT04p+4EghX/Xrl328ccfu2VTpkxx32uXLl3cfEBDAhLO71wafaRGjRq595VeB/r3Sf7dKoVfwwU2b97s5idOnOi+6z59+li2bElPP/X55ED2HwBAxhAAAAAAB0RjuJs0aZJkkmXLlrlbNXSVph85aZz32rVr3XpZv369de3a1aW5q7GpbYIrC2iIQWZIfuUCvV81ltXYT/5+f/zxxyTv90BENvJFY+JF6e6RguUaIhBJDWSNvY90wgknuNsgDX7VqlWuNoDGyEeqVq2au9X6SMk/+/4c6N8n+WfW+H4JPpuGO+hzpRWEOJD9BwCQMQQAAADAIRGMZdc47sjsgGB677333HpRr/srr7zieo7VE68G3tSpU9264HnSEvQaJ6fx86mJ7NUWvY6eR6+b0vt96aWX/C0PjHqsU5LacgUhMlvyz74/B/r3ORSf7UD2HwBAxhAAAAAAh0SlSpXc7bHHHrtPhoCmxo0bu/XqFVahvV69erlCcCpCd/755+/T6y2pNfSDHubkhfqS93ynRe9XDVT1bKf0foOU96ymhnDyYQFLly51t7rKgFSoUMFWr17tCu9F+umnn9yt1u9Pat/tgfx90kvftT6XCvqlJr37DwAg4wgAAACAQ0KXrStYsKCrsr97925/6X/+/vtvdxv0FifvHX7yySf9e//RpeAkeUNfr1O8eHH77LPP/CWJnn/+ef/e/qnivd6LGrnJ34vmk1/yLis9++yz/r3E96J5Vc8/77zz3DJV41e2Q+R2oqsCqGHfvHlzf0nqdCk+Sf7dHsjfJ70uueQSNwRA1f+TZxAEr5Pe/QcAkHEEAAAAwCGhxpsuLff555/bqaee6i6x9/LLL9sDDzxgtWvXdg3tYDtdZk+XuNM6PUa9zF9++aVbH0mXwJP777/fpYbrUnS6/r3ceOONNmHCBHer69rr0nvB9fbTQz3ODz/8sI0ZM8ZdZu7RRx91z3PPPfe4S+qNGDHC3zJr6br7Srdv3769C2jocn8ffPCBu8SfxsOLLit4zjnnuO/llltucdupkT1u3Dg3dj/oTU+LhgVoTL4eo8fru124cOEB/X3Sq3Llyu696u+lAoGPP/64C17oM953331um/TuPwCAjCMAAAAADhk1wpU+XqZMGdegVmNUDctatWq5a8oH1OhWj6+uKHDvvfe63u3kletF16vv37+/zZ8/3zp06OAqxAc9waoo37FjR3vnnXesZ8+erkc8pedIi9Lc3333Xdc7rQbm3XffbZMmTbKmTZu6hnc0qAdeAYA1a9a4Rv8333xjffv2dd9DQO9X77Nbt272/vvvu1ul1+s7f+KJJ/yt9m/YsGHub3XnnXe671bfpaT373Mg1Ps/fPhw2759uwsG6O+nIRtBVoOkd/8BAGRMjJc8vwsAAABRoSCHGuFbt271lwAAcOiQAQAAAAAAQAgQAAAAAAAAIAQIAAAAAAAAEALUAAAAAAAAIATIAAAAAAAAIAQIAAAAAAAAEAIMAQAyWXx8vK1evdoKFChgMTEx/lIAAAAAYaPm95YtW6x06dKWLVvW98cTAAAy2e+//27lypXz5wAAAACE3W+//WZly5b157IOAQAgk23atMkKFy5sK1assKJFi/pLgcy1e/du+9///mdNmza1nDlz+kuBzMe+h2hgv0M0sN8hIzZv3uw6Bzdu3GiFChXyl2YdAgBAJtN/cv3nXrdunRUrVsxfCmQunZRMmTLFWrRowUkJshT7HqKB/Q7RwH6HjAjaBuokLFiwoL8061AEEAAAAACAECAAAAAAAABACBAAAAAAAAAgBAgAAAAAAAAQAgQAAAAAAAAIAQIAAAAAAACEAAEAAAAAAABCgAAAAAAAAAAhQAAAAAAAAIAQIAAAAAAAAEAIEAAAAAAAACAECAAAAAAAABACBAAAAAAAAAgBAgAAAAAAAIQAAQAAAAAAAEKAAAAAAAAAACFAAAAAAAAAgBAgAAAAAAAAQAgQAAAAAAAAIAQIAAAAAAAAEAIEAAAAAAAACAECAAAAAAAAhAABAAAAAAAAQoAAAAAAAAAAIUAAAAAAAACAECAAAAAAAABACBAAAAAAAAAgBAgAAAAAAAAQAgQAAAAAAAAIAQIAAAAAAACEAAEAAAAAAABCgAAAAAAAAAAhQAAAAAAAAIAQIAAAAAAAAEAIEAAAAAAAACAECAAAAAAAABACBAAAAAAAAAgBAgAAAAAAAIQAAQAAAAAAAEKAAAAAAAAAACFAAAAAAAAAgBAgAAAAAAAAQAgQAAAAAAAAIAQIAAAAAAAAEAIEAAAAAAAACAECAAAAAAAAhAABAAAAAAAAQiDGS+DfB5AJNm/ebIUKFbJK3cfZnhz5/KVA5orN7tmQenHWc0522xkX4y8FMh/7HqKB/Q7RwH6XtpWDW7rbuLg469evn73xxhu2Zs0aK126tHXo0MEeeOABi4lJ/N7++usvu+eee+x///ufbdy40c4++2x75plnrEqVKm697Nixw7p3725jx461nTt3WrNmzez555+3EiVK+FvsS03dvn372iuvvOKet0GDBvbCCy8ked6sFrQNNm3aZAULFvSXZh0yAHDYWblypTsYzJs3z1+SugPZNj0aN25s3bp18+dSdtxxx9mTTz7pzwEAAABIzSOPPOIa3c8++6z9+OOPbn7IkCGugS9qpF9yySW2fPlye++992zu3LlWoUIFa9Kkif37779uG7nzzjtt8uTJ9vbbb9unn35qq1evtjZt2vhrU6bXefrpp+3FF1+0r7/+2vLly+cCBwomhBUBABx2ypUrZ3/++aedfPLJ/pKsM378eOvfv78/BwAAAOBgzJo1yy6++GJr2bKl60i79NJLrWnTpjZnzhy3ftmyZfbVV1+5IEHdunXtxBNPdPe3b99ub775pttGveWvvvqqPfHEE3buuefaaaedZiNGjHDPrcemRIEFddop00CvX7NmTRs1apQLHEycONHfKnwIAOCwkz17ditZsqTlyJHDX5J1ihYtagUKFPDnAAAAAByMM8880z755BNbunSpm58/f7598cUX1rx5czevdH7JnTu3u5Vs2bJZbGys206+++472717t8sKCFStWtXKly9vs2fP9pcktWLFCjfkIPIxSr2vX79+qo8JAwIAiIqpU6daw4YNrXDhwlasWDG78MIL7ZdffnHrkqf1b9iwwa655ho75phjLE+ePG7MjiJ+qVm4cKE7oOTPn9+NCbruuuts3bp1/tq0JR8CsHbtWmvVqpV73eOPP95Gjx7trwEAAACwP7169bIrr7zSNdhz5sxptWvXdufbOr+XoCF/7733uvP+Xbt2uWECv//+u8sKFjXkc+XK5doOkXSur3UpCZYnrxGQ1mPCgCKAiIp3333XNfKVirN161br06ePa/ir0f/rr7+6xrbG/9SqVcvuuOMO+/LLL13xjuLFi9vPP//sUoLUMNdjIrdVcY8TTjjBbrzxRmvXrp3bTgVF9uzZY9OnT/dfPXUKAOh5gjH+LVq0cGlCGjekA1aXLl3caw0cODDVWgGKYgaRTFGhDw1rqN5jrO3JSRFAZI3YbJ71rxNvvb/NZjvjKUyErMO+h2hgv0M0sN+lbWG/Zu523LhxrnE/aNAgq169ussAuPvuu934fJ2vy/fff28333yzLViwwGUDn3feeS4LQE1VjfvXUICbbrrJtRsiKbugUaNG7rmTUy+/1q1atcpKlSrlLzW76qqrXDtkzJgx/pKspbaB2jTRKgJIAACHBfXQq4f/hx9+cD33kY36iy66yP0nGT58uL/1f5IHAB5++GH7/PPP7aOPPvK3MBc9VAN8yZIlLjiQlsgAgNKUNAZJ45M0Hkl++uknq1atmg0dOjTVAICqnD744IP+3H90kMmbN68/BwAAABz9OnbsaG3btnUda4G33nrLFfJ77rnn/CWJVPRPHXdK1e/Ro4dVrlzZbrnlFhcYUIehriSgtkJAQQF1Cqq9kJx6+W+99VZXN6BixYr+UrP777/ftR/UYRgN27Zts6uvvpoAAMJFxT70n1jVONX4j4+Pd//hP/jgAxcZjGzUf/jhh+6goca7CoaoSqiifZI8AHDZZZe56qFKEYqk554yZcresUapiQwA6HlUpES9+YpABooUKeIuJ0IGAA5n9EogWtj3EA3sd4gG9ru0BRkAqu2lzjE15ANK8X/ttdds8eLF/pKk1FaoUaOG6/0///zzXWNZlw98/fXX91b+V+eetlHnn8b1J6dmrq4moKsHaBKdl5cpU8aGDRtmV1xxhVuW1cgAQChprI/+Q/bs2dP9Z1YAQFX/J0yY4BrgkY16+fvvv10Dftq0aW74wO23326PPfbYPgEANfDVy66DSnJK/dGlP9JyKAIAyek/uaKYlbqPsz05CAAga3BtYkQL+x6igf0O0cB+l7aVg1u6W13z/+OPP7aXXnrJTjrpJHfernT/G264Ye85uy7tp2xg1QJQRnDXrl1dpX+d9wc6derk2gMjR450DefOnTu75boSQEBtDA0HaN26tZvX8w8ePNgFG9Rm6N27t8smUOAhsuhgVgraBtEKAFAEEFnun3/+cRE7XZJD43uUUq+CH2nRAaF9+/Yu7UeN85dfftlfk9Spp55qixYtcpcYUcpQ5LS/xn9yOoAoBUlVRwN636ozAAAAAGD/dL1/darddttt7rxf4/+VDRB56W0V+1Phbp1/q+aW7geXAAxoCK4Khysz+Oyzz3aZBbqEdySdq6thHVBnowIFCjhoSK9qCKgYebQa/4cDAgDIcupBV+V/NeJV0E/F+e666y5/7b40VEC98dpWjfv333/fHTxSosyA9evXu+Ie33zzjbuygOoBXH/99RYXF+dvlT4a/3/BBRe4A5SGKigQoLFCuiIAAAAAgP3TJbbVgadifCrQrfNz1e2KHLKrRv9vv/3mrgCg7RQcSD6kV4121QzQub6G96rxryBAJCW3K+MgoGJ/Dz30kKsHsGPHDpeJsL+aYEc9DQEAstq0adO8hEa8Fxsb69WsWdObOXOmhqJ4EyZM8FasWOHuz507122bcABw2yY0vL2iRYt6F198sbd8+XK3Lvm2snTpUq9169Ze4cKF3WOqVq3qdevWzYuPj/e3SF2jRo28rl27+nOe9+eff3otW7Z077N8+fLeqFGjvAoVKnhDhw71t9i/TZs2ufe4bt06fwmQ+RJ+QL2JEye6WyArse8hGtjvEA3sd8iIoG2g22igBgCQyYJxPip2qMwHICvs3r3bjZNTxV1dwhLIKux7iAb2O0QD+x0yghoAAAAAAAAg0xEAQGj8+uuv7rqhqU1aDwAAAABHKwIACA1dbnDevHmpTloPAAAAAEcrAgAIjRw5cuxzacDISesBAAAA4GhFAAAAAAAAgBAgAAAAAAAAQAgQAAAAAAAAIAQIAAAAAAAAEAIEAAAAAAAACAECAAAAAAAAhAABAAAAAAAAQoAAAAAAAAAAIUAAAAAAAACAECAAAAAAAABACBAAAAAAAAAgBAgAAAAAAAAQAgQAAAAAAAAIAQIAAAAAAACEAAEAAAAAAABCgAAAAAAAAAAhQAAAAAAAAIAQIAAAAAAAAEAIEAAAAAAAACAECAAAAAAAABACBAAAAAAAAAgBAgAAAAAAAIQAAQAAAAAAAEKAAAAAAAAAACFAAAAAAAAAgBAgAAAAAAAAQAgQAAAAAAAAIAQIAAAAAAAAEAIEAAAAAAAACAECAAAAAAAAhAABAAAAAAAAQoAAAAAAAAAAIUAAAAAAAACAECAAAAAAAABACBAAAAAAAAAgBAgAAAAAAAAQAgQAAAAAAAAIAQIAAAAAAACEAAEAAAAAAABCIMZL4N8HkAk2b95shQoVskrdx9meHPn8pUDmis3u2ZB6cdZzTnbbGRfjLwUyH/seooH9DtFwKPe7lYNbWlxcnPXr18/eeOMNW7NmjZUuXdo6dOhgDzzwgMXExNju3bvd/SlTptjy5cvd+WWTJk1s8ODBblv3PCtXWv/+/W369Ol7n+Paa6+1+++/33LlyuW2ScmOHTuse/fuNnbsWNu5c6c1a9bMnn/+eStRooS/BQ6VoG2wadMmK1iwoL8065ABgMPGcccdZ08++aQ/l/V0wNTBdd68ef6Sfc2cOdNts3HjRn8JAAAAcPAeeeQRe+GFF+zZZ5+1H3/80c0PGTLEnnnmGbd+27Zt9v3331vv3r3d7fjx423JkiV20UUXufXy008/WXx8vL300ku2aNEiGzp0qL344ot23333+Vuk7M4777TJkyfb22+/bZ9++qmtXr3a2rRp46/F0YQAAI5aiphecskl/tz+lStXzv788087+eST/SUAAABA1pg1a5ZdfPHF1rJlS9cxdumll1rTpk1tzpw5br16jadNm2aXX365nXjiiXb66ae7YMF3331nv/76q9vmggsusBEjRrjHVaxY0QUH7r77bhcsSI16ol999VV74okn7Nxzz7XTTjvNPYfez1dffeVvhaMFAQAcUrt27fLvHXmyZ89uJUuWtBw5cvhLAAAAgKxx5pln2ieffGJLly518/Pnz7cvvvjCmjdv7uZTosa7slMLFy7sL9mXtilatKg/ty8FEDS8QMMJAlWrVrXy5cvb7Nmz/SU4WhAAQJoaN25sd9xxh5sUdSxevLhLOwpKRyg6qXFG7dq1c2NYbr75Zrf83XfftZNOOsliY2PdNo8//rhbHli7dq21atXK8uTJY8cff7yNHj3aX5MopXR8pd1rmdLwA0ptuvDCC91rFyhQwM466yz75Zdf3Pip1157zd577z33mOSPS0lKr6kxVieccIJ7n+ecc47bBgAAADjUevXqZVdeeaVrfOfMmdNq165t3bp1s2uuucbfIimN27/nnnvsqquuSnUs+c8//+yGENxyyy3+kn2pVoDqAyQPImj8v9bh6EIRQKRJAQBFBTt27GidOnWyb7/91jXyNVb/pptuco37DRs2WJ8+ffam26uhXq9ePdcIv+KKK1z60G233eYKiSgtX1q0aOHGFmlMkg5wXbp0sblz59rAgQPdgU4NbQUGtKxWrVruMXreIkWK2IwZM9z7+uOPP6xmzZru/r333usOfF9++aWLnpYpU8a9ZxXZUAqTKPKZVvGT5K/522+/WZUqVez22293n1mfXcVR/vrrL/eZU4u0qnCKpoDeg4YXVO8x1vbkpAggskZsNs/614m33t9ms53xFMRC1mHfQzSw3yEaDuV+t7BfMxs3bpw7px00aJBVr17dZQAofV91ANTZFkk99hoKoPPhjz/+OMUAgNapV//ss892NQFS8+abb7rz+q1bt/pLEumculGjRu794NBR20CdqtEqAkgAAGlS41q99eppV++4KDo5adIkW7x4sQsAKDo5YcIEt04Upfz777/tf//7n7/ErGfPnvbBBx+451Fak8YtaTxT3bp13XoVLKlWrZorVJLeAICKmahSqYqfKIiQnIINeszEiRP9JWlL/pp6fmUQ6D0H9NlVkCWtAIACHw8++KA/958xY8ZY3rx5/TkAAADgP+q8atu2resoC7z11luuKN9zzz3nLzHbs2ePPfroo65T6qGHHkqxEbl+/Xp3xQBlsqqjLVu21BO/FyxY4DrzdPWB/Pnz+0vNBQWUsRtZZBAHT8Ucr776agIAODypoa0CIsOHD/eXmGsUqyiJ0o4qVarkDg66tEjg1FNPdQVM+vbt6y9JfMxll11m27dvt/fff989Xr3kkQcjNe71mPQGAHRwPOaYY1yqf0oONgDQunVr93rJP7syHcgAwOGO3jBEC/seooH9DtFwqDMAVItKnUiR6frqeNK5rjreRD3/SvlXav+0adPcuXBy6vk///zz3Tm5Hqs6V2lRQ1SXC3z99df3Vv5XB1uNGjXs888/t/r167tlODSinQFADQActHz5Dn2jNggMRMandMCLpHH5hyPVPdB/5shJ9MOga8QyMWXJ5J+IsN8xZfnEvscUjYn9jika0yHc75TNqt52XdNfWbRqxKvT7KmnnnKN8iDbVY1/XQJQmaU6X/7nn3/cpHNmbaPMXTX+K1So4Kr6qzMs2Ebrg23UuFenl+bVGFX2gTJ2VXRQGQEa/nrGGWdYw4YN9z6O6dBN0UQAAPv19ddf+/cS6XIgGhufWjRRqfwaix9J80pB0mNU2ESpS6otEFCUUQeoQBDN1GX5Asmvz6/x/4pKJg8MBDTePy4uzp87cPocwWVXAlwKBQAAAJlBxfqUJavaWToP1fh/ZQOo4LYoKKBhuL///rvLVi1VqtTeSTW3RFkByg7Q1QTKli2bZJuAzp117q1U9ICG4aqwtoYgqGaAshHSunQgjlwEALBfuq7oXXfd5Q4UKhKig1PXrl39tftSoTwddHSw0nh/pR7pGqU6iInG/+sapTqgKbigQMCNN96YpEdf93VtU0VBf/zxRzf2SeOYIunKBEqhUbVUFehbtmyZS13S+xTVJ1AEU/Pr1q1LNVCQmltvvdU9Z48ePdxzKNI6cuRIfy0AAABw6OiKViq0vWrVKjdsVle2evjhh/cWsda5rXr6U5o0PFY0BDal9ZoCwfMEj5HcuXO7OgOqHfDvv/+6xr+CADgKJfzxgVQ1atTIu+2227yExrBXsGBBr0iRIt59993nxcfHu/UVKlTwhg4d6u5Heuedd7zq1at7OXPm9MqXL+89+uij/ppEf/75p9eyZUsvNjbWrR81atQ+z7V48WLvjDPO8PLkyePVqlXL+9///qcjlzdjxgx/C8+bP3++17RpUy9v3rxewkHTO+uss7yEg6Vbt3btWu/888/38ufPv8/jUrJixQq33dy5c/0lnjd58mSvcuXK7n3quYcPH+622bBhg7/F/m3atMk9Zt26df4SIPPt2rXLmzhxorsFshL7HqKB/Q7RwH6HjAjaBrqNBooAIk2KDCrFSNFIZIyyFAoVKuSyEIoVK+YvBTKXMl6mTJniimVGe6wZwoV9D9HAfodoYL9DRgRtA4oAAgAAAACATEMAAKExcOBAd23TlKbmzZv7WwEAAADA0YkAANI0c+bMoyb9X0X9dCWBlKZhw4b5WwEAAADA0YkAAEKjaNGiVrly5RSnMmXK+FsBAAAAwNGJAAAAAAAAACFAAAAAAAAAgBAgAAAAAAAAQAgQAAAAAAAAIAQIAAAAAAAAEAIEAAAAAAAACAECAAAAAAAAhAABAAAAAAAAQoAAAAAAAAAAIUAAAAAAAACAECAAAAAAAABACBAAAAAAAAAgBAgAAAAAAAAQAgQAAAAAAAAIAQIAAAAAAACEAAEAAAAAAABCgAAAAAAAAAAhQAAAAAAAAIAQIAAAAAAAAEAIEAAAAAAAACAECAAAAAAAABACBAAAAAAAAAgBAgAAAAAAAIQAAQAAAAAAAEKAAAAAAAAAACFAAAAAAAAAgBAgAAAAAAAAQAgQAAAAAAAAIAQIAAAAAAAAEAIEAAAAAAAACAECAAAAAAAAhAABAAAAAAAAQoAAAAAAAAAAIUAAAAAAAACAECAAAAAAAABACBAAAAAAAAAgBAgAAAAAAAAQAgQAAAAAAAAIAQIAAAAAAACEQIyXwL8PIBNs3rzZChUqZJW6j7M9OfL5S4HMFZvdsyH14qznnOy2My7GXwpkPvY9RAP7HaLhUOx3Kwe3dLdxcXHWr18/e+ONN2zNmjVWunRp69Chgz3wwAMWExNju3fvdvenTJliy5cvd+eWTZo0scGDB7ttA+vXr7fOnTvb5MmTLVu2bNa2bVt76qmnLH/+/P4W+9qxY4d1797dxo4dazt37rRmzZrZ888/byVKlPC3wKEUtA02bdpkBQsW9JdmHTIAcMRo3LixdevWzZ/LHDrQXnLJJf5cyrLifQAAACA8HnnkEXvhhRfs2WeftR9//NHNDxkyxJ555hm3ftu2bfb9999b79693e348eNtyZIldtFFF7n1gWuuucYWLVpk06ZNs/fff98+++wzu/nmm/21KbvzzjtdwODtt9+2Tz/91FavXm1t2rTx1+JoQwAAiKAI6ciRI/05AAAAIPPNmjXLLr74YmvZsqUdd9xxdumll1rTpk1tzpw5br16jNWov/zyy+3EE0+0008/3QULvvvuO/v111/dNgocTJ061YYNG2b169e3hg0bugCCevbVqE+JeqFfffVVe+KJJ+zcc8+10047zUaMGOHez1dffeVvhaMJAQAcVjQiZc+ePf7coaXUqvj4eH8uZTq4Fi5c2J8DAAAAMt+ZZ55pn3zyiS1dutTNz58/37744gtr3ry5m0+JGu8aHhCcu86ePdvdr1OnjpsXDRPQUICvv/7aX5KUAggaXqDtAlWrVrXy5cu758PRhwAAMp3GEnXp0sWOPfZYy507t4tGfvPNN27dzJkz3YHrww8/dBHH2NhYd7D7999/rV27dm68UqlSpezxxx9320fS8959991WpkwZy5cvn4t06vkC6snXQXDSpElWvXp199xBhDQ1yYcApOd9AAAAAAejV69eduWVV7rGd86cOa127dpuyKlS+lOicfv33HOPXXXVVXvHkat2gM63I+XIkcOKFi3q1qVEy3PlyrVPB5jG/6f2GBzZKAKITNe1a1d75513XDpShQoV3HgmNcp//vlnW7BggZ1zzjlWs2ZNe+yxx6xixYpWpEgRV+Tkgw8+sOHDh7sD2X333efGJN1www325JNPuue96aabbPHixXuLn0yYMME97ocffrAqVaq4AIDGPNWtW9ceffRRK1asmJUrV87y5s3rHp8SBQA2btxoEydOdPO33Xbbft9HcgpMaAqo0Idet3qPsbYnJ0UAkTVis3nWv0689f42m+2MpyAWsg77HqKB/Q7RcCj2u4X9mrnbcePG2b333muDBg1yHVfKAFBHl86b1RkVST32Ggrwxx9/2Mcff7w3AKBz4tdff93VAIikzrI+ffrYLbfc4i/5z5tvvunOqbdu3eovSaSMhEaNGrn3g0NLbYPixYtHrQggAQBkKvWgq0GvxvjVV1/tlumgpbFNimqqca4AgBrcGvckOgCpsa4qqJdddplbpoqmZcuWdQ16NbzVk69ggW4jK58qfalevXo2cOBA95rXX3+9zZs3z0455RR/i7RFBgDS8z5SogquDz74oD/3nzFjxqQZfAAAAEA4dezY0VXsb9Gihb/E7K233nIdT88995y/xNxQWXVs/fXXX/bQQw8laUAqGKDx+6NHj/aXJA6B1Xlsz549Xd2A5NQZp+CAzncjrxSgoECrVq32KTKIg6eCjmoXEQDAUUkHFTW+V65c6Xr/A61bt3aBAUU0FQD4/fffXXRSFPGsVauWrVq1yo0/CigVSpFINbzVK3/hhRe61P9I6nlX1VJFURUAUKRTKVIaZpAekQGA9LyPlJABgMMBvWGIFvY9RAP7HaLhUGYAlCxZ0nUgRfbS60oAr732mst4FXWiKeVfWbTTpk2zY445xi0PqAigzrtVvO/UU091y7SdzplXrFiRpNMsoEaolitzIKj8r6sL1KhRwz7//HM3xBaHFhkAOKqlNwCwYcOGvWOP0tPwVgM/uMxJ9uzZ/S0SKXqpg6gCAMoyUIM+vQ5FACC54FqflbqPsz05CAAga3BNbEQL+x6igf0O0XAo9ruVg1u6W52Dqgf/pZdespNOOsnmzp3rMk417FSBADX+dWUAXQJQl/eLvEa/xvhrHL+oaKCyA1588UX3GGXDqiigMlFFwwbOO+88GzVqlMualU6dOtmUKVPcubMapJ07d3bLdSUAHHpB2yBaAQCKACJTVapUyR2QvvzyS39JYvRSRQA1vikleoyKn0RWK1WAIKiKKmqEK6Vp7dq1Vrly5SSTGv+HQnreBwAAAHCwdLk+NfBVf6patWpu/L+yAfr37+/Wq+GuGlrKmlUHlYpTB1NkQ13p/yokqEa+hhOo+PbLL7/sr008D1cPv9LQA0OHDnVZAhqCcPbZZ7tz6fHjx/trcbQhAIBMpRR9RRV79OjhrkuqFCaNKdJBR2OdUqIefK3TY6ZPn24LFy50UVFdwiRwwgknuAwAZRDoAKW0Jl0nVYVKNDzgUEjP+wAAAAAOVoECBVx2qTJPt2/fbr/88os9/PDDe3v2VT9LidspTY0bN3bbiLIB1Nu/ZcsW18OsQtaRY/uD54l8jK7SpToDqnWl+l06tz5UHWo4/DAEAJlOY/BVeERVRnUwUhqSIo0qAKjL9iUfAiAqwKfAgQ5AOiB2797dNewV8QxS7xXB1IFRKUyKimosjYqbaPyUxi0d7BAASc/72J8gzWfdunWuqCCQFfT/Q+l8iv4rkwXIKux7iAb2O0QD+x0yItpDAAgAAJmMAACigZMSRAv7HqKB/Q7RwH6HjKAGAAAAAAAAyHQEABAqGgOV2qRLnQAAAADA0YoAAEJl3rx5qU6qTQAAAAAARysCAAiV5JcMjJzy5MnjbwUAAAAARx8CAAAAAAAAhAABAAAAAAAAQoAAAAAAAAAAIUAAAAAAAACAECAAAAAAAABACBAAAAAAAAAgBAgAAAAAAAAQAgQAAAAAAAAIAQIAAAAAAACEAAEAAAAAAABCgAAAAAAAAAAhQAAAAAAAAIAQIAAAAAAAAEAIEAAAAAAAACAECAAAAAAAABACBAAAAAAAAAgBAgAAAAAAAIQAAQAAAAAAAEKAAAAAAAAAACFAAAAAAAAAgBAgAAAAAAAAQAgQAAAAAAAAIAQIAAAAAAAAEAIEAAAAAAAACAECAAAAAAAAhAABAAAAAAAAQoAAAAAAAAAAIUAAAAAAAACAECAAAAAAAABACBAAAAAAAAAgBAgAAAAAAAAQAgQAAAAAAAAIAQIAAAAAAACEAAEAAAAAAABCgAAAAAAAAAAhQAAAAAAAAIAQIAAAAAAAAEAIEAAAAAAAACAECAAAAAAAABACMV4C/z6ATLB582YrVKiQVeo+zvbkyOcvBTJXbHbPhtSLs55zstvOuBh/KZD52PcQDex3OFArB7d0t8cdd5ytWrXK3Y902223WY8ePez444/3lyT11ltv2SWXXGLdu3e3Z555xl+a1F9//WXHHnusP5fU+vXrrXPnzjZ58mTLli2btW3b1p566inLnz+/vwWOVkHbYNOmTVawYEF/adYhAwDwdejQwR3I09K4cWPr1q2bPwcAAIAj2TfffGN//vnn3mnatGlu+WWXXWblypVLsk7Tgw8+6BrpzZs3d9s1bNjQfv311yTbNGvWzBo1apRq41+uueYaW7RokXu9999/3z777DO7+eab/bVA5iEAAPgUdR05cqQ/BwAAgKPdMcccYyVLltw7qTFeqVIl14DPnj17knWaJkyYYJdffvnenvrY2Ngk6/WY6dOnW8eOHd36lPz44482depUGzZsmNWvX98FEZRFMHbsWFu9erW/FZA5CAAgFOLi4iw+Pt6fS5lScQoXLuzPAQAAIEx27dplb7zxht1www0WE7PvUJLvvvvO5s2bl2bjftSoUZY3b1679NJL/SX7mj17tjvnrFOnjr/ErEmTJm4owNdff+0vATIHAQBEjcZcPfnkk/5colq1alm/fv1MpSl0W758eRdZLV26tHXp0sXfymznzp129913W5kyZSxfvnwuejpz5kx/rbmefB1YJ02aZNWrV3fPofSstCQfAvDvv/9au3btXIS3VKlS9vjjj/trAAAAcLSZOHGibdy40Z0TpuTVV1+1atWq2Zlnnukv2Ze2ufrqqy1Pnjz+kn2tWbNmn+EBOXLksKJFi7p1QGaiCCCiRgEAjaePHFOvAIAa4SeffLKLrioV6qSTTnIHw/nz59tNN93kttPt4sWLbfDgwS44oHSsBx54wH744QerUqWKCwBoHFXdunXt0UcftWLFirlxXIrIpkYHex30dfAXFX/54IMPbPjw4e4gfd9999mnn37qosLJAxeRFJzQFFChD7129R5jbU9OigAia8Rm86x/nXjr/W022xlPQSxkHfY9RAP7HQ7Uwn7N/Hv/admypeXMmXPvuWCk7du3u44pnQ/eeeedbtnu3bvdGP7zzz/fPe6rr76ys88+292eeuqpbpuU6Pz19ddfdzUAIqljq0+fPnbLLbf4S3A0UtugePHiUSsCSAAAUZNWAED/GV566SVbuHChO6BGUk9+xYoV3a0a/wGlTtWrV88GDhzoAgDXX3+9S9M65ZRT/C3SFhkA2Lp1qwsaKA1MRWBE1VrLli3rAgtpBQCUuaACMcmNGTMmzQAEAAAAomPt2rV266232j333OMyS5ObMWOGPffcc66HX8NGU6Jx/MuXL7ehQ4f6S1L28ccf24gRI2z06NH+ksThqjrn7Nmzp51++un+UhyNtm3b5rJECAAgdNIKAKj3v0GDBm4owAUXXGAtWrSwVq1aufQo9cpfeOGFLvU/knrd27RpY+PGjXMBAEVPd+zYkeIYrpREBgCUbaD3osvCKNobqF27tisKQwYADnf0hiFa2PcQDex3OFDJMwAeeughV5RPDXidbyanjiZ1Duk8MxCZAaBzP50zPvzwwy6LNC0qAqgOqshMAT2Pzm9XrFiRpIMLRx8yABBa6sXX9U+DNCpRur+in+pFV6qVIqQ6IL799tvuOqxKwR8/fvzeS6eo0mokjddXBVYFABRYUIM+vQ5VACC54FqflbqPsz05CAAga3BNbEQL+x6igf0OB2rl4Jb+PXOFonWeedVVV7n0/OR+/vlnO+GEE2zKlCmuYyqgAICWqaNq1KhRdscdd7jLACYvKj1nzhxXV+qTTz5xaf6iywj+9ddf9uKLL7rnUeaqigIqYxRHt6BtEK0AAEUAETW67IoOkgH9Z1DUM6DiKer1f/rpp12BP1VM1Rh/NcKVJqVUrcqVKyeZ1Pg/FHT5Fw09iKzEumHDBlu6dKk/BwAAgKOBOpw0tFR1nlKielAaBtq0aVN/yb40NECZqCldUUop30uWLHEN/YDS/6tWrWrnnXeeCyDoUoAvv/yyvxbIPAQAEDXnnnuuK4Dy+eefu4Z9+/bt9/boqwdfB1LVAFAqlsbiKyBQoUIFF4FVBoAiqcoGUNBAkdVBgwa54QGHgjIJNAyhR48e7lqueh/KENDlWQAAAHD0UMNeSdE6x0yJ6kspQJDWeeCsWbOSjOmP1LhxY/f8Gv4aUMV/9fZv2bLF9QQryKDzTyCzMQQAUaMefxXU+/DDD10aTP/+/V3RFNUAUPq9UrA0Rkq9/TVq1HBjqhQlFUVQNa90qz/++MONo1HBFBXf07YHOwRAVAiwU6dOLshQoEAB6969uwsw6L1lZAjAunXr3NgxICtEpiUmL6QJZCb2PUQD+x2igf0OGRHtIQAEAIBMRgAA0cBJCaKFfQ/RwH6HaGC/Q0ZEOwBAPjMAAAAAACFAAAChoXFVqU2qQwAAAAAARzMCAAiNefPmpTrpsisAAAAAcDQjAIDQSH7JwMhJVxgAAAAAgKMZAQAAAAAAAEKAAAAAAAAAACFAAAAAAAAAgBAgAAAAAAAAQAgQAAAAAAAAIAQIAAAAAAAAEAIEAAAAAAAACAECAAAAAAAAhAABAAAAAAAAQoAAAAAAAAAAIUAAAAAAAACAECAAAAAAAABACBAAAAAAAAAgBAgAAAAAAAAQAgQAAAAAAAAIAQIAAAAAAACEAAEAAAAAAABCgAAAAAAAAAAhQAAAAAAAAIAQIAAAAAAAAEAIEAAAAAAAACAECAAAAAAAABACBAAAAAAAAAgBAgAAAAAAAIQAAQAAAAAAAEKAAAAAAAAAACFAAAAAAAAAgBAgAAAAAAAAQAgQAAAAAAAAIAQIAAAAAAAAEAIEAAAAAAAACAECAAAAAAAAhAABAAAAAAAAQoAAAAAAAAAAIUAAAAAAAACAECAAAAAAAABACBAAAAAAAAAgBAgAAAAAAAAQAgQAAAAAAAAIgRgvgX8fQCbYvHmzFSpUyCp1H2d7cuTzlwKZKza7Z0PqxVnPOdltZ1yMvxTIfOx7iAb2u6PLysEt3e1xxx1nq1atcvcj3Xbbbfbcc8/5c2ZqzrRo0cKmTp1qEyZMsEsuucRfk2jkyJH2xBNP2NKlS61gwYJ22WWXJXl8cjt27LDu3bvb2LFjbefOndasWTN7/vnnrUSJEv4WiXbv3m1Tpkxxr50zZ05/KZC2oG2wadMmtz9mtaM6A6Bx48bWrVs3f+7wdCS8x/TQgbVw4cL+3OFv5syZFhMTYxs3bvSXAAAA4HDyzTff2J9//rl3mjZtmluuBnykJ5980p3XpUQN//vvv9969eplixYtso8//tg16NNy55132uTJk+3tt9+2Tz/91FavXm1t2rTx1wJHNoYARNn48eOtf//+/tyR64orrnBRVQAAAOBQOOaYY6xkyZJ7p/fff98qVapkjRo18rcwmzdvnj3++OM2fPhwf8l/NmzYYA888ICNGjXKrr76avfYmjVr2kUXXeRvsS/1yr766qsucHDuuefaaaedZiNGjLBZs2bZV1995W8FHLkIAERZ0aJFrUCBAv7ckUnpT3ny5LFjjz3WX5Ixep5DbdeuXf69Qy8znxsAAAD/0XnXG2+8YTfccMPe3v5t27a5hr3S+RUgSE4ZA/Hx8fbHH39YtWrVrGzZsnb55Zfbb7/95m+xr++++86dkzZp0sRfYla1alUrX768zZ49218CHLmOmgDAv//+a+3atbP8+fNbqVKlXCQw0uuvv2516tRxjW0dIHSwWLt2rVuncUOVK1e2xx57zM0HFFHUAebnn3922/Tr18/954+NjbXSpUtbly5d/C3TpjFDVapUsdy5c7uxQ5deeqm/Zt8hABrrNHDgQHdw03vV67388sv+2kS///67XXXVVS54kC9fPve5vv76a3+t2XvvvWennnqqe72KFSvagw8+aHv27PHXpk2f94UXXrDmzZu7Rr0e/8477/hrzVauXOm2GTdunIu+6jVGjx6d4hAAPY8irbly5bITTzzR/Q0iBa+lKKw+x4ABA/w1qVMaVr169dzfQH9npXNFfjZ9n3fccYf7TosXL743xUvjs0444QT3mc455xz3OZL74osv7KyzznLblCtXzv19tV8F9LdRtob2M43Xufnmm/01AAAAyEwTJ050Qzc7dOjgL0lM1T/zzDPt4osv9pcktXz5chcA0Lm1hgnonHb9+vV2/vnnp9qRs2bNGnfumvy8VufwWgcc6Y6aIoAqBvLBBx+49B/1RN93332usaiGtP7Da7kajGqIquF/1113uf/YahiKDgxqyGpsUKBr164uCKDn0QGjY8eOrhjISSed5A4A8+fPt5tuusnfOmXffvutnX766a7xqwOUDjqff/753uCBGqy1atVy71HUyNyyZYtraDZt2tS9rsYtLV682L33rVu32imnnGJlypRx71nBjO+//941WM844wz33BdeeKE9/fTTrjH7yy+/uIaqDpZ9+/Z1r5EWNcqLFStmgwcPtrPPPtu970GDBtkPP/zgIqdqOB9//PHufSrIUrt2bRcE+Oijj1yjOxhTrwIsGhagz6UIqlK2evbs6SKxaoCLXkt/K72Wggk5cuRwAY/UKHqrRrw+S+fOne2nn35y3//tt9/ugjOi71OR206dOrm/l+TNm9cFYLSdvgv9TVTY5a+//nKpYdoP9D3pe3344YetZcuW9vfff7tAgpYp7Uv0mbV9nz599haXUYAjORWL0RRQoQ/9far3GGt7clIEEFkjNptn/evEW+9vs9nOeApiIeuw7yEa2O+OLgv77TtGX+dnKrSnQIBojP4999xjc+bMcR2Aooa7xu0HAQGdY+q8TW0ENfpF53g6L5s0aZI7107uzTffdOeXOueOpPN4na/qvDigTAGd2+q5KQKI9FLbQB2V0SoCeFQEAPQfVI1WpQUFRUHU0Faajxp8QeM6khqBdevWdY1tHTRU3EONT43vUQ+z/kOrl19ZAe3bt3fjgF566SVbuHDhAf0H1xj/66+/3vXap5Tqn1IAQA13NbxFfx418tWLf+utt7psgLvvvts1xJUBkJwa2+edd57de++9/hJz34sa3/qM+6NGuV5HPfMBBTCUUaBMhiAAoPerAElAGQCRAYAGDRq4QElk9oJSrtSjroOw6LX0mKFDh7r5/VEg5N1337Uff/zRPVb0nnTw13+gbNmyue9T/6kUFAkoGKSsiMjgjjIHHnnkkb0BgBtvvNGyZ8/u/sYBZQToQK/3rCCH/jYKeCi4kRYFI/T3Sm7MmDEuGAEAAID0U+edzk91zle/fn23bNiwYe6cMjgnFPX263xQnVbKLP3kk0/smWeecduqwRXQuf0111yTYgBgwYIFLmig8+cgsCAKCrRq1SrN+gFAegRDVwgARFAjMnnaTVrUE69GtC4TEtmDrMaaGnBqrKpXWA0zbatGnw4Q+vLVKKxevbrbXtFCZQm8+OKLruGunmb19KvRprFCatTq67rgggvc5T50EFCvdVoUYNDjVLlUj9PUunXrvQ3BlAIA6qnu0aOHmxf1Qrdt29YdjJTpoPesrISUqFiKAiJqzAbi4uLc5UzUkN1fA1QH0ddee82luQeUXqVMiBkzZuwNAKhxrM8VSB4AUHBCDXsdYANPPfWUm5SOJXotHVx1AE4PVV/VJTOCHnlJ/rfX96ne/ldeecXfwtz3XaRIkSTFYRQQUC9+EABQMEgH/Mjgjv7W2keUfaEfEv1tdPBXICItZADgcEBvGKKFfQ/RwH53dEmeAfDQQw+5RrzOIYNzb52jr1u3zt0PqMNKnXbKFtD5qgpUn3zyye7ygCroJ+okVCefMgiCrIBIapRpvTrjgsr/S5YssRo1arhM2yAAIWQAICOinQEQ9RoA6oXVePKAeonVm68UdzXuDgU1fDUWXF+w0vx1SZGgFzdy/I96gZXiv337dtfIVAp70GBWA07/+dXjrDHiaogrRX5/hevU66/eaKUTKbigRrwa9EFDOSXJDyBqKCtgIXrttKjxr95nNdiDSen7y5Ytc73Yh4rG7B8Kh+p5ImXkOfW93XLLLUm+N+1/+t4i0/zT89yqT6B9LXISnZDo2sRMTFky+SfA7HdMWT6x7zFFY2K/O6omnQsHkzq1Ro0a5TqVdB4cLNe5uTr7IidRw19DRrWNslHVwaehnzr/17m8zvdV1C9otCu7QI37uXPnunk1zDSMVNmz6vBSB5EyijXUtmHDhntfP5gk+TImpv1N0RT1AIB62/UfWBRB0/Thhx+6InSRveBpUQNNX2RkITz17AaXpdNY8X/++ceNA1J6vf7TBwUAI6lXXw08pb8rUqj6AZF00FGvv8bX6zryqgSqxvX+KFKp1PwhQ4a4g4h60adPn+6vPTC6dIkap4pepkSRTx3cVNQw+aSUqPRIfokTzasH/EBo+y+//NKfS6T5INsiI/Sc+s4jk1b0nAqyaLhHavQ4jQ+LlPwz6ntTT39K35vGkwEAACDr6br9v/766z7n5eml4IF67ZUVoMxgtRl0nh80wtSZp3NnZX0GlMWqmlrKwFWHn4bjKjsYOBpEPQCg9J0gAKBCccoA0HgcRd0UqUsPjc9RpE4BAzWsNU5f6ftBg1ep4WrEaQyQUodU9COla+8rwqjHafy80sgV6QsoxV3XBNVz6zmUuq6AQIUKFfwtUqbPpICBGu1KU9dBSL35KuiXEar+r4OQ0tfV+NV70bj44LIkyjDQaygLQEMFNF5eWQ26Bmp6qXiK0uUVQFHhQDWeVRDvQOhvoe9MwRT1oisdSwdO1S/IKGVdaChGUABQafx6fyromFZwQ2PG9B70nnSA11h8vbdIGlOm+g/6nPpbaXs9/4F+bgAAABw6aheo80e9+vuj7YJCzQFlYuocXp2D6hDU+WjQ9hAN8dTjNIw0oKxZXVpQHW7KJNZjdP4NHBUSdvioKlWqlJfQkHX3E/5je2+99Za7n9DA8woUKODup8eWLVu8a6+91subN69XokQJb8iQIV6jRo28rl27uvUJjT4v4T+4Fxsb6yU07L1JkyapG9mbO3euWx/45Zdf3HI9PtKECRO8+vXrewkHES9fvnze6aef7n388cf+2tR9/vnn7n0UKVLEy5Mnj1ezZk1v3Lhx/lovyXuUChUqeEOHDvXnEp1yyileQkPXn/O8lStXem3btnXvRZ+3Tp063tdff+2v9bypU6d6Z555pns9bVOvXj3v5Zdf9temTZ894YDnnX/++e670ncW+X5XrFiR4vc2YsQIr1ChQv5coueff96rWLGilzNnTve3HTVqlL8mkZ5H3+uBmDlzple3bl0vV65cXsKB2EtouHu7d+/21+77fQYmT57sVa5c2X2ms846yxs+fLh7/YQfA38Lz5szZ4773Pnz53d/Y/2tBgwY4K9N+W+THps2bXKvtW7dOn8JkPl27drlTZw40d0CWYl9D9HAfodoYL9DRgRtA91GQ9SLAKqHVb3k6nHX2Bulx6tHX73WSpmPrOaeFVTcQ1X01dOs632GjeoNqD5C8ugpMk6FPlS8UIVqVN8CyApKadRlTjW0KdpjzRAu7HuIBvY7RAP7HTIiaBuEtgigxtgoCKCx4Rr/H1xuQ1XzlfKdVVS1XZfq05UCdCnBMDb+AQAAAABHr6gHABQt07hwXR4uqN4puvScqnRmFVXp13h+VedX5kF6KWNAQYvUpsOJroCQ0nvUpCqp0aax+im9N01aBwAAAADIuKgPARBdZ/Oll15yBe1UzE4NcV0XX5fx0KU7Dme6ZOAff/zhz+1LVeQPF1u2bLG//vrLn0tKgZj9FTTMbLoyg1JiUqL0mGOPPdafO7IwBADRQFoiooV9D9HAfodoYL9DRoR+CICqxKuKuy77p973uLg4t7xw4cIuCHC405UAIi8Zl3w6nOhyeSm9R03RbvyLGvgpvTdNR2rjHwAAAAAOF1EPAOjSfK+88ordf//97jJ8gTp16qTrGvsAAAAAAGD/oh4AWLFiRZKx/4HY2Fh33U0AAAAAAHDwoh4A0Dj/efPm+XP/mTp1qlWrVs2fAwAAAAAAByPqAQCN/7/99ttt3LhxpnqEc+bMsQEDBti9995rPXv29LcCAAAAAAAHI+oBAF3q75FHHrEHHnjAtm3bZldffbUrDKjLAl555ZX+VgAAAAAA4GBENQCwZ88eGzVqlDVp0sSWLVtmW7dutTVr1tjvv/9uHTt29LcCAAAAAAAHK6oBgBw5ctitt95qO3bscPN58+blcm8AAAAAAGSCqA8BqFevns2dO9efAwAAAAAAmSHqAYDbbrvNunfvbs8++6zNnj3bFixYkGQCAAAAAAAHL+oBABX6W7FihXXp0sUaNGhgtWrVstq1a++9BQAAAAAABy/qAQA1/pNPy5cv33sLAAAAAAAOXtQDABUqVEhzAgAAAAAABy/qAQBdBjCtCQAAAAAAHLwYL4F/PyqKFCni30u0e/du27Ztm+XKlctdFnD9+vX+GuDItHnzZitUqJCtW7fOihUr5i8FMpeOpVOmTLEWLVpYzpw5/aVA5mPfQzSw3yEa2O+QEUHbYNOmTVawYEF/adaJegbAhg0bkkxbt261JUuWWMOGDe3NN9/0twIAAAAAAAcj6gGAlFSpUsUGDx5sXbt29ZcAAAAAAICDcVgGACRHjhy2evVqfw4AAAAAAByMqAcAJk2alGR677337MUXX7Rrr73WGjRo4G8FAAAAAAAORtQDAJdcckmSqU2bNtavXz+rWbOmDR8+3N8KAAAAAAAcjKgHAOLj45NMcXFxtmbNGhszZoyVKlXK3woAAAAAAByMqAcAHnroIXfZv+S2b9/u1gEAAAAAgIMX9QDAgw8+6C79l5yCAloHAAAAAAAOXtQDAJ7nWUxMjD/3n/nz51vRokX9OQAAAAAAcDCiFgAoUqSIa+Cr8X/CCSe4+8FUqFAhO//88+3yyy/3twYAAAAAAAcjagGAJ5980p544gmXAaBU/6FDh+6ddBnAL774wp577jl/awAAAAAAcDCiFgBo3769dejQwWbMmGGdOnVy88F01VVX2RlnnOFvCQAAAAAADlbUawA0atTIcubM6e7v2LHDNm/enGQCAAAAAAAHL+oBAFX7v+OOO+zYY4+1fPnyudoAkRMAAAAAADh4UQ8A9OjRw6ZPn24vvPCCxcbG2rBhw1xNgNKlS9uoUaP8rQAAAAAAwMGIegBg8uTJ9vzzz1vbtm0tR44cdtZZZ9kDDzxgAwcOtNGjR/tbAQAAAACAgxH1AMD69eutYsWK7n7BggXdvDRs2NA+++wzdx8AAAAAABycqAcA1PhfsWKFu1+1alV766233H1lBhQuXNjdBwAAAAAAByfqAYDrr7/e5s+f7+736tXLXfs/d+7cduedd7r6AAAAAAAA4OBFPQCghn6XLl3c/SZNmthPP/1kY8aMsblz51rXrl3dcgAAAAAAcHCiHgCItGPHDqtQoYK1adPGatas6S8FAAAAAAAHK+oBgLi4OOvfv7+VKVPG8ufPb8uXL3fLe/fuba+++qq7DwAAAAAADk7UAwADBgywkSNH2pAhQyxXrlz+UrOTTz7Zhg0b5s8BAAAAAICDEfUAwKhRo+zll1+2a665xrJnz+4vNTvllFNcPQAAAAAAAHDwoh4A+OOPP6xy5cr+3H/i4+Nt9+7d/hwAAAAAADgYMV4C/35UnHbaae5KANdee60VKFDAXRKwYsWK9tBDD9m0adPs888/97cEjkybN2+2QoUKWaXu42xPjnz+UiBzxWb3bEi9OOs5J7vtjIvxlwKZj30vXFYObulu+/XrZw8++KC7HzjxxBP3ZnM2btzYPv30U3c/cMstt9iLL77ozyXSsNAnnnjCli5dagULFrTLLrvMXSI6NSog3b17dxs7dqxt27bNLrjgAvecJUqU8LcAMo86K6dMmWItWrSwnDlz+kuBtAVtg02bNrnjXFaLegZAnz597I477rBHHnnE9fqPHz/ebrrpJlcbQOuwf/pR7datmz+Hg6ETj8KFC/tzKdNJTq1atfw5AAAgJ510kv355597py+++MJfk0jnd5HrVf8pkhr+999/v/Xq1csWLVpkH3/8sTVr1sxfmzJ1Ik2ePNnefPNNe/jhh93z6mpSAICURS0AoGr/Sj64+OKL3YFbB/l8+fK5Rv+PP/7olp1//vn+1jgSrFy50mJiYmzevHn+kug77rjj7Mknn/Tn9u+KK65wvQ4AAODA5MiRw0qWLLl3Kl68uL8mUd68eZOsj+z52rBhgz3wwAOuNtTVV19tlSpVcpeEvuiii/wt9qXeM10xSoGDc845xw0pfeWVV2zWrFn21Vdf+VsBACJFLQBQpUoV+/vvv939s846y4oWLWo//PCDS99SxLhp06ZuHY4Mu3bt8u8d2fLkyWPHHnusPwcAANJr2bJlVrp0aTeUU8Wdf/31V39NotGjR7uggK70dO+997pzvoCGfSoTVLWhqlWrZmXLlrXLL7/cfvvtN3+LfX333XcuBbtJkyb+ErOqVata+fLlbfbs2f4SAECkqAUAkpce+PDDD+3ff//155AafUft2rWz/PnzW6lSpezxxx/31yTauXOn3X333VamTBmXUVG/fn2bOXOmv/a/FPeJEye6IEzu3Lldel3kD+wvv/ziMjM0fk6vU7duXZehEUk96/3793fvRRH8m2++2Y4//ni3rnbt2i4TQEMTpEOHDnbJJZfYwIED3XPq9VXjYc+ePdajRw8X/NEP/YgRI9z2Ab0n/fhre22j96Qsg0DwvI899pj7LooVK2a333773uKRev1Vq1a59EC9H037k9IQgMGDB7v3rRoVHTt2dOMNAQDAf3S+od/QqVOn2gsvvGArVqxwHTxbtmxx69Wr/8Ybb9iMGTNc4//111939Z8CygxVAEDnCsrce+edd2z9+vUuGzS1ToY1a9a4S0gn/93Wb7bWAQD2FbUigNmyZXMH56C3NbIAIFJ322232QcffGDDhw933919993niurccMMN7gdT4+sWL17sGq2Kwk+YMMGl1Cm7Qg1+/Tirsa7LLD799NPuh1PPqbS9L7/80r2G/g5KnWvQoIHFxsa6dDw1spcsWeKi6qIAgNL1NGRDjXDRD3W9evVcsEDjAPXcariroa7aDgoWdO7c2b2OGtIKPJx99tmuwM+4ceNcUEAnAAoGqBGv93jGGWe4+gZ6fxrbp2j/ggUL3HPrefX5dFLRtWtX+/nnn10Kf/A96P3oOfR5NS9KOUyLvh+93saNG938W2+95d63ChA1bNjQnbDoe9N+mtpQBwVhNAVU6KNcuXJWvcdY25OTIoDIGrHZPOtfJ956f5vNdsZTiA1Zh30vXBb2S3mMvn5HlZL/6KOP2vXXX+8v/Y8CAToP0LBPpfvrvEXnFDrHCYaAKlNUv5+TJk1KMTNU4/71+75161Z33qAsAj22UaNGbho0aJC/JZA5Ivc7igAivdQ2UDZUtIoARi0AoGv+KwBwzDHHuHkFANSwC3qRsS/9wKmXWxF0NZpFjVw1mNXIveuuu1zDVCl3avwHlBqnhrmi6mrg6odYDXxF60UVepVu9/XXX7vtUqJ0vVtvvdUVbBQFANTTrwZ4QL3z+vvNnTs3SZE8NdSVhaDGvQI/ohQ9BTA+++wzNx8XF+eqYQ4bNsyuvPJK9xnV4NeJQdBzrx6AIHtBJwLB8ypjQfuTKGNAr6FqwKL3qQZ9eoskJg8AnHnmme5zRlYgPv30010WQGoBgJQqIcuYMWPc+EcAAMJAGYkKxF933XX+kv/od1S/93379nW/s5988ok988wz7jwgsnZA+/bt3XCClAIAOm9U0EDnDMpYDCgo0KpVqzTrBwBAtGj4kzowQxcAUCOtefPmrodZVPTv3HPPdWnrkdRzjETqmVfDWmntQU+86IdTkW5FHy+88MJ9vkP1RqsirnrZ1cDVD6OWBY1xKVKkiOs51w+tAg1qxCoKr2q6StXfvn27u8xOULFXDWs9j6r1BtIKACiKr+cL6P0qqBDZsK5QoYJ7jS5durihAUOHDnVDFCLpP4we06lTpxSfV5kAynaYPn26mz/YAIC+l6eeesplAQQ0pEA9F2QA4HBGLyyihX0vXFLLANC5hHr2e/fuvbfzIJIK9Wmo3rfffuuK/akAr84LNIRA54OiTg51aKRWGFonz1qv7Dw1+NUTq3MJnRfpMtJBRweQWcgAQEZEOwMgajUA1NBUD7B6fTVpHJgO4sF8MCH99GOrnnClyatxGkzqRVcjNr0UsVfPvjIG9AOq56hRo8Y+Y/CSBxrSkvygqF79lJZp/J/os5x22mlJPocmnSAoYhZI6zmiRUEt/WeOnEQnwromNhNTlkx+w4v9jinLJ/a9UE36Hdakcf1q1KuI3zfffOMy8nROovM7ZSYqxV899lqvuk8auqhhgPqt1+M1dFC1ftQRoMdr2OGNN97oMgaDxtXatWvd+Yg6GjSvE2gNKezZs6cbXqihgOog0PBBDdsL3hsTU2ZOktJyJqa0pmiKWgBABd/SM+E/iqRrh1GqfkDj8IPL1inirVR6/UBq3F3kFDn2XT36irgH9COrHm8NAxD9iKp3vXXr1u6HVo+NLL6XGo3LF72Hg3Xqqae6asIKEiX/LAcSGNJ7Opj3EwyNiMSlhQAASOr333+3q666yk488UTX+NeQRf1eaqinfotVH0hp/GrQq5Hftm1b17MfSTWH1GvfsmVLlymocx5lBAQny+pt1TlL5NUDlC2o7EfVAFJWogoAkj0KAKmLWgAAB07j2xTpVnq8UtwXLlzoGupBKv8JJ5zgxskpXV0/fqrAO2fOHFcEJzJNXj+kKsanhq2yBfQcGtcejP9XsUA9Xj3uGnagHvf09Kqrsa7L6OnH+q+//nJpLRmlz6HIvnoDlIWgz6Lx/hoeoJOM9NIQANUZUI/DunXr/KXppyEFKrioYJQCLRqruGjRIn8tAAAQ1d5ZvXq1GwKn32nNq+NCNAxOBYv/+ecfN/ZfAX4NKUye+qp5XddfnRvaVuciemxAv+kauRpcZUg0VFBDA3XeoaGOb7/99n4L/gJAqKkGAI4cW7Zs8a699lovb968XokSJbyEH1CvUaNGXkJD1a3ftWuX16dPHy/hR9JLaOh7pUqV8lq3bu0tWLDArU9oyHqFChXy3n33Xa9ixYpebGys16RJE2/VqlVuvSQ0tr1zzjnHS2jMewk/vN6zzz6b5DWkQoUK3tChQ/25/7zyyivuMdmyZXOPkfbt23sJDXl3P5D8+ST5c/75559eu3btvOLFi7v3qfd70003eZs2bXLrU3pePWfwujJ79myvZs2a7vHp2d2D7yfSgAED3HvInz+/e82ePXt6p5xyir92//R+9drr1q3zlwCZT8eCiRMnulsgK7HvIRrY7xAN7HfIiKBtELRpslrUigAiOpIXuUPmU6EPDVtQBoJSIoGsoFTZKVOmWIsWLaI+1gzhwr6HaGC/QzSw3yEjgraBsqWTZ0JlBYYAAAAAAAAQAgQAECq69KRqKaQ06aoHAAAAAHC0IgAQMir4F+b0/2HDhu1zacFguvXWW/2tAAAAAODoQwAAoVKmTJl9LisYTEWLFvW3AgAAAICjDwEAAAAAAABCgAAAAAAAAAAhQAAAAAAAAIAQIAAAAAAAAEAIEAAAAAAAACAECAAAAAAAABACBAAAAAAAAAgBAgAAAAAAAIQAAQAAAAAAAEKAAAAAAAAAACFAAAAAAAAAgBAgAAAAAAAAQAgQAAAAAAAAIAQIAAAAAAAAEAIEAAAAAAAACAECAAAAAAAAhAABAAAAAAAAQoAAAAAAAAAAIUAAAAAAAACAECAAAAAAAABACBAAAAAAAAAgBAgAAAAAAAAQAgQAAAAAAAAIAQIAAAAAAACEAAEAAAAAAABCgAAAAAAAAAAhQAAAAAAAAIAQIAAAAAAAAEAIEAAAAAAAACAECAAAAAAAABACBAAAAAAAAAgBAgAAAAAAAIQAAQAAAAAAAEKAAAAAAAAAACFAAAAAAAAAgBAgAAAAAAAAQAgQAAAAAAAAIAQIAAAAAAAAEAIEAAAAAAAACIEYL4F/H0Am2Lx5sxUqVMgqdR9ne3Lk85cCmSs2u2dD6sVZzznZbWdcjL8UyHxH+763cnBL/95/Bg8ebPfee6917drVnnzySVu5cqUdf/zx/tqk3nrrLbvsssvc/V9//dU6depkM2bMsPz581v79u1t0KBBliNHDrc+JevXr7fOnTvb5MmTLVu2bNa2bVt76qmn3OPDbPfu3TZlyhRr0aKF5cyZ018KZC72O2RE0DbYtGmTFSxY0F+adcgAOIw0btzYunXr5s9ljg4dOtgll1zizx15Jk6caJUrV7bs2bNn6LsaOXKkFS5c2J8DAODgfPPNN/bSSy9ZzZo1/SVm5cqVsz///DPJ9OCDD7pGevPmzd02cXFx1rJlS9u1a5fNmjXLXnvtNfcb1adPH7c+Nddcc40tWrTIpk2bZu+//7599tlndvPNN/trAQBIGwEAHFFuueUWu/TSS+23336z/v37+0sBAMh6W7dudQ3yV155xYoUKeIvNRekLlmyZJJpwoQJdvnll+/tqf/f//5nixcvtjfeeMNq1arlAgP6XXvuuedcUCAlP/74o02dOtWGDRtm9evXt4YNG9ozzzxjY8eOtdWrV/tbAQCQOgIAWUwjLvbs2ePPHVrqTYiPj/fnDi+pncwcCJ1orV271po1a2alS5e2AgUK+GsAAMh6t99+u+vFb9Kkib8kZd99953NmzfPOnbs6C8xmz17ttWoUcNKlCjhLzH3+6bUUPXwp0SPURZbnTp1/CXmXltDAb7++mt/CQAAqSMAcAjs3LnTunTpYscee6zlzp3bReSVEigzZ860mJgY+/DDD+20006z2NhY++KLL+zff/+1du3auZ6AUqVK2eOPP+62j6Tnvfvuu61MmTKWL18+F+3X8wWCdPZJkyZZ9erV3XNrPGF6PPbYY+51ixUr5k5gNIYpsGHDBvfe1JuRN29e1yuxbNkyf61Zv379XG9FJI15PO644/y5/4YaDBgwwDXWTzzxRH9N6tJ6XX3uoMF/7rnnuu808rtIjb6j8uXLu+dr3bq1/fPPP/6aRL/88otdfPHF7gRMf4u6devaxx9/7K81e+ihh+zkk0/25/6jz9+7d29/DgAQNup1//77792Y/f159dVXrVq1anbmmWf6S8zWrFmTpPEvwbzWpUTLda4RSfUCihYtmupjAACIRADgEOjZs6e9++67bvyeTgY0Rl1RfBXqCfTq1csVCVL6nsYJ9ujRwz799FN77733XBqgGrN6bKQ77rjDRft1krFgwQJXNOiCCy5I0hjftm2bPfLIIy4dUD0GyU8MUqJiQ2r46jYYc6gpoMb7t99+6wILen1lLai4SWSQID0++eQTW7Jkyd5xivuT1uvqpEnPJfquNZ4y8kQqJeoNUW+Lvkf1vJxzzjn28MMP+2sTKatAr6H3OnfuXPf9tmrVam8g5YYbbnB/syCgI9pOf4/rr7/eX5KUAjfqwYmcJDab54pjMTFlyZSwv7HfMUVlOsr3Pf0mLV++3BX802+n0v21TL9ZysLT/chJvwFjxoxxv3GRy7WtHhO5TJMoUzD5ck3K9EvtMVqXfHnYJklpORNTZk7sd0wZmaKJqwAcJPXkq8daJwFXX321W6Y/qnrDVaROPcpqeKp4nXqaRY1O9bxr3F9QCVjBgrJly7pCPupNVwO0YsWK7lY96AGl+tWrV88GDhzoXlONUDVuTznlFH+LtOkERMEGBQB00iIak6j0QQUaFFw44YQT7Msvv9zbwFavuQoaKVig96sMAH0evW5A7zmofCx6HY1T1PvPlSuXW5aW9Lzuxo0b3XetwIUKJu6P/h6qrvnBBx/4S8yuvPJK9770XKlRj/+tt97qAgeiAIH+ns8//7ybV7bHDz/84N5HSvT9qNhTcjoBVCYCAODI9tVXX7mgvn47A2rQKztN09tvv733N1a/FRrXrywAVX0O6Ddhzpw57rcz8Ndff7laN0888YQ7B0hOGWojRoyw0aNH+0sSG/76jVRnxOmnn+4vBQAcrtSBG7RTonEVAAIAB0k9wWp8q+FboUIFf6m5dHM1VpXSrgDA77//7lL5Zf78+S6FfNWqVS49PVC7dm1r1KiROxlQo/XCCy90qf+R1Lvcpk0bGzdunAsA6ERhx44d7oQjPdQw//vvv5M0itWLoQbt9OnTXe+7Limk5wxOXkTvTZ9J1YnTGwD4448/XO9/eqTndQ80ABD52IAuldS3b9+9AQAFY/R59H0oq0C9Ltu3b7fu3bvbkCFD3DYq3KRMAK3XyZ4CMkOHDrXrrrvOrU9OfyNNAfX+KJBRvcdY25OTywAia6j3tX+deOv9bTbbGc9lAJF1jvZ9b2G/ZrZlyxb3Gx7ppptucsPdNHQvcuiYAvcK+ut3O5KC0Roqp0B5kL2nbD5lDOr3U8P6klNGms45FIA49dRT3TL9zup8YcWKFUk6DMJGnS/6Ls4//3wux4Ysw36HjFDboHjx4lwG8GiXvCG/P2qYqiEcFA4KJv34qxEbyJMnT7ob/4HkByg9/kCKB6oRnDxulFIqy4F+5mjQiZoa+Mqo+Pzzz913rKJMkUULNSRAJ2LaTtdd1mfVlQhSo231nzlyEp0I65rYTExZMvkNL/Y7piyfjvJ9T7+hGnOvIHPkpDoyxxxzjLuvbTQpSKDfFmX3BcuCSdllqt+jALOuBqAgvALUqsuj59I2GnKm3yQVwNW8hhBqqFqnTp3cOmUQKNtQ2W3qhIh8/jBOktJyJqbMnNjvmDIyRRMBgINUqVIll+Ku1PWAGogaM64f9pToMfrDR1bsVQG8pUuX+nOJvddK69OPvmoKRE66nFBmUZEi9YJHvjel4mv8ffB5dIKjYkORQYDIbICMSM/rHig9Z/KqyOo1iaS/m7IVlCmgkyx9t0EWQ0AFltq3b+/SLjXpREuBFwAA0jJ8+HA3vK9p06b+kv8oyK/6OLo944wz7Nprr3VZgyo+G1CaqH4HI4PsSv+vWrWqnXfeeS6IoMLDL7/8sr8WAIC0EQA4SOrlViReRf2UzqcovtIA9aMdebmfSIrsa50eo4j/woULXSM0ciyhxsPr2sI6GRg/frxL7VOkX9WGI9P3D7UqVaq4WgX6DLpagYYr6KREwxeCGgZKv9cwAqXIq5aAxjbqKgcHIz2ve6A0Vl9/E13xQDUGnn32WTcfSa+r71cBDL2mxuOklA1x4403ur+VHq/eGgAAIqm+TuR4flF2mVL8I3/fI6nXfsqUKe6cQb+r+r1S0Dmg31sF2yOvsqPsA9UP0DAEpY8qyKDzCgAA0kU1AHBwtm/f7nXu3NkrXry4Fxsb6zVo0MBLaKy7dTNmzFA3ubdhwwY3H0j44fYSGrhe3rx5vRIlSngJjWmvUaNGXteuXf0tPG/Xrl1enz59vIQffi9nzpxeqVKlvNatW3sLFixw60eMGOEVKlTI3U+v9u3bewkNan8ukV5Trx1Yv369d91117nnzpMnj9esWTNv6dKl/tpEL7zwgleuXDkvX758Xrt27bwBAwZ4CScy/tqUX2d/9ve6+g71Xeo7Ta9XX33VK1u2rHu+Vq1aeQknV0m+sxUrVnjnnHOOW6/P8+yzz+7zdwicddZZ3kknneTPpV/CCZp73+vWrfOXAJlPx4+JEye6WyArse8hGtjvEA3sd8iIoG2g22igCCCQDvpvomyB2267ze666y5/afqo0IcqP69bt84VggKyglKG1bOoFOFojzVDuLDvIRrY7xAN7HfIiKBtQBFA4DCltEwNH1Ddg9Su/Q8AAAAAhzsCAEcZjQNMbVIl4mjRa6f0noIpI5o3b57ic2nSuMtDRZdnUlEmFVnSZQgBAAAA4EjEEICjzM8//+zf25cK6kWrer2ura/rGqdGVzc4UHo+PW9KVCRJ0+GAIQCIBtISES3se4gG9jtEA/sdMiLaQwAIAACZjAAAooGTEkQL+x6igf0O0cB+h4ygBgAAAAAAAMh0BAAAAAAAAAgBAgAAAAAAAIQAAQAAAAAAAEKAAAAAAAAAACFAAAAAAAAAgBAgAAAAAAAAQAgQAAAAAAAAIAQIAAAAAAAAEAIEAAAAAAAACAECAAAAAAAAhAABAAAAAAAAQoAAAAAAAAAAIUAAAAAAAACAECAAAAAAAABACBAAAAAAAAAgBAgAAAAAAAAQAgQAAAAAAAAIAQIAAAAAAACEAAEAAAAAAABCgAAAAAAAAAAhQAAAAAAAAIAQIAAAAAAAAEAIEAAAAAAAACAECAAAAAAAABACBAAAAAAAAAgBAgAAAAAAAIQAAQAAAAAAAEKAAAAAAAAAACFAAAAAAAAAgBAgAAAAAAAAQAgQAAAAAAAAIAQIAAAAAAAAEAIEAAAAAAAACAECAAAAAAAAhAABAAAAAAAAQoAAAAAAAAAAIUAAAAAAAACAECAAAAAAAABACMR4Cfz7ADLB5s2brVChQlap+zjbkyOfvxTIXLHZPRtSL856zsluO+Ni/KVA5juS9r2Vg1v695IaPHiw3Xvvvda1a1d78skn3bLGjRvbp59+6u4HbrnlFnvxxRf9uf/8888/dsopp9gff/xhGzZssMKFC/tr9rV+/Xrr3LmzTZ482bJly2Zt27a1p556yvLnz+9vgfTYvXu3TZkyxVq0aGE5c+b0lwKZi/0OGRG0DTZt2mQFCxb0l2YdMgBCTCcz3bp18+ey1siRI9M8IQIAIBq++eYbe+mll6xmzZr+kv/cdNNN9ueff+6dhgwZ4q9JqmPHjik+PiXXXHONLVq0yKZNm2bvv/++ffbZZ3bzzTf7awEAOLQIAADpdNxxx+3tCQIAHH22bt3qGuSvvPKKFSlSxF/6n7x581rJkiX3Tin13Lzwwgu2ceNGu/vuu/0lqfvxxx9t6tSpNmzYMKtfv741bNjQnnnmGRs7dqytXr3a3woAgEOHAMBhZNeuXf69Q0cjPPbs2ePPHVpxcXEWHx/vzwEAcGS7/fbbrWXLltakSRN/SVKjR4+24sWL28knn+yGCGzbts1fk2jx4sX20EMP2ahRo1w6//7Mnj3bZcPVqVPHX2LutfXYr7/+2l8CAMChQwAgipSCf8cdd7g0fJ1QNGvWzBYuXGjNmzd3Y/9KlChh1113na1bt85/hNnOnTutS5cuduyxx1ru3Lldb4HSFQMzZ860mJgY+/DDD+20006z2NhY++KLL+zff/+1du3auectVaqUPf744/4j/qPnVo9FmTJlLF++fK43Qs8XCNL2J02aZNWrV3fP/euvv+73caLHli9f3vWetG7d2o2PPBAaG1m3bl33mfVd6TkCGl+pz6beGj2/vr9ly5b5a8369etntWrV8ucSqSdfPfqBDh062CWXXGKPPfaY+36KFSvmTgQ1tkv0t1q1apXdeeed7vvVBAA4eqjX/fvvv7dBgwb5S5K6+uqr7Y033rAZM2a4xv/rr79u1157rb828Tf0qquuskcffdT93qXHmjVr3O95pBw5cljRokXdOgAADjWKAEaRGpXfffedderUyY0XVMpgq1at7MYbb3QN2u3bt9s999zjevCnT5/uHqOCRO+8845LF6xQoYIbf6gG+c8//+xOGNTwPuecc9zYQzVmK1as6BrGDzzwgH3wwQc2fPhwd7Jx3333uWJGN9xww960do1tVO+Fih+VLl3aJkyY4B73ww8/WJUqVVwjXuMS1RDXCY4ayeXKlXPvKa3HqRfjzDPPdCdVamQr3bFv374uO0GfeX/0vi+++GK7//777corr3SZEiq4ohMw0To1+DVmU+mY+s5++eUX955UkEUBgIkTJ9q8efPc9qLPrGnlypVuXgEAvW+d4Onz6Pu84oor3Db6XlSkSQWd9Pk1L0r/TIlOAjUFVOhD31P1HmNtT06KACJrxGbzrH+deOv9bTbbGU/AClnnSNr3FvZr5m5/++03O+OMM9xvSzB2Xz3xOu6nFDAXBQIUuFcaf6VKlaxHjx4ubV9ZAqLf2PPPP9/Wrl2bas0b/W4qkKAaAJEUUO/Tp48rMoj0UcBedRT0nVOMDVmF/Q4ZobaBOjSjVQSQAEAUKQCgHUA9DvLwww/b559/bh999JGbl99//901HpcsWeJOCNSYV0NcDVXRgUc92coi0MlHEABQg1cNY9GYRjXW1XNx2WWXuWVq0JYtW9Y1aNXIVU++ggW6VSM+oBOgevXq2cCBA93rXn/99a4hrZMiSc/j9F61g6shH1BDXoGA9AQAFDzQa+j9J6eG/wknnGBffvml206UXaDv7LXXXnOfN70BAH13Chxkz57dLbv88stdGqZ6hST4nvdXOFGv9+CDD/pz/xkzZozLUAAAHF6++uor1xiPTNvXELcg4+vtt9/e+9sQ2LFjh/stU0C7du3a7rdBv4WR9Bx6Tv0WKTsguY8//thGjBixN2ggGl6n7Xv27Gmnn366vxQAcLTQ8LGgfUQAIGQUAFAPuYoNiX7w33vvPcuVK5ebDyh9X70SCgCo4a1Gq3r/A0qHV2BAvftBAECBA20v8+fPdynwSmGPTEvUCUujRo1cQ1iN8wsvvNCl8EdST3abNm1s3LhxLgCg3gid9AQp8Ol5nF5H71G9GQFd4kgnTekJAKjR/Nxzz7ngQ3LKftAlk/SeIk/OIl8zvQGAv//+O0mQQpkAymIIsi/SGwAgAwCHAzIAEC1HYgbAli1b3G9kJGV7nXjiiW6Im8b8Jzdr1iz3O/7tt9+6rAEFkJW5F1CGn55DVf0VxE6e6i/KHtDvugIQp556qlum3kT9rq5YsSJJYB1poycW0cB+h4yIdgYANQCiLLLhrJ56DQFQQzVyUi/32Wef7W+VPskb5Puj11YDWicska+tkxM11gN58uTZ2/iX9D7uYOg1D4Z6X5LHuXTATi75gVufMyNFDlUbQf+ZIyfRibCuic3ElCWT3/Biv2PK8ukI2vd03NekIXQKHEdOqplzzDHHuPvq2VeGwIIFC9y1/VVnR0Po9Nusejt6jqpVqyZ5fOXKld33UKNGDReQ1zZz58518xoWoHkFDi644AI3FFDr5syZ44LMyixQoD94f0zpmySl5UxMmTmx3zFlZIomAgCHEUX/NQ5QPc06cYic1KDXGENlByjdPaCGrIoAqihfavQ47WiRFYVVOG/p0qX+XGKPudIOdVKS/LVTG+su6XlctWrV9qlmrN6O9NIJ0ieffOLPJaXnVo2EyOfXEAANmQi+E53AqZhSZBBAQYoDpe9enxUAEC46/itdv2nTpq6h3717d5d9pgK1B0Jpn/p9igxCK/1fz3neeedZixYtXHHfl19+2V8LAMChRQDgMKKq8xqbr3GCatQrnVD1AJT6roanggDqJdBYf42fV5E7pRfqhEJFBFOjXgyt1+OUzq4rDSjlPXKso8bR69rHKj44fvx4l3qonggV7otMi08uPY/TVQv0flWUUNkMzz77rJtPLw0VePPNN92tMguUlv/II4+4dRpCoVoH+h50tQMNd1BVZvW2BDUQlKKp9H4VTNR3quEE6r05UArMKJVTvT+RV2YAABx9NKROQ8VEw7hU1E8BZg0502+ZflPSSt3Ub48Cz5EFAINl+j0JKPtANWI0DEHpoBrOp99tAAAyRcIPEaKkUaNGXteuXf25REuXLvVat27tJZwweHny5PGqVq3qdevWzYuPj3frt2/f7nXu3NkrXry4Fxsb6zVo0MBLaHC7dTJjxgx1c3sbNmzwlyRKOLHwEhrGXt68eb0SJUp4CScu+7z+rl27vD59+ngJJyZezpw5vVKlSrn3smDBArd+xIgRXqFChdz9SPt7nLz66qte2bJl3Wdq1aqV99hjj6X4XKl59913vVq1anm5cuVyn71Nmzb+Gs9bv369d91117nn0/M3a9bMfY+RXnjhBS/hBM7Lly+f165dO2/AgAFehQoV/LWe1759e+/iiy/25xLpu9F3FJg9e7ZXs2ZN970fyH+dhBM6t/26dev8JUDm0//LiRMnulsgK7HvIRrY7xAN7HfIiKBtoNtooAggkMlU6KNQoUIua0BXYwCyglKMVTxUKcXRHmuGcGHfQzSw3yEa2O+QEUHbgCKAAAAAAAAg0xAAQNSddNJJbrxjSlPktZEBAAAAABlHAABRp9SpyEsIRk4XXXSRvxUAAAAA4GAQAEDU6VrHyS8hGEwFChTwtwIAAAAAHAwCAAAAAAAAhAABAAAAAAAAQoAAAAAAAAAAIUAAAAAAAACAECAAAAAAAABACBAAAAAAAAAgBAgAAAAAAAAQAgQAAAAAAAAIAQIAAAAAAACEAAEAAAAAAABCgAAAAAAAAAAhQAAAAAAAAIAQIAAAAAAAAEAIEAAAAAAAACAECAAAAAAAABACBAAAAAAAAAgBAgAAAAAAAIQAAQAAAAAAAEKAAAAAAAAAACFAAAAAAAAAgBAgAAAAAAAAQAgQAAAAAAAAIAQIAAAAAAAAEAIEAAAAAAAACAECAAAAAAAAhAABAAAAAAAAQoAAAAAAAAAAIUAAAAAAAACAECAAAAAAAABACBAAAAAAAAAgBAgAAAAAAAAQAgQAAAAAAAAIAQIAAAAAAACEAAEAAAAAAABCgAAAAAAAAAAhQAAAAAAAAIAQIAAAAAAAAEAIEAAAAAAAACAECAAAAAAAABACMV4C/z6ATLB582YrVKiQVeo+zvbkyOcvBTJXbHbPhtSLs55zstvOuBh/aXisHNzS3Q4aNMjGjx9vP/30k+XJk8fOPPNMe+SRR+zEE09061euXGnHH3+8u5/cW2+9ZZdddpm7/8knn1jv3r3thx9+sHz58ln79u1twIABliNHDrc+JTt27LDu3bvb2LFjbefOndasWTN7/vnnrUSJEv4WR6fdu3fblClTrEWLFpYzZ05/KZC52O8QDex3yIigbbBp0yYrWLCgvzTrkAEQYo0bN7Zu3br5c1lr5MiRVrhwYX8ubf369bNatWr5cwCQfp9++qndfvvt9tVXX9m0adPcyVrTpk3t33//devLlStnf/75Z5LpwQcftPz581vz5s3dNvPnz3cndxdccIHNnTvXxo0bZ5MmTbJevXq59am58847bfLkyfb222+797F69Wpr06aNvxYAACDrEQDAUSkmJsYmTpzozx0axx13nD355JP+HIAjwdSpU61Dhw520kkn2SmnnOKCj7/++qt99913bn327NmtZMmSSaYJEybY5Zdf7oIAogZ/zZo1rU+fPla5cmVr1KiRDRkyxJ577jnbsmWL2yY5RfVfffVVe+KJJ+zcc8+10047zUaMGGGzZs1ywQgAAIBoIABwGNm1a5d/79DRCI89e/b4c4dWXFycxcfH+3MAcPhTw1yKFi3qbpNTYGDevHnWsWNHf4m59P3cuXP7c4k0nEAp/kEgITktV7ZBkyZN/CVmVatWtfLly9vs2bP9JQAAAFmLAEAUKQX/jjvucGn4xYsXd+NDFy5c6NJO1fOkcaLXXXedrVu3zn9E4ololy5d7Nhjj3UnpA0bNrRvvvnGX2s2c+ZM1/v94Ycfuh6n2NhY++KLL1y6a7t27dzzlipVyh5//HH/Ef/Rc999991WpkwZN8a1fv367vkCQdq+Ul+rV6/unls9aft7nOixOvHNmzevtW7d2v755x9/zYHT5z3//PPdd6bxM+qN+/777/21iT31otfRdxHMy3vvvWennnqq++4qVqzoUn2DAImCJRpuoPepz1a6dGn3XYv+VqtWrXIpvXpOTQCOLApY6njboEEDO/nkk/2lSanXvlq1aq5WQEDHZvXcv/nmmy7w+ccff9hDDz3k1mnIQErWrFljuXLl2meok47rWgcAABANFAGMIjUq1UvUqVMn19u0ceNGa9Wqld14442usb59+3a75557XAN1+vTp7jFdu3a1d955x4YNG2YVKlRwaahqkP/888+uR0sN73POOcelqz722GOukVukSBF74IEH7IMPPrDhw4e74MF9993nxqTecMMNe9Pab7rpJlu8eLENHjzYNX6VBqvHqehVlSpVXCP+5ptvtrp169qjjz5qxYoVc+Nn9Z7SetzXX3/tTqZVjOuSSy5xKbl9+/Z1DW595v1Ro1zp/OqVE30XGktbp04d9xwKZrz//vu2bNkyK1CggP3999/uMyrdVmN2leJ7zDHH2Oeff24XXnihPf3003bWWWfZL7/84j6P0oP1fvS96u+ggl1KF9ZJusb+6ntZv369Sx/W9poXpQqnRAERTQEV+tD3VL3HWNuTkyKAyBqx2TzrXyfeen+bzXbGhy9gtbBfM//efxRw/eijj2zGjBlWtmxZf+l/dMxVAFDHRwX7Iuk4+fDDD7tgqgKE2kbHuTfeeMMNF0hOwQIdK7Zu3eovSaRjoYKWOh4erZT5oHoLCtRSFAtZhf0O0cB+h4xQ20AdmdEqAkgAIIoUANAOEPRe6+RSjVSdoAZ+//1313hcsmSJ62FXY14N8auvvtqt14FHPdzq1erRo8feAIAazBdffLHbRiegaqzrRDWoaK0GrU6A1aDVia168hUs0K0a8QGlr9arV88GDhzoXvf66693DXE1hiU9j9N71Q6uAETgyiuvdIGAjAQAklOvnnrZxowZ4xr4oh56BSIUcAjoPZ133nl27733+kvMfSc9e/Z0AQWN1X3ppZdcFkZKB/Hge95f4US9X2UWJKf3pwwIAFnv5ZdfdsFIHZNSq8KvwIDG9SsLQNlFyenncsOGDS7Tae3atda5c2cXDFWgM7kFCxa4mgE6xgS1BERBAQV6L7roIn8JAAAIk23btu1tHxEACBkFAHTi+Morr7h5Nc6Voq600UjqcdIlRhQAUMNbl61S739Aqe4KDKh3PwgAKHCg7UW92KqirxR29W4Fateu7XqiFABQ41yNZ53YRlJPtqpWqwiWAgC33HKLG/capMCn53F6Hb1HnQwHnnrqKdfrnpEAwF9//eV63vRZdRKulFz9R3r22Wfttttuc9ukFABQFoCCIcoICOix+jz6jjUsQanB+i+hzAFV/daJenCZr/QGAMgAwOGADIDEDAD9f9b/WR1b1UuTUmM9oCChgqU6bu2Pjkuvv/66LV26NMkxJaAfdQVFtU1Q+V+B3Bo1arhAr4ZKHa3oEUM0sN8hGtjvkBFkAISYAgBqmAcp+Br7rx5iXaM6OY3bV8p6egMA6qUKxp6mJwCgE95rrrnGFi1atM/JrHqvlO6uAIBOpCMb7el53KEOAKhxrsa6etn1PSgd94wzzrD7779/b+M8pQCAinbpMSldhktZDNmyZXMpwB9//LE7mOvSXbo+uIZK6KCe3gBAcvpPrt7ESt3H2Z4cBACQNWKzezakXpz1nJPddsaFLwCwcnBLd6ugoLJvFAAIrv0v+j+pY0JAw6hOOOEEF2zVMSY59fRruY4T48ePt/79+9tbb7219xijugDKMBo1apTLfhIN79Lz6dipH3hlDIjqCRzNdELMdbGR1djvEA3sd8iIoG0QrQAARQAPIypOp4a0Gpq61FTkpB72SpUqueyAL7/80n9E4oFHRfFUlC81epwOSkp/DShAoJ6rgBrp6g1Xj3ry105trLuk53EqqBX52nIwl8HS51dxPh1sNVZfAYDIQomiz6v3FUnfr3rgkr9PTTqpFzUI1OuvOgEKpqhat2oZiL775M8J4PD2wgsvuB9YBVwVSA2m5L38CqBqWFTTpk39JUmpsKpqh6j2iDKfFFCIDDDqWKzji7KRAkOHDnUZUm3btrWzzz7bHRMVPAAAAIgWAgCHkdtvv92Nzb/qqqtco149/qoHoHH3angqCKAeJY311/h5Fd7TeFKdcEZesio59cRrvR6nAnoa467Cd0GjV9TzpZ58FR/UCeqKFStszpw5rlBV5Nj95NLzODXW9X5VlFCF+pSqr/mMUgqv0mp//PFHF1jQ60f25ImCKJ988okr5KdghygDQb1zygJQoEWPV8E/DScQ9dJp7K++n+XLl7uxu3reINtCz/nZZ5+5nr7kAQcAhycluaU06RgYSbUBVMsk8rgYScdOZSwpS0gBTGVsRdLxQc+rQENAVxtRTQEd1zXMSMfItAKqAAAAmS7hhAVR0qhRI69r167+XKKlS5d6rVu39goXLuwlND69qlWret26dfPi4+Pd+oSTT69z585e8eLFvdjYWK9BgwZeQoPbrZMZM2ZoSIeX0Oj1lyTasmWLd+2113p58+b1SpQo4Q0ZMmSf19+1a5eX0Ej2Ek5kvZw5c3qlSpVy72XBggVu/YgRI7xChQq5+5H29zhJaFh7ZcuWdZ+pVatW3mOPPZbic6Wkb9++3imnnOLPed7333/v1alTx0s4ufaqVKnivf32215CI90bOnSov4XnTZo0yatcubKXI0cOty4wdepU78wzz3Tvo2DBgl69evW8l19+2a2bMGGCV79+fbc8X7583umnn+59/PHHbp3Mnj3bq1mzpvveD+S/zqZNm9z269at85cAmU//LydOnOhugazEvodoYL9DNLDfISOCtoFuo4EaAEAmC8b5KGtABcaArMC4REQL+x6igf0O0cB+h4ygBgAAAAAAAMh0BAAQdSrkpzoFKU2jR4/2twIAAAAAHAwCAIg6pU7pEn8pTRdddJG/FQAAAADgYBAAQNSpyn7yy/IFU4ECBfytAAAAAAAHgwAAAAAAAAAhQAAAAAAAAIAQIAAAAAAAAEAIEAAAAAAAACAECAAAAAAAABACBAAAAAAAAAgBAgAAAAAAAIQAAQAAAAAAAEKAAAAAAAAAACFAAAAAAAAAgBAgAAAAAAAAQAgQAAAAAAAAIAQIAAAAAAAAEAIEAAAAAAAACAECAAAAAAAAhAABAAAAAAAAQoAAAAAAAAAAIUAAAAAAAACAECAAAAAAAABACBAAAAAAAAAgBAgAAAAAAAAQAgQAAAAAAAAIAQIAAAAAAACEAAEAAAAAAABCgAAAAAAAAAAhQAAAAAAAAIAQIAAAAAAAAEAIEAAAAAAAACAECAAAAAAAABACBAAAAAAAAAgBAgAAAAAAAIQAAQAAAAAAAEKAAAAAAAAAACFAAAAAAAAAgBAgAAAAAAAAQAgQAAAAAAAAIAQIAAAAAAAAEAIEAAAAAAAACAECAAAAAAAAhECMl8C/DyATbN682QoVKmSVuo+zPTny+UuBzBWb3bMh9eKs55zstjMuxl965Fk5uKW7HTRokI0fP95++ukny5Mnj5155pn2yCOP2IknnujWB2bPnm3333+/ff3115Y9e3arVauWffTRR+4xK1eutP79+9v06dNtzZo1Vrp0abv22mvd9rly5fKfYV87duyw7t2729ixY23nzp3WrFkze/75561EiRL+Foi0e/dumzJlirVo0cJy5szpLwUyF/sdooH9DhkRtA02bdpkBQsW9JdmHTIAkGUaN25s3bp18+eyTocOHeySSy7x5wAciT799FO7/fbb7auvvrJp06a5k66mTZvav//+62+R2Pi/4IIL3PI5c+bYN998Y3fccYdly5b4U6fgQXx8vL300ku2aNEiGzp0qL344ot23333ufWpufPOO23y5Mn29ttvu/exevVqa9Omjb8WAADgyEEAAABw2Js6daoL5p100kl2yimn2MiRI+3XX3+17777zt8isaHepUsX69Wrl9tO2QGXX365xcbGuvUKDowYMcIFCCpWrGgXXXSR3X333S6zIDWKzr/66qv2xBNP2LnnnmunnXaae45Zs2a5YAQAAMCRhAAADimNKNmzZ48/d2jFxcW53jsAUMNcihYt6m7Xrl3r0v6PPfZYNzxA6fmNGjWyL774wq1PjZ4neI6UKMCgbIMmTZr4S8yqVq1q5cuXdxkHAAAARxICANgvjXlVr5pOrHPnzm0NGzZ0qbUyc+ZMi4mJsQ8//ND1jKmnTSfcSstt166d5c+f30qVKmWPP/642z6Snle9b2XKlLF8+fJZ/fr13fMF1MNXuHBhmzRpklWvXt09t3r80qIgwV133eUeV6xYMevZs6cLSkRK6/NInTp17LHHHvPnzA0f0LiurVu3uvnff//dfeaff/7ZzQPIWgoEajhRgwYN7OSTT3bLli9f7m779etnN910k8sYOPXUU+28886zZcuWuXXJ6f/wM888Y7fccou/ZF+qFaD6ADqmRFKAQesAAACOJBQBxH517drV3nnnHRs2bJhVqFDBhgwZ4hrlOnlesGCBnXPOOVazZk3XaFZabZEiReyBBx6wDz74wIYPH+4a2hpjq7GzN9xwgz355JPueXWSvnjxYhs8eLArxjVhwgT3uB9++MGqVKniAgA333yz1a1b1x599FHXoC9XrpzlzZvXPT4lem96Pr3XatWqucDDW2+95VJ3J06c6LZJ6/OoJ1DFvpYsWWLvv/++Cx4UL17cjSF+/fXXXQrx6NGj7Z577nGBgJQowKApoEIfet/Ve4y1PTkpAoisEZvNs/514q33t9lsZ/yRWwRwYb9m/r3/aFy/CvvNmDHDypYt65apN149/gr6Pfzww26ZKAjQvHlzGzBggL8k0R9//OF69c8++2xXEyA1b775pjtWBQHAgLIM9HoqToiklDGhOg3nn38+RbGQZdjvEA3sd8gItQ3UvohWEUACAEiTevLVoFdj/Oqrr3bLdLA77rjjXA+cGucKAKhxffHFF7v1OlFWY/2NN96wyy67zC1bv369O1FXg14BAPXkK1igWzX+Azohr1evng0cONC95vXXX2/z5s1zY37TQ8+lccA9evRw8xqOcPzxx7vsBL3H/X0ePU7Fvq677jr7559/bOHCha7Rf8UVV7hsAQUX1BjYtm2bCwSkRD2QDz74oD/3nzFjxqQZvACwfy+//LJL9dcxIrIK/19//eV68vX/WAVHAwoe6moAygwK6HikYOMJJ5zgsoGCIoEpUZCzT58+7nimjKaAjgOtWrVydQQAAADSS+0ItUMIAOCwpJNfNb51+Sz1lgdat27tGtJK81cAQL3hSuWX+fPnu0tvrVq1yo2TDdSuXdv1mCkAoOyACy+80KX+R1LPuaprjxs3zjXSdUKvS3Ap5X5/9J9IabrKNFCvXkDvVbu5AgD7+zzKWNi4caMLYKiRoUJfmq688krX+FfRLzUaFChQAyAlZADgcHC0ZQDo/7Aa9++9957rbVGWUCStV7Cvffv2SQJwClLqsn1BVoB6/tVTo8yA1157zQUH0qLjigKLygAKKv8rQ6hGjRr2+eefu6FLSIoeMUQD+x2igf0OGUEGAA5r6Q0AbNiwYe8Y2fQEANTAv+aaa9yluJKfgKuXrWTJki4AoBN+NcjT41AFAESNA0XmlFasg7oqiauWgYYnqLK4GgAKBKRHcK3PSt3H2Z4cBACQNWKzezakXpz1nJPddsYduQGAlYNbutvbbrvNZdEoABB57X/939I1/kXHlr59+7qq/ToGqYGvoUnK5KlUqZJr/Cs7QP/3kzf+dcwRbaO6AaNGjXLZSNKpUyd3nWcdk/RD3blzZ7dcwUHsSyfEXBcbWY39DtHAfoeMCNoG0QoAUAQQadJJswpgffnll/6SxIOdiuapMF9K9BgdBNWDHlCAYOnSpf5cYjBABftUubty5cpJpuBE/EDpP5Ia6ZGvqyEAkZcJS+/nUaBC44s/++wz12BQbQDVFNA4Yr1Gehv/AA6NF154wf1Q6v+j/g8Gk4KJAQUM7733XjcMSIG+Tz75xPXM6P+96L5qfWi5hiRFPk9AxwMF+JSeFxg6dKjLWGrbtq0LLuoYldalAwEAAA5XBACQJqXoq/dLKe+qqq2ifcEY+I4dO/pbJaUefK3TY6ZPn+5633T97shxtmpAKwNAGQQ6kV6xYoXNmTPHFdTS8ICMUoE/peqrt/+nn35yvYaRGQTp/TxqZKjIWI4cOdwlv4JlGvev4ACArKUsnpQmHVsi9erVy3777TdX70M99LrKR0DbpvQcmgKqB6J5/X8PqP7Hc88952oH6Hl1zMpooBIAACCqEk50gDRt377d69y5s1e8eHEvNjbWa9CggZfQWHfrZsyYoTNnb8OGDW4+sGXLFu/aa6/18ubN65UoUcIbMmSIl9Bw9hIa6P4Wnrdr1y6vT58+XsIJt5czZ06vVKlSXuvWrb0FCxa49SNGjPAKFSrk7qfX7t273WsULFjQK1y4sHfXXXd57dq18y6++GJ/i7Q/T+Cff/7xYmJivCuuuMJf4nkTJkxwn/XFF1/0l6TPpk2b3OPWrVvnLwEyn/5/TZw40d0CWYl9D9HAfodoYL9DRgRtA91GAzUAgEwWjPNZt26dKy4IZAXGJSJa2PcQDex3iAb2O2QENQAAAAAAAECmIwCAI4rqC6Q26ZJcAAAAAICUEQDAEWXevHmpTnXq1PG3AgAAAAAkRwAAR5TklwyMnIJrgQMAAAAA9kUAAAAAAACAECAAAAAAAABACBAAAAAAAAAgBAgAAAAAAAAQAgQAAAAAAAAIAQIAAAAAAACEAAEAAAAAAABCgAAAAAAAAAAhQAAAAAAAAIAQIAAAAAAAAEAIEAAAAAAAACAECAAAAAAAABACBAAAAAAAAAgBAgAAAAAAAIQAAQAAAAAAAEKAAAAAAAAAACFAAAAAAAAAgBAgAAAAAAAAQAgQAAAAAAAAIAQIAAAAAAAAEAIEAAAAAAAACAECAAAAAAAAhAABAAAAAAAAQoAAAAAAAAAAIUAAAAAAAACAECAAAAAAAABACBAAAAAAAAAgBAgAAAAAAAAQAgQAAAAAAAAIAQIAAAAAAACEAAEAAAAAAABCgAAAAAAAAAAhQAAAAAAAAIAQIAAAAAAAAEAIEAAAAAAAACAECAAAAAAAABACBAAAAAAAAAgBAgAAAAAAAIQAAQAAAAAAAEKAAAAAAAAAACFAAAAAAAAAgBAgAAAAAAAAQAgQAAAAAAAAIAQIAAAAAAAAEAIxXgL/PoBMsGnTJitcuLCtWLHCihYt6i8FMtfu3bvtf//7nzVt2tRy5szpLwUyH/seooH9DtHAfoeM2Lx5s5UrV842btxohQoV8pdmHQIAQCZbvny5VapUyZ8DAAAAEHa//fablS1b1p/LOgQAgEym6F6RIkXs119/jUqUD+EURJf141KwYEF/KZD52PcQDex3iAb2O2SEmt9btmyx0qVLW7ZsWT8inwAAkMn046CGv4YC8OOArMJ+h2hh30M0sN8hGtjvcCSiCCAAAAAAACFAAAAAAAAAgBDI3i+Bfx9AJsmePbs1btzYcuTI4S8BMh/7HaKFfQ/RwH6HaGC/w5GGGgAAAAAAAIQAQwAAAAAAAAgBAgAAAAAAAIQAAQAAAAAAAEKAAAAAAAAAACFAAADIRM8995wdd9xxljt3bqtfv77NmTPHXwMcuEGDBlndunWtQIECduyxx9oll1xiS5Ys8dcm2rFjh91+++1WrFgxy58/v7Vt29b++usvf22iX3/91Vq2bGl58+Z1z9OjRw/bs2ePvxZI2+DBgy0mJsa6devmL2G/Q+b5448/7Nprr3X7Vp48eaxGjRr27bff+mvNVMu6T58+VqpUKbe+SZMmtmzZMn9tovXr19s111xjBQsWtMKFC1vHjh1t69at/logqbi4OOvdu7cdf/zxbp+qVKmS9e/f3+1rAfY7HMkIAACZZNy4cXbXXXdZ37597fvvv7dTTjnFmjVrZmvXrvW3AA7Mp59+6hpZX331lU2bNs12795tTZs2tX///dffwuzOO++0yZMn29tvv+22X716tbVp08Zfm3hio0bYrl27bNasWfbaa6/ZyJEj3YkMsD/ffPONvfTSS1azZk1/SSL2O2SGDRs2WIMGDSxnzpz24Ycf2uLFi+3xxx+3IkWK+FuYDRkyxJ5++ml78cUX7euvv7Z8+fK531oFpQJqhC1atMgdN99//3377LPP7Oabb/bXAkk98sgj9sILL9izzz5rP/74o5vXfvbMM8/4W7Df4QinywACOPTq1avnJTTW/DnPSzgB9kqXLu0NGjTIXwIcnLVr16o7wktocLn5jRs3egknyl5CI8zNS8LJi9tm9uzZbn7KlCletmzZvDVr1rh5STjR8QoWLOjt3LnTXwLsa8uWLV6VKlW8hJNZr1GjRl7Xrl3dcvY7ZJZ77rnHa9iwoT+3r/j4eK9kyZLeo48+6i9J3B9jY2O9N998080vXrzY7YvffPONm5cPP/zQi4mJ8f744w9/CfCfli1bejfccIM/l6hNmzZeQoPe3We/w5GODAAgE6iX67vvvnMpYYGEk183n3BC7C8BDs6mTZvcbdGiRd2t9jllBUTud1WrVrXy5cvv3e90qxTaEiVKuHlRr8XmzZtdTwWQGmWfqBc/cv8S9jtklkmTJlmdOnXssssuc8NGateuba+88oq/1mzFihW2Zs2aJPteoUKF3JC7yH1P6dd6noC212+yem6B5M4880z75JNPbOnSpW5+/vz59sUXX1jz5s3dPPsdjnQEAIBMsG7dOpfyGnmyK5rXjwZwsOLj490YbKXHnnzyyW6Z9q1cuXK5k45IkfudblPaL4V9E6kZO3asG8qkOhTJsd8hsyxfvtylYlepUsU++ugj69Spk3Xp0sUNIZFg30lp34rc9xQ8iJQjRw4XOGXfQ0p69eplV155pQtkaviJAk/6vVVKv7Df4UhHAAAAjkDqjV24cKFrmAGZ6bfffrOuXbva6NGjXUFTIKso0HnqqafawIEDXSNM46dvuukmN+4ayCxvvfWWO96NGTPGBT4VcHrsscf2Bp6AIx0BACATFC9e3LJnz75PFWzNlyxZ0p8DMuaOO+5wBYVmzJhhZcuW9Zea27c0/GTjxo3+kkSR+51uU9ovhX0TKVGKv4qXqiGmHixNKvSnAli6r14v9jtkBlVYr169uj+XqFq1au6KEhLsOyntW5H7XvLiu7r6hCq0s+8hJbpCSZAFoKFL1113nSt0GmRAsd/hSEcAAMgESoc97bTT3BiygHoyNH/GGWf4S4AD43mea/xPmDDBpk+f7i5RFEn7nNIVI/c7XSZQJ8vBfqfbH374IcmJiSoU6zJFyU+0ATnvvPPcPjNv3ry9k8a1Kh02uM9+h8ygIU7JL3WqcdkVKlRw93UMVGMqct9TXQmNsY7c9xScUiAroOOnfpM1ZhtIbtu2bW6sfiR16mifEfY7HPESawECONTGjh3rKsKOHDnSVYO9+eabvcKFCyepgg0ciE6dOnmFChXyZs6c6f355597p4STFX8Lz7v11lu98uXLewknGt63337rJZyEuCmwZ88e7+STT/aaNm3qJTTevKlTp3rHHHOMd++99/pbAPsXeRUAYb9DZpgzZ46XI0cOb8CAAd6yZcu80aNHe3nz5vXeeOMNfwvPGzx4sPttfe+997wFCxZ4F198sZfQQPO2b9/ub+F5F1xwgVe7dm0voYHmffHFF+5qFldddZW/Fkiqffv2XpkyZbz333/fW7FihTd+/HivePHiXs+ePf0t2O9wZCMAAGSiZ555xp0U58qVy10W8KuvvvLXAAdOMduUphEjRvhbeO7k47bbbvOKFCniTpRbt27tggSRVq5c6TVv3tzLkyePO6np3r27t3v3bn8tsH/JAwDsd8gskydPdsEjBdSrVq3qvfzyy/6aRPHx8V7v3r29EiVKuG3OO+88b8mSJf7aRP/8849reOXPn99devL66693l7UEUrJ582Z3fNP5W+7cub2KFSt6999/f5JLlrLf4UgWo38STiABAAAAAMBRjBoAAAAAAACEAAEAAAAAAABCgAAAAAAAAAAhQAAAAAAAAIAQIAAAAAAAAEAIEAAAAAAAACAECAAAAAAAABACBAAAAAAAAAgBAgAAAAAAAIQAAQAAAABfhw4dLCYmZp/p559/9rcAAODIRQAAAAAgwgUXXGB//vlnkun444/310bX7t27/XsAABw4AgAAAAARYmNjrWTJkkmm7Nmz+2uTWrVqlbVq1cqKFCli+fLls5NOOsmmTJnirzVbtGiRXXjhhVawYEErUKCAnXXWWfbLL7+4dfHx8fbQQw9Z2bJl3WvWqlXLpk6d6tbJypUrXfbBuHHjrFGjRpY7d24bPXq0Wzds2DCrVq2aW1a1alV7/vnn3XIAANJCAAAAACCDbr/9dtu5c6d99tln9sMPP9gjjzxi+fPnd+v++OMPO/vss13jfvr06fbdd9/ZDTfcYHv27HHrn3rqKXv88cftscceswULFlizZs3soosusmXLlrn1gV69elnXrl3txx9/dNsoCNCnTx8bMGCAWzZw4EDr3bu3vfbaa/4jAABIWYyXwL8PAAAQaqoB8MYbb7ie9UDz5s3t7bff9ueSqlmzprVt29b69u3rL/nPfffdZ2PHjrUlS5ZYzpw5/aX/KVOmjAsgaLtAvXr1rG7duvbcc8+5DAANPXjyySddACBQuXJl69+/v1111VX+ErOHH37YZR7MmjXLXwIAwL7IAAAAAIhwzjnn2Lx58/ZOTz/9tL9mX126dHGN7wYNGrgggHryA3qsUv5Tavxv3rzZVq9e7R4XSfPq1Y9Up04d/57Zv//+64YQdOzY0WUaBJPeQzC0AACA1BAAAAAAiKCx/OplD6ZSpUr5a/Z144032vLly+26665zQwDUWH/mmWfcujx58rjbg6X3E9i6dau7feWVV5IEKRYuXGhfffWVWwcAQGoIAAAAAByEcuXK2a233mrjx4+37t27u8a5aHjA559/nmLlfhUFLF26tH355Zf+kkSar169uj+3rxIlSrjHKegQGaTQdLhcqQAAcPgiAAAAAJBB3bp1s48++shWrFhh33//vc2YMcNV55c77rjDpfpfeeWV9u2337rifq+//rqrCSA9evRwRQNV5V/LVOxPvfmR4/1T8uCDD9qgQYPc0ISlS5e6zIMRI0bYE0884W8BAEDKCAAAAABkUFxcnCvkp0b/BRdcYCeccMLeS/IVK1bMVf9X2r4u43faaae57ICgJoDqB9x1110ua6BGjRruEoCTJk2yKlWquPWp0bADXQZQjX49Ts89cuRIMgAAAPvFVQAAAAAAAAgBMgAAAAAAAAgBAgAAAAAAAIQAAQAAAAAAAEKAAAAAAAAAACFAAAAAAAAAgBAgAAAAAAAAQAgQAAAAAAAAIAQIAAAAAAAAEAIEAAAAAAAACAECAAAAAAAAhAABAAAAAAAAQoAAAAAAAAAAIUAAAAAAAACAECAAAAAAAABACBAAAAAAAAAgBAgAAAAAAAAQAgQAAAAAAAAIAQIAAAAAAACEAAEAAAAAAABCgAAAAAAAAABHPbP/A4YG4U3aMvscAAAAAElFTkSuQmCC)"
      ],
      "metadata": {
        "id": "wpixwd3MdQzV"
      }
    },
    {
      "cell_type": "markdown",
      "metadata": {
        "id": "U4u0ftWO6jEn"
      },
      "source": [
        "Построю XGb функцию"
      ]
    },
    {
      "cell_type": "code",
      "execution_count": null,
      "metadata": {
        "collapsed": true,
        "id": "GAIYlqSc6jEx"
      },
      "outputs": [],
      "source": [
        "def runXGB(train_X, train_y, test_X, test_y=None, feature_names=None, seed_val=0):\n",
        "        params = {}\n",
        "        params[\"objective\"] = \"binary:logistic\"\n",
        "        params['eval_metric'] = 'logloss'\n",
        "        params[\"eta\"] = 0.05\n",
        "        params[\"subsample\"] = 0.7\n",
        "        params[\"min_child_weight\"] = 10\n",
        "        params[\"colsample_bytree\"] = 0.7\n",
        "        params[\"max_depth\"] = 8\n",
        "        params[\"silent\"] = 1\n",
        "        params[\"seed\"] = seed_val\n",
        "        num_rounds = 100\n",
        "        plst = list(params.items())\n",
        "        xgtrain = xgb.DMatrix(train_X, label=train_y)\n",
        "\n",
        "        if test_y is not None:\n",
        "                xgtest = xgb.DMatrix(test_X, label=test_y)\n",
        "                watchlist = [ (xgtrain,'train'), (xgtest, 'test') ]\n",
        "                model = xgb.train(plst, xgtrain, num_rounds, watchlist, early_stopping_rounds=50, verbose_eval=10)\n",
        "        else:\n",
        "                xgtest = xgb.DMatrix(test_X)\n",
        "                model = xgb.train(plst, xgtrain, num_rounds)\n",
        "\n",
        "        pred_test_y = model.predict(xgtest)\n",
        "        return pred_test_y"
      ]
    },
    {
      "cell_type": "markdown",
      "metadata": {
        "id": "0EgifKJX6jEz"
      },
      "source": [
        "Запустим функцию XGB для обучения и предсказания"
      ]
    },
    {
      "cell_type": "code",
      "execution_count": null,
      "metadata": {
        "id": "_BBznHlJ6jE0"
      },
      "outputs": [],
      "source": [
        "pred = runXGB(train_df, train_y, test_df)\n",
        "\n",
        "# использование порогового значения для получения прогнозов\n",
        "cutoff = 0.2\n",
        "pred[pred>=cutoff] = 1\n",
        "pred[pred<cutoff] = 0\n",
        "out_df[\"Pred\"] = pred\n",
        "out_df = out_df.loc[out_df[\"Pred\"].astype('int')==1]"
      ]
    },
    {
      "cell_type": "code",
      "source": [
        "del train_df, test_df"
      ],
      "metadata": {
        "id": "vzoPH_DrY4kX"
      },
      "execution_count": null,
      "outputs": []
    },
    {
      "cell_type": "code",
      "execution_count": null,
      "metadata": {
        "collapsed": true,
        "id": "-K7IgFxy6jFX"
      },
      "outputs": [],
      "source": [
        "# если товаров более 1, объедините их в одну строку\n",
        "def merge_products(x):\n",
        "    return \" \".join(list(x.astype('str')))\n",
        "out_df = out_df.groupby(\"order_id\")[\"product_id\"].aggregate(merge_products).reset_index()\n",
        "out_df.columns = [\"order_id\", \"products\"]"
      ]
    },
    {
      "cell_type": "markdown",
      "metadata": {
        "id": "LzCpumWB6jFZ"
      },
      "source": [
        "загрузка результата в выходной файл"
      ]
    },
    {
      "cell_type": "code",
      "execution_count": null,
      "metadata": {
        "collapsed": true,
        "id": "mx0kNk2Y6jFZ"
      },
      "outputs": [],
      "source": [
        "# чтение CSV-файла и заполнение продуктов на основе прогнозов\n",
        "sub_df = pd.read_csv(\"/content/drive/MyDrive/Colab Notebooks/Иннополис/Итоговый проект/Market Analysis/sample_submission.csv\", usecols=[\"order_id\"])\n",
        "sub_df = pd.merge(sub_df, out_df, how=\"left\", on=\"order_id\")\n",
        "\n",
        "# когда нет прогнозов, используйте \"None\"\n",
        "sub_df[\"products\"].fillna(\"None\", inplace=True)\n",
        "sub_df.to_csv(\"xgb_starter_3450.csv\", index=False)"
      ]
    },
    {
      "cell_type": "code",
      "execution_count": null,
      "metadata": {
        "id": "_YYVB9YS6jFa",
        "colab": {
          "base_uri": "https://localhost:8080/",
          "height": 424
        },
        "outputId": "32900c30-44f2-49d7-b0d8-417a10822571"
      },
      "outputs": [
        {
          "output_type": "execute_result",
          "data": {
            "text/plain": [
              "         order_id  user_id  order_dow  order_hour_of_day  \\\n",
              "3052321   2634088    11335          3                 18   \n",
              "5273294   3379345   104957          2                  9   \n",
              "6564246   1344587   174152          0                  7   \n",
              "7705447   2206969   196469          1                  9   \n",
              "6947171   1103780    57331          1                 20   \n",
              "...           ...      ...        ...                ...   \n",
              "1965286   1099888    79357          5                 12   \n",
              "4473121    256984    62140          0                 20   \n",
              "8158334    355337    70111          3                  6   \n",
              "6278263   1455864   170500          6                 14   \n",
              "4360443    692804   192171          0                 11   \n",
              "\n",
              "         days_since_prior_order  product_id  reordered_count  reordered_sum  \\\n",
              "3052321                     8.0        6873                1              0   \n",
              "5273294                    30.0       15923                1              0   \n",
              "6564246                    30.0       45692                1              0   \n",
              "7705447                    20.0       31205                1              0   \n",
              "6947171                    15.0       28599                1              0   \n",
              "...                         ...         ...              ...            ...   \n",
              "1965286                     4.0        8277                9              8   \n",
              "4473121                     8.0       42959                1              0   \n",
              "8158334                    30.0       24341                1              0   \n",
              "6278263                    29.0       11097                1              0   \n",
              "4360443                     7.0       47788                5              4   \n",
              "\n",
              "         reordered_latest  aisle_id  department_id  \n",
              "3052321               0.0        83              4  \n",
              "5273294               0.0        67             20  \n",
              "6564246               0.0       107             19  \n",
              "7705447               0.0        26              7  \n",
              "6947171               0.0       130             14  \n",
              "...                   ...       ...            ...  \n",
              "1965286               0.0        24              4  \n",
              "4473121               0.0        74             17  \n",
              "8158334               0.0        31              7  \n",
              "6278263               0.0        30              6  \n",
              "4360443               0.0        24              4  \n",
              "\n",
              "[1000 rows x 11 columns]"
            ],
            "text/html": [
              "\n",
              "  <div id=\"df-4c43f17f-2996-42e1-bd82-344093b19126\" class=\"colab-df-container\">\n",
              "    <div>\n",
              "<style scoped>\n",
              "    .dataframe tbody tr th:only-of-type {\n",
              "        vertical-align: middle;\n",
              "    }\n",
              "\n",
              "    .dataframe tbody tr th {\n",
              "        vertical-align: top;\n",
              "    }\n",
              "\n",
              "    .dataframe thead th {\n",
              "        text-align: right;\n",
              "    }\n",
              "</style>\n",
              "<table border=\"1\" class=\"dataframe\">\n",
              "  <thead>\n",
              "    <tr style=\"text-align: right;\">\n",
              "      <th></th>\n",
              "      <th>order_id</th>\n",
              "      <th>user_id</th>\n",
              "      <th>order_dow</th>\n",
              "      <th>order_hour_of_day</th>\n",
              "      <th>days_since_prior_order</th>\n",
              "      <th>product_id</th>\n",
              "      <th>reordered_count</th>\n",
              "      <th>reordered_sum</th>\n",
              "      <th>reordered_latest</th>\n",
              "      <th>aisle_id</th>\n",
              "      <th>department_id</th>\n",
              "    </tr>\n",
              "  </thead>\n",
              "  <tbody>\n",
              "    <tr>\n",
              "      <th>3052321</th>\n",
              "      <td>2634088</td>\n",
              "      <td>11335</td>\n",
              "      <td>3</td>\n",
              "      <td>18</td>\n",
              "      <td>8.0</td>\n",
              "      <td>6873</td>\n",
              "      <td>1</td>\n",
              "      <td>0</td>\n",
              "      <td>0.0</td>\n",
              "      <td>83</td>\n",
              "      <td>4</td>\n",
              "    </tr>\n",
              "    <tr>\n",
              "      <th>5273294</th>\n",
              "      <td>3379345</td>\n",
              "      <td>104957</td>\n",
              "      <td>2</td>\n",
              "      <td>9</td>\n",
              "      <td>30.0</td>\n",
              "      <td>15923</td>\n",
              "      <td>1</td>\n",
              "      <td>0</td>\n",
              "      <td>0.0</td>\n",
              "      <td>67</td>\n",
              "      <td>20</td>\n",
              "    </tr>\n",
              "    <tr>\n",
              "      <th>6564246</th>\n",
              "      <td>1344587</td>\n",
              "      <td>174152</td>\n",
              "      <td>0</td>\n",
              "      <td>7</td>\n",
              "      <td>30.0</td>\n",
              "      <td>45692</td>\n",
              "      <td>1</td>\n",
              "      <td>0</td>\n",
              "      <td>0.0</td>\n",
              "      <td>107</td>\n",
              "      <td>19</td>\n",
              "    </tr>\n",
              "    <tr>\n",
              "      <th>7705447</th>\n",
              "      <td>2206969</td>\n",
              "      <td>196469</td>\n",
              "      <td>1</td>\n",
              "      <td>9</td>\n",
              "      <td>20.0</td>\n",
              "      <td>31205</td>\n",
              "      <td>1</td>\n",
              "      <td>0</td>\n",
              "      <td>0.0</td>\n",
              "      <td>26</td>\n",
              "      <td>7</td>\n",
              "    </tr>\n",
              "    <tr>\n",
              "      <th>6947171</th>\n",
              "      <td>1103780</td>\n",
              "      <td>57331</td>\n",
              "      <td>1</td>\n",
              "      <td>20</td>\n",
              "      <td>15.0</td>\n",
              "      <td>28599</td>\n",
              "      <td>1</td>\n",
              "      <td>0</td>\n",
              "      <td>0.0</td>\n",
              "      <td>130</td>\n",
              "      <td>14</td>\n",
              "    </tr>\n",
              "    <tr>\n",
              "      <th>...</th>\n",
              "      <td>...</td>\n",
              "      <td>...</td>\n",
              "      <td>...</td>\n",
              "      <td>...</td>\n",
              "      <td>...</td>\n",
              "      <td>...</td>\n",
              "      <td>...</td>\n",
              "      <td>...</td>\n",
              "      <td>...</td>\n",
              "      <td>...</td>\n",
              "      <td>...</td>\n",
              "    </tr>\n",
              "    <tr>\n",
              "      <th>1965286</th>\n",
              "      <td>1099888</td>\n",
              "      <td>79357</td>\n",
              "      <td>5</td>\n",
              "      <td>12</td>\n",
              "      <td>4.0</td>\n",
              "      <td>8277</td>\n",
              "      <td>9</td>\n",
              "      <td>8</td>\n",
              "      <td>0.0</td>\n",
              "      <td>24</td>\n",
              "      <td>4</td>\n",
              "    </tr>\n",
              "    <tr>\n",
              "      <th>4473121</th>\n",
              "      <td>256984</td>\n",
              "      <td>62140</td>\n",
              "      <td>0</td>\n",
              "      <td>20</td>\n",
              "      <td>8.0</td>\n",
              "      <td>42959</td>\n",
              "      <td>1</td>\n",
              "      <td>0</td>\n",
              "      <td>0.0</td>\n",
              "      <td>74</td>\n",
              "      <td>17</td>\n",
              "    </tr>\n",
              "    <tr>\n",
              "      <th>8158334</th>\n",
              "      <td>355337</td>\n",
              "      <td>70111</td>\n",
              "      <td>3</td>\n",
              "      <td>6</td>\n",
              "      <td>30.0</td>\n",
              "      <td>24341</td>\n",
              "      <td>1</td>\n",
              "      <td>0</td>\n",
              "      <td>0.0</td>\n",
              "      <td>31</td>\n",
              "      <td>7</td>\n",
              "    </tr>\n",
              "    <tr>\n",
              "      <th>6278263</th>\n",
              "      <td>1455864</td>\n",
              "      <td>170500</td>\n",
              "      <td>6</td>\n",
              "      <td>14</td>\n",
              "      <td>29.0</td>\n",
              "      <td>11097</td>\n",
              "      <td>1</td>\n",
              "      <td>0</td>\n",
              "      <td>0.0</td>\n",
              "      <td>30</td>\n",
              "      <td>6</td>\n",
              "    </tr>\n",
              "    <tr>\n",
              "      <th>4360443</th>\n",
              "      <td>692804</td>\n",
              "      <td>192171</td>\n",
              "      <td>0</td>\n",
              "      <td>11</td>\n",
              "      <td>7.0</td>\n",
              "      <td>47788</td>\n",
              "      <td>5</td>\n",
              "      <td>4</td>\n",
              "      <td>0.0</td>\n",
              "      <td>24</td>\n",
              "      <td>4</td>\n",
              "    </tr>\n",
              "  </tbody>\n",
              "</table>\n",
              "<p>1000 rows × 11 columns</p>\n",
              "</div>\n",
              "    <div class=\"colab-df-buttons\">\n",
              "\n",
              "  <div class=\"colab-df-container\">\n",
              "    <button class=\"colab-df-convert\" onclick=\"convertToInteractive('df-4c43f17f-2996-42e1-bd82-344093b19126')\"\n",
              "            title=\"Convert this dataframe to an interactive table.\"\n",
              "            style=\"display:none;\">\n",
              "\n",
              "  <svg xmlns=\"http://www.w3.org/2000/svg\" height=\"24px\" viewBox=\"0 -960 960 960\">\n",
              "    <path d=\"M120-120v-720h720v720H120Zm60-500h600v-160H180v160Zm220 220h160v-160H400v160Zm0 220h160v-160H400v160ZM180-400h160v-160H180v160Zm440 0h160v-160H620v160ZM180-180h160v-160H180v160Zm440 0h160v-160H620v160Z\"/>\n",
              "  </svg>\n",
              "    </button>\n",
              "\n",
              "  <style>\n",
              "    .colab-df-container {\n",
              "      display:flex;\n",
              "      gap: 12px;\n",
              "    }\n",
              "\n",
              "    .colab-df-convert {\n",
              "      background-color: #E8F0FE;\n",
              "      border: none;\n",
              "      border-radius: 50%;\n",
              "      cursor: pointer;\n",
              "      display: none;\n",
              "      fill: #1967D2;\n",
              "      height: 32px;\n",
              "      padding: 0 0 0 0;\n",
              "      width: 32px;\n",
              "    }\n",
              "\n",
              "    .colab-df-convert:hover {\n",
              "      background-color: #E2EBFA;\n",
              "      box-shadow: 0px 1px 2px rgba(60, 64, 67, 0.3), 0px 1px 3px 1px rgba(60, 64, 67, 0.15);\n",
              "      fill: #174EA6;\n",
              "    }\n",
              "\n",
              "    .colab-df-buttons div {\n",
              "      margin-bottom: 4px;\n",
              "    }\n",
              "\n",
              "    [theme=dark] .colab-df-convert {\n",
              "      background-color: #3B4455;\n",
              "      fill: #D2E3FC;\n",
              "    }\n",
              "\n",
              "    [theme=dark] .colab-df-convert:hover {\n",
              "      background-color: #434B5C;\n",
              "      box-shadow: 0px 1px 3px 1px rgba(0, 0, 0, 0.15);\n",
              "      filter: drop-shadow(0px 1px 2px rgba(0, 0, 0, 0.3));\n",
              "      fill: #FFFFFF;\n",
              "    }\n",
              "  </style>\n",
              "\n",
              "    <script>\n",
              "      const buttonEl =\n",
              "        document.querySelector('#df-4c43f17f-2996-42e1-bd82-344093b19126 button.colab-df-convert');\n",
              "      buttonEl.style.display =\n",
              "        google.colab.kernel.accessAllowed ? 'block' : 'none';\n",
              "\n",
              "      async function convertToInteractive(key) {\n",
              "        const element = document.querySelector('#df-4c43f17f-2996-42e1-bd82-344093b19126');\n",
              "        const dataTable =\n",
              "          await google.colab.kernel.invokeFunction('convertToInteractive',\n",
              "                                                    [key], {});\n",
              "        if (!dataTable) return;\n",
              "\n",
              "        const docLinkHtml = 'Like what you see? Visit the ' +\n",
              "          '<a target=\"_blank\" href=https://colab.research.google.com/notebooks/data_table.ipynb>data table notebook</a>'\n",
              "          + ' to learn more about interactive tables.';\n",
              "        element.innerHTML = '';\n",
              "        dataTable['output_type'] = 'display_data';\n",
              "        await google.colab.output.renderOutput(dataTable, element);\n",
              "        const docLink = document.createElement('div');\n",
              "        docLink.innerHTML = docLinkHtml;\n",
              "        element.appendChild(docLink);\n",
              "      }\n",
              "    </script>\n",
              "  </div>\n",
              "\n",
              "\n",
              "<div id=\"df-2c1db039-c21d-4838-988d-f1cd8c573e57\">\n",
              "  <button class=\"colab-df-quickchart\" onclick=\"quickchart('df-2c1db039-c21d-4838-988d-f1cd8c573e57')\"\n",
              "            title=\"Suggest charts.\"\n",
              "            style=\"display:none;\">\n",
              "\n",
              "<svg xmlns=\"http://www.w3.org/2000/svg\" height=\"24px\"viewBox=\"0 0 24 24\"\n",
              "     width=\"24px\">\n",
              "    <g>\n",
              "        <path d=\"M19 3H5c-1.1 0-2 .9-2 2v14c0 1.1.9 2 2 2h14c1.1 0 2-.9 2-2V5c0-1.1-.9-2-2-2zM9 17H7v-7h2v7zm4 0h-2V7h2v10zm4 0h-2v-4h2v4z\"/>\n",
              "    </g>\n",
              "</svg>\n",
              "  </button>\n",
              "\n",
              "<style>\n",
              "  .colab-df-quickchart {\n",
              "      --bg-color: #E8F0FE;\n",
              "      --fill-color: #1967D2;\n",
              "      --hover-bg-color: #E2EBFA;\n",
              "      --hover-fill-color: #174EA6;\n",
              "      --disabled-fill-color: #AAA;\n",
              "      --disabled-bg-color: #DDD;\n",
              "  }\n",
              "\n",
              "  [theme=dark] .colab-df-quickchart {\n",
              "      --bg-color: #3B4455;\n",
              "      --fill-color: #D2E3FC;\n",
              "      --hover-bg-color: #434B5C;\n",
              "      --hover-fill-color: #FFFFFF;\n",
              "      --disabled-bg-color: #3B4455;\n",
              "      --disabled-fill-color: #666;\n",
              "  }\n",
              "\n",
              "  .colab-df-quickchart {\n",
              "    background-color: var(--bg-color);\n",
              "    border: none;\n",
              "    border-radius: 50%;\n",
              "    cursor: pointer;\n",
              "    display: none;\n",
              "    fill: var(--fill-color);\n",
              "    height: 32px;\n",
              "    padding: 0;\n",
              "    width: 32px;\n",
              "  }\n",
              "\n",
              "  .colab-df-quickchart:hover {\n",
              "    background-color: var(--hover-bg-color);\n",
              "    box-shadow: 0 1px 2px rgba(60, 64, 67, 0.3), 0 1px 3px 1px rgba(60, 64, 67, 0.15);\n",
              "    fill: var(--button-hover-fill-color);\n",
              "  }\n",
              "\n",
              "  .colab-df-quickchart-complete:disabled,\n",
              "  .colab-df-quickchart-complete:disabled:hover {\n",
              "    background-color: var(--disabled-bg-color);\n",
              "    fill: var(--disabled-fill-color);\n",
              "    box-shadow: none;\n",
              "  }\n",
              "\n",
              "  .colab-df-spinner {\n",
              "    border: 2px solid var(--fill-color);\n",
              "    border-color: transparent;\n",
              "    border-bottom-color: var(--fill-color);\n",
              "    animation:\n",
              "      spin 1s steps(1) infinite;\n",
              "  }\n",
              "\n",
              "  @keyframes spin {\n",
              "    0% {\n",
              "      border-color: transparent;\n",
              "      border-bottom-color: var(--fill-color);\n",
              "      border-left-color: var(--fill-color);\n",
              "    }\n",
              "    20% {\n",
              "      border-color: transparent;\n",
              "      border-left-color: var(--fill-color);\n",
              "      border-top-color: var(--fill-color);\n",
              "    }\n",
              "    30% {\n",
              "      border-color: transparent;\n",
              "      border-left-color: var(--fill-color);\n",
              "      border-top-color: var(--fill-color);\n",
              "      border-right-color: var(--fill-color);\n",
              "    }\n",
              "    40% {\n",
              "      border-color: transparent;\n",
              "      border-right-color: var(--fill-color);\n",
              "      border-top-color: var(--fill-color);\n",
              "    }\n",
              "    60% {\n",
              "      border-color: transparent;\n",
              "      border-right-color: var(--fill-color);\n",
              "    }\n",
              "    80% {\n",
              "      border-color: transparent;\n",
              "      border-right-color: var(--fill-color);\n",
              "      border-bottom-color: var(--fill-color);\n",
              "    }\n",
              "    90% {\n",
              "      border-color: transparent;\n",
              "      border-bottom-color: var(--fill-color);\n",
              "    }\n",
              "  }\n",
              "</style>\n",
              "\n",
              "  <script>\n",
              "    async function quickchart(key) {\n",
              "      const quickchartButtonEl =\n",
              "        document.querySelector('#' + key + ' button');\n",
              "      quickchartButtonEl.disabled = true;  // To prevent multiple clicks.\n",
              "      quickchartButtonEl.classList.add('colab-df-spinner');\n",
              "      try {\n",
              "        const charts = await google.colab.kernel.invokeFunction(\n",
              "            'suggestCharts', [key], {});\n",
              "      } catch (error) {\n",
              "        console.error('Error during call to suggestCharts:', error);\n",
              "      }\n",
              "      quickchartButtonEl.classList.remove('colab-df-spinner');\n",
              "      quickchartButtonEl.classList.add('colab-df-quickchart-complete');\n",
              "    }\n",
              "    (() => {\n",
              "      let quickchartButtonEl =\n",
              "        document.querySelector('#df-2c1db039-c21d-4838-988d-f1cd8c573e57 button');\n",
              "      quickchartButtonEl.style.display =\n",
              "        google.colab.kernel.accessAllowed ? 'block' : 'none';\n",
              "    })();\n",
              "  </script>\n",
              "</div>\n",
              "    </div>\n",
              "  </div>\n"
            ]
          },
          "metadata": {},
          "execution_count": 36
        }
      ],
      "source": [
        "X_train['reordered_latest'] = X_train['reordered_latest'].replace(np.nan, 0)\n",
        "X_test['reordered_latest'] = X_test['reordered_latest'].replace(np.nan, 0)\n",
        "X_test.head(1000)"
      ]
    },
    {
      "cell_type": "code",
      "source": [],
      "metadata": {
        "id": "vjaoLxTEaJja"
      },
      "execution_count": null,
      "outputs": []
    },
    {
      "cell_type": "markdown",
      "metadata": {
        "id": "OKO0YW_a6jFl"
      },
      "source": [
        "# Logistic Regression"
      ]
    },
    {
      "cell_type": "code",
      "execution_count": null,
      "metadata": {
        "collapsed": true,
        "id": "ZZqP4kEE6jFm"
      },
      "outputs": [],
      "source": [
        "from sklearn.linear_model import LogisticRegression"
      ]
    },
    {
      "cell_type": "code",
      "execution_count": null,
      "metadata": {
        "collapsed": true,
        "id": "U-eIl-206jFn"
      },
      "outputs": [],
      "source": [
        "clf=(LogisticRegression(C=0.02))"
      ]
    },
    {
      "cell_type": "code",
      "execution_count": null,
      "metadata": {
        "id": "2OHhAYVh6jFo"
      },
      "outputs": [],
      "source": [
        "clf.fit(X_train, y_train)"
      ]
    },
    {
      "cell_type": "markdown",
      "source": [
        "![image.png](data:image/png;base64,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)"
      ],
      "metadata": {
        "id": "ikZG4_jhD-aK"
      }
    },
    {
      "cell_type": "code",
      "execution_count": null,
      "metadata": {
        "collapsed": true,
        "id": "O0r6eGSr6jF0"
      },
      "outputs": [],
      "source": [
        "pred=clf.predict(X_test)"
      ]
    },
    {
      "cell_type": "code",
      "execution_count": null,
      "metadata": {
        "id": "hlI_ItrW6jF1",
        "outputId": "3c6c215e-8005-4527-cbbe-50da6adbf769",
        "colab": {
          "base_uri": "https://localhost:8080/"
        }
      },
      "outputs": [
        {
          "output_type": "stream",
          "name": "stdout",
          "text": [
            "0.9019834165224757\n"
          ]
        }
      ],
      "source": [
        "print(accuracy_score(pred, y_test))"
      ]
    },
    {
      "cell_type": "code",
      "source": [
        "print (\"\\n Classification report : \\n\", classification_report(y_test, pred))"
      ],
      "metadata": {
        "id": "XtQmhs2vO8Yx"
      },
      "execution_count": null,
      "outputs": []
    },
    {
      "cell_type": "markdown",
      "source": [
        "![image.png](data:image/png;base64,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)"
      ],
      "metadata": {
        "id": "URh2aOI4dVhl"
      }
    },
    {
      "cell_type": "code",
      "source": [
        "f1 = f1_score(y_test, pred)\n",
        "print(\"F1 Score: \", f1)"
      ],
      "metadata": {
        "colab": {
          "base_uri": "https://localhost:8080/"
        },
        "id": "c-nOsZ_OOAJc",
        "outputId": "3933e6c5-b3e5-4b89-9ac6-e408857fd592"
      },
      "execution_count": null,
      "outputs": [
        {
          "output_type": "stream",
          "name": "stdout",
          "text": [
            "F1 Score:  0.0\n"
          ]
        }
      ]
    },
    {
      "cell_type": "code",
      "source": [
        "model_roc_auc = roc_auc_score(y_test,pred)\n",
        "print (\"Area under curve : \",model_roc_auc,\"\\n\")\n",
        "fpr,tpr,thresholds = roc_curve(y_test,pred)\n",
        "gmeans = np.sqrt(tpr * (1-fpr))\n",
        "ix = np.argmax(gmeans)\n",
        "threshold = np.round(thresholds[ix],3)\n",
        "\n",
        "plt.figure(figsize=(12,12))\n",
        "plt.subplot(222)\n",
        "plt.plot(fpr, tpr, color='darkorange', lw=1, label = \"Auc : %.3f\" %model_roc_auc)\n",
        "plt.plot([0, 1], [0, 1], color='navy', lw=2, linestyle='--')\n",
        "plt.scatter(fpr[ix], tpr[ix], marker='o', color='black', label='Best Threshold:' + str(threshold))\n",
        "plt.xlim([0.0, 1.0])\n",
        "plt.ylim([0.0, 1.05])\n",
        "plt.xlabel('False Positive Rate')\n",
        "plt.ylabel('True Positive Rate')\n",
        "plt.title('Receiver operating characteristic')\n",
        "plt.legend(loc=\"lower right\")\n",
        "\n",
        "plt.show()"
      ],
      "metadata": {
        "id": "uzanvBaDUqtu"
      },
      "execution_count": null,
      "outputs": []
    },
    {
      "cell_type": "markdown",
      "source": [
        "![image.png](data:image/png;base64,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)"
      ],
      "metadata": {
        "id": "ZtY2eSiSdX0A"
      }
    },
    {
      "cell_type": "markdown",
      "metadata": {
        "id": "Kwbghmu-6jF2"
      },
      "source": [
        "# Random Forest"
      ]
    },
    {
      "cell_type": "code",
      "execution_count": null,
      "metadata": {
        "collapsed": true,
        "id": "ai8Ba6jw6jF8"
      },
      "outputs": [],
      "source": [
        "from sklearn.ensemble import RandomForestClassifier"
      ]
    },
    {
      "cell_type": "code",
      "execution_count": null,
      "metadata": {
        "collapsed": true,
        "id": "CzuxBlgy6jF9"
      },
      "outputs": [],
      "source": [
        "clfrf = RandomForestClassifier(max_features=\"log2\", max_depth=11, n_estimators=24,min_samples_split=1000, oob_score=True)"
      ]
    },
    {
      "cell_type": "code",
      "execution_count": null,
      "metadata": {
        "id": "X-SfE0QF6jF9"
      },
      "outputs": [],
      "source": [
        "clfrf.fit(X_train, y_train)"
      ]
    },
    {
      "cell_type": "markdown",
      "source": [
        "![image.png](data:image/png;base64,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)"
      ],
      "metadata": {
        "id": "sD4BUc2OD7qq"
      }
    },
    {
      "cell_type": "code",
      "execution_count": null,
      "metadata": {
        "collapsed": true,
        "id": "B6Fl0zhX6jG4"
      },
      "outputs": [],
      "source": [
        "predrf=clfrf.predict(X_test)"
      ]
    },
    {
      "cell_type": "code",
      "execution_count": null,
      "metadata": {
        "id": "t-2XSwBK6jG-",
        "outputId": "a056d95f-e9d9-44a7-ac8f-75b9a68db7d2",
        "colab": {
          "base_uri": "https://localhost:8080/"
        }
      },
      "outputs": [
        {
          "output_type": "execute_result",
          "data": {
            "text/plain": [
              "0.9054708169341842"
            ]
          },
          "metadata": {},
          "execution_count": 48
        }
      ],
      "source": [
        "accuracy_score(predrf, y_test)"
      ]
    },
    {
      "cell_type": "code",
      "source": [
        "print (\"\\n Classification report : \\n\", classification_report(y_test, predrf))"
      ],
      "metadata": {
        "id": "YTmN_S3Yao-t",
        "colab": {
          "base_uri": "https://localhost:8080/"
        },
        "outputId": "3948795c-82e1-4a60-bc83-37909b147fe5"
      },
      "execution_count": null,
      "outputs": [
        {
          "output_type": "stream",
          "name": "stdout",
          "text": [
            "\n",
            " Classification report : \n",
            "               precision    recall  f1-score   support\n",
            "\n",
            "         0.0       0.91      0.99      0.95   2522522\n",
            "         1.0       0.60      0.10      0.18    274117\n",
            "\n",
            "    accuracy                           0.91   2796639\n",
            "   macro avg       0.76      0.55      0.56   2796639\n",
            "weighted avg       0.88      0.91      0.87   2796639\n",
            "\n"
          ]
        }
      ]
    },
    {
      "cell_type": "code",
      "source": [
        "f1 = f1_score(y_test, predrf)\n",
        "print(\"F1 Score: \", f1)"
      ],
      "metadata": {
        "colab": {
          "base_uri": "https://localhost:8080/"
        },
        "id": "B25UUP_JPYqk",
        "outputId": "908d7d36-bc59-4296-92be-6240b9184eed"
      },
      "execution_count": null,
      "outputs": [
        {
          "output_type": "stream",
          "name": "stdout",
          "text": [
            "F1 Score:  0.1760870649247033\n"
          ]
        }
      ]
    },
    {
      "cell_type": "code",
      "source": [
        "model_roc_auc = roc_auc_score(y_test,predrf)\n",
        "print (\"Area under curve : \",model_roc_auc,\"\\n\")\n",
        "fpr,tpr,thresholds = roc_curve(y_test,predrf)\n",
        "gmeans = np.sqrt(tpr * (1-fpr))\n",
        "ix = np.argmax(gmeans)\n",
        "threshold = np.round(thresholds[ix],3)\n",
        "\n",
        "plt.figure(figsize=(12,12))\n",
        "plt.subplot(222)\n",
        "plt.plot(fpr, tpr, color='darkorange', lw=1, label = \"Auc : %.3f\" %model_roc_auc)\n",
        "plt.plot([0, 1], [0, 1], color='navy', lw=2, linestyle='--')\n",
        "plt.scatter(fpr[ix], tpr[ix], marker='o', color='black', label='Best Threshold:' + str(threshold))\n",
        "plt.xlim([0.0, 1.0])\n",
        "plt.ylim([0.0, 1.05])\n",
        "plt.xlabel('False Positive Rate')\n",
        "plt.ylabel('True Positive Rate')\n",
        "plt.title('Receiver operating characteristic')\n",
        "plt.legend(loc=\"lower right\")\n",
        "\n",
        "plt.show()"
      ],
      "metadata": {
        "id": "58Aa5PUxPbIj"
      },
      "execution_count": null,
      "outputs": []
    },
    {
      "cell_type": "markdown",
      "source": [
        "![image.png](data:image/png;base64,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)"
      ],
      "metadata": {
        "id": "uNjjM9sodbMM"
      }
    },
    {
      "cell_type": "code",
      "source": [],
      "metadata": {
        "id": "Xa4VJRjoUbGA"
      },
      "execution_count": null,
      "outputs": []
    }
  ]
}