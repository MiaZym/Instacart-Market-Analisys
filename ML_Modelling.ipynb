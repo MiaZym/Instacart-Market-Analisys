{
  "nbformat": 4,
  "nbformat_minor": 0,
  "metadata": {
    "colab": {
      "provenance": []
    },
    "kernelspec": {
      "name": "python3",
      "display_name": "Python 3"
    },
    "language_info": {
      "name": "python"
    }
  },
  "cells": [
    {
      "cell_type": "code",
      "execution_count": null,
      "metadata": {
        "id": "6QSYjUkKJIAv"
      },
      "outputs": [],
      "source": [
        "import numpy as np\n",
        "import pandas as pd"
      ]
    },
    {
      "cell_type": "code",
      "source": [
        "train_df = pd.read_csv('/Market Analysis/train_df.csv', index_col=0)\n",
        "test_df = pd.read_csv('/Market Analysis/test_df.csv', index_col=0)"
      ],
      "metadata": {
        "id": "rsJCRZRVJPRf"
      },
      "execution_count": null,
      "outputs": []
    },
    {
      "cell_type": "code",
      "execution_count": null,
      "metadata": {
        "collapsed": true,
        "id": "WPQTzH6_6jD4"
      },
      "outputs": [],
      "source": [
        "from numpy import loadtxt\n",
        "import xgboost as xgb\n",
        "from xgboost import XGBClassifier\n",
        "from sklearn.model_selection import train_test_split\n",
        "from sklearn.metrics import accuracy_score"
      ]
    },
    {
      "cell_type": "code",
      "execution_count": null,
      "metadata": {
        "collapsed": true,
        "id": "ErXXzV1K6jD5"
      },
      "outputs": [],
      "source": [
        "X=train_df.drop(['reordered','eval_set'],axis=1)"
      ]
    },
    {
      "cell_type": "code",
      "source": [],
      "metadata": {
        "id": "5J9Cg2ygXl0U"
      },
      "execution_count": null,
      "outputs": []
    },
    {
      "cell_type": "code",
      "execution_count": null,
      "metadata": {
        "id": "BlPlMqUq6jEB",
        "outputId": "01f4e5f5-8f2d-4c66-d567-9340c8d1fe5c",
        "colab": {
          "base_uri": "https://localhost:8080/",
          "height": 206
        }
      },
      "outputs": [
        {
          "output_type": "execute_result",
          "data": {
            "text/plain": [
              "   order_id  user_id  order_dow  order_hour_of_day  days_since_prior_order  \\\n",
              "0         1   112108          4                 10                     9.0   \n",
              "1        96    17227          6                 20                    30.0   \n",
              "2      3243   206024          3                 15                     2.0   \n",
              "3     12950    11456          1                 14                    13.0   \n",
              "4     17683   177724          5                 21                     0.0   \n",
              "\n",
              "   product_id  reordered_count  reordered_sum  reordered_latest  aisle_id  \\\n",
              "0        2067                1              0               NaN         3   \n",
              "1        2067                1              0               NaN         3   \n",
              "2        2067                1              0               NaN         3   \n",
              "3        2067                1              0               0.0         3   \n",
              "4        2067                1              0               NaN         3   \n",
              "\n",
              "   department_id  \n",
              "0             19  \n",
              "1             19  \n",
              "2             19  \n",
              "3             19  \n",
              "4             19  "
            ],
            "text/html": [
              "\n",
              "  <div id=\"df-51a1e9ac-5242-4bbc-8ec6-477e593794c9\" class=\"colab-df-container\">\n",
              "    <div>\n",
              "<style scoped>\n",
              "    .dataframe tbody tr th:only-of-type {\n",
              "        vertical-align: middle;\n",
              "    }\n",
              "\n",
              "    .dataframe tbody tr th {\n",
              "        vertical-align: top;\n",
              "    }\n",
              "\n",
              "    .dataframe thead th {\n",
              "        text-align: right;\n",
              "    }\n",
              "</style>\n",
              "<table border=\"1\" class=\"dataframe\">\n",
              "  <thead>\n",
              "    <tr style=\"text-align: right;\">\n",
              "      <th></th>\n",
              "      <th>order_id</th>\n",
              "      <th>user_id</th>\n",
              "      <th>order_dow</th>\n",
              "      <th>order_hour_of_day</th>\n",
              "      <th>days_since_prior_order</th>\n",
              "      <th>product_id</th>\n",
              "      <th>reordered_count</th>\n",
              "      <th>reordered_sum</th>\n",
              "      <th>reordered_latest</th>\n",
              "      <th>aisle_id</th>\n",
              "      <th>department_id</th>\n",
              "    </tr>\n",
              "  </thead>\n",
              "  <tbody>\n",
              "    <tr>\n",
              "      <th>0</th>\n",
              "      <td>1</td>\n",
              "      <td>112108</td>\n",
              "      <td>4</td>\n",
              "      <td>10</td>\n",
              "      <td>9.0</td>\n",
              "      <td>2067</td>\n",
              "      <td>1</td>\n",
              "      <td>0</td>\n",
              "      <td>NaN</td>\n",
              "      <td>3</td>\n",
              "      <td>19</td>\n",
              "    </tr>\n",
              "    <tr>\n",
              "      <th>1</th>\n",
              "      <td>96</td>\n",
              "      <td>17227</td>\n",
              "      <td>6</td>\n",
              "      <td>20</td>\n",
              "      <td>30.0</td>\n",
              "      <td>2067</td>\n",
              "      <td>1</td>\n",
              "      <td>0</td>\n",
              "      <td>NaN</td>\n",
              "      <td>3</td>\n",
              "      <td>19</td>\n",
              "    </tr>\n",
              "    <tr>\n",
              "      <th>2</th>\n",
              "      <td>3243</td>\n",
              "      <td>206024</td>\n",
              "      <td>3</td>\n",
              "      <td>15</td>\n",
              "      <td>2.0</td>\n",
              "      <td>2067</td>\n",
              "      <td>1</td>\n",
              "      <td>0</td>\n",
              "      <td>NaN</td>\n",
              "      <td>3</td>\n",
              "      <td>19</td>\n",
              "    </tr>\n",
              "    <tr>\n",
              "      <th>3</th>\n",
              "      <td>12950</td>\n",
              "      <td>11456</td>\n",
              "      <td>1</td>\n",
              "      <td>14</td>\n",
              "      <td>13.0</td>\n",
              "      <td>2067</td>\n",
              "      <td>1</td>\n",
              "      <td>0</td>\n",
              "      <td>0.0</td>\n",
              "      <td>3</td>\n",
              "      <td>19</td>\n",
              "    </tr>\n",
              "    <tr>\n",
              "      <th>4</th>\n",
              "      <td>17683</td>\n",
              "      <td>177724</td>\n",
              "      <td>5</td>\n",
              "      <td>21</td>\n",
              "      <td>0.0</td>\n",
              "      <td>2067</td>\n",
              "      <td>1</td>\n",
              "      <td>0</td>\n",
              "      <td>NaN</td>\n",
              "      <td>3</td>\n",
              "      <td>19</td>\n",
              "    </tr>\n",
              "  </tbody>\n",
              "</table>\n",
              "</div>\n",
              "    <div class=\"colab-df-buttons\">\n",
              "\n",
              "  <div class=\"colab-df-container\">\n",
              "    <button class=\"colab-df-convert\" onclick=\"convertToInteractive('df-51a1e9ac-5242-4bbc-8ec6-477e593794c9')\"\n",
              "            title=\"Convert this dataframe to an interactive table.\"\n",
              "            style=\"display:none;\">\n",
              "\n",
              "  <svg xmlns=\"http://www.w3.org/2000/svg\" height=\"24px\" viewBox=\"0 -960 960 960\">\n",
              "    <path d=\"M120-120v-720h720v720H120Zm60-500h600v-160H180v160Zm220 220h160v-160H400v160Zm0 220h160v-160H400v160ZM180-400h160v-160H180v160Zm440 0h160v-160H620v160ZM180-180h160v-160H180v160Zm440 0h160v-160H620v160Z\"/>\n",
              "  </svg>\n",
              "    </button>\n",
              "\n",
              "  <style>\n",
              "    .colab-df-container {\n",
              "      display:flex;\n",
              "      gap: 12px;\n",
              "    }\n",
              "\n",
              "    .colab-df-convert {\n",
              "      background-color: #E8F0FE;\n",
              "      border: none;\n",
              "      border-radius: 50%;\n",
              "      cursor: pointer;\n",
              "      display: none;\n",
              "      fill: #1967D2;\n",
              "      height: 32px;\n",
              "      padding: 0 0 0 0;\n",
              "      width: 32px;\n",
              "    }\n",
              "\n",
              "    .colab-df-convert:hover {\n",
              "      background-color: #E2EBFA;\n",
              "      box-shadow: 0px 1px 2px rgba(60, 64, 67, 0.3), 0px 1px 3px 1px rgba(60, 64, 67, 0.15);\n",
              "      fill: #174EA6;\n",
              "    }\n",
              "\n",
              "    .colab-df-buttons div {\n",
              "      margin-bottom: 4px;\n",
              "    }\n",
              "\n",
              "    [theme=dark] .colab-df-convert {\n",
              "      background-color: #3B4455;\n",
              "      fill: #D2E3FC;\n",
              "    }\n",
              "\n",
              "    [theme=dark] .colab-df-convert:hover {\n",
              "      background-color: #434B5C;\n",
              "      box-shadow: 0px 1px 3px 1px rgba(0, 0, 0, 0.15);\n",
              "      filter: drop-shadow(0px 1px 2px rgba(0, 0, 0, 0.3));\n",
              "      fill: #FFFFFF;\n",
              "    }\n",
              "  </style>\n",
              "\n",
              "    <script>\n",
              "      const buttonEl =\n",
              "        document.querySelector('#df-51a1e9ac-5242-4bbc-8ec6-477e593794c9 button.colab-df-convert');\n",
              "      buttonEl.style.display =\n",
              "        google.colab.kernel.accessAllowed ? 'block' : 'none';\n",
              "\n",
              "      async function convertToInteractive(key) {\n",
              "        const element = document.querySelector('#df-51a1e9ac-5242-4bbc-8ec6-477e593794c9');\n",
              "        const dataTable =\n",
              "          await google.colab.kernel.invokeFunction('convertToInteractive',\n",
              "                                                    [key], {});\n",
              "        if (!dataTable) return;\n",
              "\n",
              "        const docLinkHtml = 'Like what you see? Visit the ' +\n",
              "          '<a target=\"_blank\" href=https://colab.research.google.com/notebooks/data_table.ipynb>data table notebook</a>'\n",
              "          + ' to learn more about interactive tables.';\n",
              "        element.innerHTML = '';\n",
              "        dataTable['output_type'] = 'display_data';\n",
              "        await google.colab.output.renderOutput(dataTable, element);\n",
              "        const docLink = document.createElement('div');\n",
              "        docLink.innerHTML = docLinkHtml;\n",
              "        element.appendChild(docLink);\n",
              "      }\n",
              "    </script>\n",
              "  </div>\n",
              "\n",
              "\n",
              "<div id=\"df-fbdd6266-64fc-4a3e-885f-ebedcc3bb77d\">\n",
              "  <button class=\"colab-df-quickchart\" onclick=\"quickchart('df-fbdd6266-64fc-4a3e-885f-ebedcc3bb77d')\"\n",
              "            title=\"Suggest charts.\"\n",
              "            style=\"display:none;\">\n",
              "\n",
              "<svg xmlns=\"http://www.w3.org/2000/svg\" height=\"24px\"viewBox=\"0 0 24 24\"\n",
              "     width=\"24px\">\n",
              "    <g>\n",
              "        <path d=\"M19 3H5c-1.1 0-2 .9-2 2v14c0 1.1.9 2 2 2h14c1.1 0 2-.9 2-2V5c0-1.1-.9-2-2-2zM9 17H7v-7h2v7zm4 0h-2V7h2v10zm4 0h-2v-4h2v4z\"/>\n",
              "    </g>\n",
              "</svg>\n",
              "  </button>\n",
              "\n",
              "<style>\n",
              "  .colab-df-quickchart {\n",
              "      --bg-color: #E8F0FE;\n",
              "      --fill-color: #1967D2;\n",
              "      --hover-bg-color: #E2EBFA;\n",
              "      --hover-fill-color: #174EA6;\n",
              "      --disabled-fill-color: #AAA;\n",
              "      --disabled-bg-color: #DDD;\n",
              "  }\n",
              "\n",
              "  [theme=dark] .colab-df-quickchart {\n",
              "      --bg-color: #3B4455;\n",
              "      --fill-color: #D2E3FC;\n",
              "      --hover-bg-color: #434B5C;\n",
              "      --hover-fill-color: #FFFFFF;\n",
              "      --disabled-bg-color: #3B4455;\n",
              "      --disabled-fill-color: #666;\n",
              "  }\n",
              "\n",
              "  .colab-df-quickchart {\n",
              "    background-color: var(--bg-color);\n",
              "    border: none;\n",
              "    border-radius: 50%;\n",
              "    cursor: pointer;\n",
              "    display: none;\n",
              "    fill: var(--fill-color);\n",
              "    height: 32px;\n",
              "    padding: 0;\n",
              "    width: 32px;\n",
              "  }\n",
              "\n",
              "  .colab-df-quickchart:hover {\n",
              "    background-color: var(--hover-bg-color);\n",
              "    box-shadow: 0 1px 2px rgba(60, 64, 67, 0.3), 0 1px 3px 1px rgba(60, 64, 67, 0.15);\n",
              "    fill: var(--button-hover-fill-color);\n",
              "  }\n",
              "\n",
              "  .colab-df-quickchart-complete:disabled,\n",
              "  .colab-df-quickchart-complete:disabled:hover {\n",
              "    background-color: var(--disabled-bg-color);\n",
              "    fill: var(--disabled-fill-color);\n",
              "    box-shadow: none;\n",
              "  }\n",
              "\n",
              "  .colab-df-spinner {\n",
              "    border: 2px solid var(--fill-color);\n",
              "    border-color: transparent;\n",
              "    border-bottom-color: var(--fill-color);\n",
              "    animation:\n",
              "      spin 1s steps(1) infinite;\n",
              "  }\n",
              "\n",
              "  @keyframes spin {\n",
              "    0% {\n",
              "      border-color: transparent;\n",
              "      border-bottom-color: var(--fill-color);\n",
              "      border-left-color: var(--fill-color);\n",
              "    }\n",
              "    20% {\n",
              "      border-color: transparent;\n",
              "      border-left-color: var(--fill-color);\n",
              "      border-top-color: var(--fill-color);\n",
              "    }\n",
              "    30% {\n",
              "      border-color: transparent;\n",
              "      border-left-color: var(--fill-color);\n",
              "      border-top-color: var(--fill-color);\n",
              "      border-right-color: var(--fill-color);\n",
              "    }\n",
              "    40% {\n",
              "      border-color: transparent;\n",
              "      border-right-color: var(--fill-color);\n",
              "      border-top-color: var(--fill-color);\n",
              "    }\n",
              "    60% {\n",
              "      border-color: transparent;\n",
              "      border-right-color: var(--fill-color);\n",
              "    }\n",
              "    80% {\n",
              "      border-color: transparent;\n",
              "      border-right-color: var(--fill-color);\n",
              "      border-bottom-color: var(--fill-color);\n",
              "    }\n",
              "    90% {\n",
              "      border-color: transparent;\n",
              "      border-bottom-color: var(--fill-color);\n",
              "    }\n",
              "  }\n",
              "</style>\n",
              "\n",
              "  <script>\n",
              "    async function quickchart(key) {\n",
              "      const quickchartButtonEl =\n",
              "        document.querySelector('#' + key + ' button');\n",
              "      quickchartButtonEl.disabled = true;  // To prevent multiple clicks.\n",
              "      quickchartButtonEl.classList.add('colab-df-spinner');\n",
              "      try {\n",
              "        const charts = await google.colab.kernel.invokeFunction(\n",
              "            'suggestCharts', [key], {});\n",
              "      } catch (error) {\n",
              "        console.error('Error during call to suggestCharts:', error);\n",
              "      }\n",
              "      quickchartButtonEl.classList.remove('colab-df-spinner');\n",
              "      quickchartButtonEl.classList.add('colab-df-quickchart-complete');\n",
              "    }\n",
              "    (() => {\n",
              "      let quickchartButtonEl =\n",
              "        document.querySelector('#df-fbdd6266-64fc-4a3e-885f-ebedcc3bb77d button');\n",
              "      quickchartButtonEl.style.display =\n",
              "        google.colab.kernel.accessAllowed ? 'block' : 'none';\n",
              "    })();\n",
              "  </script>\n",
              "</div>\n",
              "    </div>\n",
              "  </div>\n"
            ]
          },
          "metadata": {},
          "execution_count": 5
        }
      ],
      "source": [
        "X.head()"
      ]
    },
    {
      "cell_type": "code",
      "execution_count": null,
      "metadata": {
        "collapsed": true,
        "id": "6b9ovKMg6jEH"
      },
      "outputs": [],
      "source": [
        "Y = train_df['reordered']"
      ]
    },
    {
      "cell_type": "code",
      "execution_count": null,
      "metadata": {
        "id": "NhQzB2y66jEI",
        "outputId": "81008726-d38e-4c9a-e71f-57ecc04cceb3",
        "colab": {
          "base_uri": "https://localhost:8080/"
        }
      },
      "outputs": [
        {
          "output_type": "execute_result",
          "data": {
            "text/plain": [
              "0    0.0\n",
              "1    0.0\n",
              "2    0.0\n",
              "3    0.0\n",
              "4    0.0\n",
              "Name: reordered, dtype: float64"
            ]
          },
          "metadata": {},
          "execution_count": 7
        }
      ],
      "source": [
        "Y.head()"
      ]
    },
    {
      "cell_type": "markdown",
      "metadata": {
        "id": "oBcmtZ7s6jEJ"
      },
      "source": [
        "разделим данные на обучающие и тестовые наборы"
      ]
    },
    {
      "cell_type": "code",
      "execution_count": null,
      "metadata": {
        "collapsed": true,
        "id": "FitZCidE6jEP"
      },
      "outputs": [],
      "source": [
        "X_train, X_test, y_train, y_test = train_test_split(X, Y, test_size=0.33, random_state=7)"
      ]
    },
    {
      "cell_type": "code",
      "execution_count": null,
      "metadata": {
        "collapsed": true,
        "id": "GiDn6wo96jER"
      },
      "outputs": [],
      "source": [
        "model = XGBClassifier()"
      ]
    },
    {
      "cell_type": "code",
      "source": [
        "del X, Y"
      ],
      "metadata": {
        "id": "Ip-ruVndBdR2"
      },
      "execution_count": null,
      "outputs": []
    },
    {
      "cell_type": "code",
      "source": [
        "train_y = train_df.reordered.values\n",
        "out_df = test_df[[\"order_id\", \"product_id\"]]"
      ],
      "metadata": {
        "id": "5o0_X6tT-n0p"
      },
      "execution_count": null,
      "outputs": []
    },
    {
      "cell_type": "code",
      "source": [
        "train_df = np.array(train_df.drop([\"order_id\", \"user_id\", \"reordered\",'eval_set'], axis=1))\n",
        "test_df = np.array(test_df.drop([\"order_id\", \"user_id\",'eval_set'], axis=1))"
      ],
      "metadata": {
        "id": "9I9JinXh-zCS"
      },
      "execution_count": null,
      "outputs": []
    },
    {
      "cell_type": "code",
      "source": [],
      "metadata": {
        "id": "7KndskTpX22T"
      },
      "execution_count": null,
      "outputs": []
    },
    {
      "cell_type": "markdown",
      "metadata": {
        "id": "T7oCaTMU6jES"
      },
      "source": [
        "Обучиение модели с помощью XGBClassifier"
      ]
    },
    {
      "cell_type": "code",
      "execution_count": null,
      "metadata": {
        "id": "qA69mGUM6jEY"
      },
      "outputs": [],
      "source": [
        "model.fit(X_train, y_train)"
      ]
    },
    {
      "cell_type": "markdown",
      "source": [
        "![image.png](data:image/png;base64,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)"
      ],
      "metadata": {
        "id": "UIBtE-s8ECQL"
      }
    },
    {
      "cell_type": "code",
      "execution_count": null,
      "metadata": {
        "collapsed": true,
        "id": "Al8O-gE66jEZ"
      },
      "outputs": [],
      "source": [
        "y_pred = model.predict(X_test)"
      ]
    },
    {
      "cell_type": "code",
      "execution_count": null,
      "metadata": {
        "collapsed": true,
        "id": "brKlz3JI6jEa"
      },
      "outputs": [],
      "source": [
        "predictions = [round(value) for value in y_pred]"
      ]
    },
    {
      "cell_type": "code",
      "execution_count": null,
      "metadata": {
        "collapsed": true,
        "id": "R2knPD9O6jEj"
      },
      "outputs": [],
      "source": [
        "accuracy = accuracy_score(y_test, predictions)"
      ]
    },
    {
      "cell_type": "markdown",
      "metadata": {
        "id": "CbjE5f1B6jEk"
      },
      "source": [
        "### Accuracy XGBoost Classifier"
      ]
    },
    {
      "cell_type": "code",
      "execution_count": null,
      "metadata": {
        "id": "_pyvKmS_6jEl",
        "outputId": "63eee034-db69-48ae-b493-612310e84bfb",
        "colab": {
          "base_uri": "https://localhost:8080/"
        }
      },
      "outputs": [
        {
          "output_type": "stream",
          "name": "stdout",
          "text": [
            "Accuracy: 90.65%\n"
          ]
        }
      ],
      "source": [
        "print(\"Accuracy: %.2f%%\" % (accuracy * 100.0))"
      ]
    },
    {
      "cell_type": "markdown",
      "metadata": {
        "id": "U4u0ftWO6jEn"
      },
      "source": [
        "Построю XGb функцию"
      ]
    },
    {
      "cell_type": "code",
      "execution_count": null,
      "metadata": {
        "collapsed": true,
        "id": "GAIYlqSc6jEx"
      },
      "outputs": [],
      "source": [
        "def runXGB(train_X, train_y, test_X, test_y=None, feature_names=None, seed_val=0):\n",
        "        params = {}\n",
        "        params[\"objective\"] = \"binary:logistic\"\n",
        "        params['eval_metric'] = 'logloss'\n",
        "        params[\"eta\"] = 0.05\n",
        "        params[\"subsample\"] = 0.7\n",
        "        params[\"min_child_weight\"] = 10\n",
        "        params[\"colsample_bytree\"] = 0.7\n",
        "        params[\"max_depth\"] = 8\n",
        "        params[\"silent\"] = 1\n",
        "        params[\"seed\"] = seed_val\n",
        "        num_rounds = 100\n",
        "        plst = list(params.items())\n",
        "        xgtrain = xgb.DMatrix(train_X, label=train_y)\n",
        "\n",
        "        if test_y is not None:\n",
        "                xgtest = xgb.DMatrix(test_X, label=test_y)\n",
        "                watchlist = [ (xgtrain,'train'), (xgtest, 'test') ]\n",
        "                model = xgb.train(plst, xgtrain, num_rounds, watchlist, early_stopping_rounds=50, verbose_eval=10)\n",
        "        else:\n",
        "                xgtest = xgb.DMatrix(test_X)\n",
        "                model = xgb.train(plst, xgtrain, num_rounds)\n",
        "\n",
        "        pred_test_y = model.predict(xgtest)\n",
        "        return pred_test_y"
      ]
    },
    {
      "cell_type": "markdown",
      "metadata": {
        "id": "0EgifKJX6jEz"
      },
      "source": [
        "Запустим функцию XGB для обучения и предсказания"
      ]
    },
    {
      "cell_type": "code",
      "execution_count": null,
      "metadata": {
        "id": "_BBznHlJ6jE0",
        "colab": {
          "base_uri": "https://localhost:8080/"
        },
        "outputId": "e0ecd2e2-0d91-4b78-beb4-a0fc48f98051"
      },
      "outputs": [
        {
          "output_type": "stream",
          "name": "stderr",
          "text": [
            "/usr/local/lib/python3.10/dist-packages/xgboost/core.py:160: UserWarning: [13:21:46] WARNING: /workspace/src/learner.cc:742: \n",
            "Parameters: { \"silent\" } are not used.\n",
            "\n",
            "  warnings.warn(smsg, UserWarning)\n"
          ]
        }
      ],
      "source": [
        "pred = runXGB(train_df, train_y, test_df)\n",
        "\n",
        "# использование порогового значения для получения прогнозов\n",
        "cutoff = 0.2\n",
        "pred[pred>=cutoff] = 1\n",
        "pred[pred<cutoff] = 0\n",
        "out_df[\"Pred\"] = pred\n",
        "out_df = out_df.loc[out_df[\"Pred\"].astype('int')==1]"
      ]
    },
    {
      "cell_type": "code",
      "source": [
        "del train_df, test_df"
      ],
      "metadata": {
        "id": "vzoPH_DrY4kX"
      },
      "execution_count": null,
      "outputs": []
    },
    {
      "cell_type": "code",
      "execution_count": null,
      "metadata": {
        "collapsed": true,
        "id": "-K7IgFxy6jFX"
      },
      "outputs": [],
      "source": [
        "# если товаров более 1, объедините их в одну строку\n",
        "def merge_products(x):\n",
        "    return \" \".join(list(x.astype('str')))\n",
        "out_df = out_df.groupby(\"order_id\")[\"product_id\"].aggregate(merge_products).reset_index()\n",
        "out_df.columns = [\"order_id\", \"products\"]"
      ]
    },
    {
      "cell_type": "markdown",
      "metadata": {
        "id": "LzCpumWB6jFZ"
      },
      "source": [
        "загрузка результата в выходной файл"
      ]
    },
    {
      "cell_type": "code",
      "execution_count": null,
      "metadata": {
        "collapsed": true,
        "id": "mx0kNk2Y6jFZ"
      },
      "outputs": [],
      "source": [
        "# чтение CSV-файла и заполнение продуктов на основе прогнозов\n",
        "sub_df = pd.read_csv(\"/content/drive/MyDrive/Colab Notebooks/Иннополис/Итоговый проект/Market Analysis/sample_submission.csv\", usecols=[\"order_id\"])\n",
        "sub_df = pd.merge(sub_df, out_df, how=\"left\", on=\"order_id\")\n",
        "\n",
        "# когда нет прогнозов, используйте \"None\"\n",
        "sub_df[\"products\"].fillna(\"None\", inplace=True)\n",
        "sub_df.to_csv(\"xgb_starter_3450.csv\", index=False)"
      ]
    },
    {
      "cell_type": "code",
      "execution_count": null,
      "metadata": {
        "id": "_YYVB9YS6jFa",
        "colab": {
          "base_uri": "https://localhost:8080/",
          "height": 424
        },
        "outputId": "bfd3ebbc-60f6-455f-ee2c-8abf1e8b7010"
      },
      "outputs": [
        {
          "output_type": "execute_result",
          "data": {
            "text/plain": [
              "         order_id  user_id  order_dow  order_hour_of_day  \\\n",
              "3052321   2634088    11335          3                 18   \n",
              "5273294   3379345   104957          2                  9   \n",
              "6564246   1344587   174152          0                  7   \n",
              "7705447   2206969   196469          1                  9   \n",
              "6947171   1103780    57331          1                 20   \n",
              "...           ...      ...        ...                ...   \n",
              "1965286   1099888    79357          5                 12   \n",
              "4473121    256984    62140          0                 20   \n",
              "8158334    355337    70111          3                  6   \n",
              "6278263   1455864   170500          6                 14   \n",
              "4360443    692804   192171          0                 11   \n",
              "\n",
              "         days_since_prior_order  product_id  reordered_count  reordered_sum  \\\n",
              "3052321                     8.0        6873                1              0   \n",
              "5273294                    30.0       15923                1              0   \n",
              "6564246                    30.0       45692                1              0   \n",
              "7705447                    20.0       31205                1              0   \n",
              "6947171                    15.0       28599                1              0   \n",
              "...                         ...         ...              ...            ...   \n",
              "1965286                     4.0        8277                9              8   \n",
              "4473121                     8.0       42959                1              0   \n",
              "8158334                    30.0       24341                1              0   \n",
              "6278263                    29.0       11097                1              0   \n",
              "4360443                     7.0       47788                5              4   \n",
              "\n",
              "         reordered_latest  aisle_id  department_id  \n",
              "3052321               0.0        83              4  \n",
              "5273294               0.0        67             20  \n",
              "6564246               0.0       107             19  \n",
              "7705447               0.0        26              7  \n",
              "6947171               0.0       130             14  \n",
              "...                   ...       ...            ...  \n",
              "1965286               0.0        24              4  \n",
              "4473121               0.0        74             17  \n",
              "8158334               0.0        31              7  \n",
              "6278263               0.0        30              6  \n",
              "4360443               0.0        24              4  \n",
              "\n",
              "[1000 rows x 11 columns]"
            ],
            "text/html": [
              "\n",
              "  <div id=\"df-ac3a89d2-8ed3-41ec-8ccd-9dce91bea36c\" class=\"colab-df-container\">\n",
              "    <div>\n",
              "<style scoped>\n",
              "    .dataframe tbody tr th:only-of-type {\n",
              "        vertical-align: middle;\n",
              "    }\n",
              "\n",
              "    .dataframe tbody tr th {\n",
              "        vertical-align: top;\n",
              "    }\n",
              "\n",
              "    .dataframe thead th {\n",
              "        text-align: right;\n",
              "    }\n",
              "</style>\n",
              "<table border=\"1\" class=\"dataframe\">\n",
              "  <thead>\n",
              "    <tr style=\"text-align: right;\">\n",
              "      <th></th>\n",
              "      <th>order_id</th>\n",
              "      <th>user_id</th>\n",
              "      <th>order_dow</th>\n",
              "      <th>order_hour_of_day</th>\n",
              "      <th>days_since_prior_order</th>\n",
              "      <th>product_id</th>\n",
              "      <th>reordered_count</th>\n",
              "      <th>reordered_sum</th>\n",
              "      <th>reordered_latest</th>\n",
              "      <th>aisle_id</th>\n",
              "      <th>department_id</th>\n",
              "    </tr>\n",
              "  </thead>\n",
              "  <tbody>\n",
              "    <tr>\n",
              "      <th>3052321</th>\n",
              "      <td>2634088</td>\n",
              "      <td>11335</td>\n",
              "      <td>3</td>\n",
              "      <td>18</td>\n",
              "      <td>8.0</td>\n",
              "      <td>6873</td>\n",
              "      <td>1</td>\n",
              "      <td>0</td>\n",
              "      <td>0.0</td>\n",
              "      <td>83</td>\n",
              "      <td>4</td>\n",
              "    </tr>\n",
              "    <tr>\n",
              "      <th>5273294</th>\n",
              "      <td>3379345</td>\n",
              "      <td>104957</td>\n",
              "      <td>2</td>\n",
              "      <td>9</td>\n",
              "      <td>30.0</td>\n",
              "      <td>15923</td>\n",
              "      <td>1</td>\n",
              "      <td>0</td>\n",
              "      <td>0.0</td>\n",
              "      <td>67</td>\n",
              "      <td>20</td>\n",
              "    </tr>\n",
              "    <tr>\n",
              "      <th>6564246</th>\n",
              "      <td>1344587</td>\n",
              "      <td>174152</td>\n",
              "      <td>0</td>\n",
              "      <td>7</td>\n",
              "      <td>30.0</td>\n",
              "      <td>45692</td>\n",
              "      <td>1</td>\n",
              "      <td>0</td>\n",
              "      <td>0.0</td>\n",
              "      <td>107</td>\n",
              "      <td>19</td>\n",
              "    </tr>\n",
              "    <tr>\n",
              "      <th>7705447</th>\n",
              "      <td>2206969</td>\n",
              "      <td>196469</td>\n",
              "      <td>1</td>\n",
              "      <td>9</td>\n",
              "      <td>20.0</td>\n",
              "      <td>31205</td>\n",
              "      <td>1</td>\n",
              "      <td>0</td>\n",
              "      <td>0.0</td>\n",
              "      <td>26</td>\n",
              "      <td>7</td>\n",
              "    </tr>\n",
              "    <tr>\n",
              "      <th>6947171</th>\n",
              "      <td>1103780</td>\n",
              "      <td>57331</td>\n",
              "      <td>1</td>\n",
              "      <td>20</td>\n",
              "      <td>15.0</td>\n",
              "      <td>28599</td>\n",
              "      <td>1</td>\n",
              "      <td>0</td>\n",
              "      <td>0.0</td>\n",
              "      <td>130</td>\n",
              "      <td>14</td>\n",
              "    </tr>\n",
              "    <tr>\n",
              "      <th>...</th>\n",
              "      <td>...</td>\n",
              "      <td>...</td>\n",
              "      <td>...</td>\n",
              "      <td>...</td>\n",
              "      <td>...</td>\n",
              "      <td>...</td>\n",
              "      <td>...</td>\n",
              "      <td>...</td>\n",
              "      <td>...</td>\n",
              "      <td>...</td>\n",
              "      <td>...</td>\n",
              "    </tr>\n",
              "    <tr>\n",
              "      <th>1965286</th>\n",
              "      <td>1099888</td>\n",
              "      <td>79357</td>\n",
              "      <td>5</td>\n",
              "      <td>12</td>\n",
              "      <td>4.0</td>\n",
              "      <td>8277</td>\n",
              "      <td>9</td>\n",
              "      <td>8</td>\n",
              "      <td>0.0</td>\n",
              "      <td>24</td>\n",
              "      <td>4</td>\n",
              "    </tr>\n",
              "    <tr>\n",
              "      <th>4473121</th>\n",
              "      <td>256984</td>\n",
              "      <td>62140</td>\n",
              "      <td>0</td>\n",
              "      <td>20</td>\n",
              "      <td>8.0</td>\n",
              "      <td>42959</td>\n",
              "      <td>1</td>\n",
              "      <td>0</td>\n",
              "      <td>0.0</td>\n",
              "      <td>74</td>\n",
              "      <td>17</td>\n",
              "    </tr>\n",
              "    <tr>\n",
              "      <th>8158334</th>\n",
              "      <td>355337</td>\n",
              "      <td>70111</td>\n",
              "      <td>3</td>\n",
              "      <td>6</td>\n",
              "      <td>30.0</td>\n",
              "      <td>24341</td>\n",
              "      <td>1</td>\n",
              "      <td>0</td>\n",
              "      <td>0.0</td>\n",
              "      <td>31</td>\n",
              "      <td>7</td>\n",
              "    </tr>\n",
              "    <tr>\n",
              "      <th>6278263</th>\n",
              "      <td>1455864</td>\n",
              "      <td>170500</td>\n",
              "      <td>6</td>\n",
              "      <td>14</td>\n",
              "      <td>29.0</td>\n",
              "      <td>11097</td>\n",
              "      <td>1</td>\n",
              "      <td>0</td>\n",
              "      <td>0.0</td>\n",
              "      <td>30</td>\n",
              "      <td>6</td>\n",
              "    </tr>\n",
              "    <tr>\n",
              "      <th>4360443</th>\n",
              "      <td>692804</td>\n",
              "      <td>192171</td>\n",
              "      <td>0</td>\n",
              "      <td>11</td>\n",
              "      <td>7.0</td>\n",
              "      <td>47788</td>\n",
              "      <td>5</td>\n",
              "      <td>4</td>\n",
              "      <td>0.0</td>\n",
              "      <td>24</td>\n",
              "      <td>4</td>\n",
              "    </tr>\n",
              "  </tbody>\n",
              "</table>\n",
              "<p>1000 rows × 11 columns</p>\n",
              "</div>\n",
              "    <div class=\"colab-df-buttons\">\n",
              "\n",
              "  <div class=\"colab-df-container\">\n",
              "    <button class=\"colab-df-convert\" onclick=\"convertToInteractive('df-ac3a89d2-8ed3-41ec-8ccd-9dce91bea36c')\"\n",
              "            title=\"Convert this dataframe to an interactive table.\"\n",
              "            style=\"display:none;\">\n",
              "\n",
              "  <svg xmlns=\"http://www.w3.org/2000/svg\" height=\"24px\" viewBox=\"0 -960 960 960\">\n",
              "    <path d=\"M120-120v-720h720v720H120Zm60-500h600v-160H180v160Zm220 220h160v-160H400v160Zm0 220h160v-160H400v160ZM180-400h160v-160H180v160Zm440 0h160v-160H620v160ZM180-180h160v-160H180v160Zm440 0h160v-160H620v160Z\"/>\n",
              "  </svg>\n",
              "    </button>\n",
              "\n",
              "  <style>\n",
              "    .colab-df-container {\n",
              "      display:flex;\n",
              "      gap: 12px;\n",
              "    }\n",
              "\n",
              "    .colab-df-convert {\n",
              "      background-color: #E8F0FE;\n",
              "      border: none;\n",
              "      border-radius: 50%;\n",
              "      cursor: pointer;\n",
              "      display: none;\n",
              "      fill: #1967D2;\n",
              "      height: 32px;\n",
              "      padding: 0 0 0 0;\n",
              "      width: 32px;\n",
              "    }\n",
              "\n",
              "    .colab-df-convert:hover {\n",
              "      background-color: #E2EBFA;\n",
              "      box-shadow: 0px 1px 2px rgba(60, 64, 67, 0.3), 0px 1px 3px 1px rgba(60, 64, 67, 0.15);\n",
              "      fill: #174EA6;\n",
              "    }\n",
              "\n",
              "    .colab-df-buttons div {\n",
              "      margin-bottom: 4px;\n",
              "    }\n",
              "\n",
              "    [theme=dark] .colab-df-convert {\n",
              "      background-color: #3B4455;\n",
              "      fill: #D2E3FC;\n",
              "    }\n",
              "\n",
              "    [theme=dark] .colab-df-convert:hover {\n",
              "      background-color: #434B5C;\n",
              "      box-shadow: 0px 1px 3px 1px rgba(0, 0, 0, 0.15);\n",
              "      filter: drop-shadow(0px 1px 2px rgba(0, 0, 0, 0.3));\n",
              "      fill: #FFFFFF;\n",
              "    }\n",
              "  </style>\n",
              "\n",
              "    <script>\n",
              "      const buttonEl =\n",
              "        document.querySelector('#df-ac3a89d2-8ed3-41ec-8ccd-9dce91bea36c button.colab-df-convert');\n",
              "      buttonEl.style.display =\n",
              "        google.colab.kernel.accessAllowed ? 'block' : 'none';\n",
              "\n",
              "      async function convertToInteractive(key) {\n",
              "        const element = document.querySelector('#df-ac3a89d2-8ed3-41ec-8ccd-9dce91bea36c');\n",
              "        const dataTable =\n",
              "          await google.colab.kernel.invokeFunction('convertToInteractive',\n",
              "                                                    [key], {});\n",
              "        if (!dataTable) return;\n",
              "\n",
              "        const docLinkHtml = 'Like what you see? Visit the ' +\n",
              "          '<a target=\"_blank\" href=https://colab.research.google.com/notebooks/data_table.ipynb>data table notebook</a>'\n",
              "          + ' to learn more about interactive tables.';\n",
              "        element.innerHTML = '';\n",
              "        dataTable['output_type'] = 'display_data';\n",
              "        await google.colab.output.renderOutput(dataTable, element);\n",
              "        const docLink = document.createElement('div');\n",
              "        docLink.innerHTML = docLinkHtml;\n",
              "        element.appendChild(docLink);\n",
              "      }\n",
              "    </script>\n",
              "  </div>\n",
              "\n",
              "\n",
              "<div id=\"df-0961ffbd-b29c-4795-85ce-65ed6ab9b84e\">\n",
              "  <button class=\"colab-df-quickchart\" onclick=\"quickchart('df-0961ffbd-b29c-4795-85ce-65ed6ab9b84e')\"\n",
              "            title=\"Suggest charts.\"\n",
              "            style=\"display:none;\">\n",
              "\n",
              "<svg xmlns=\"http://www.w3.org/2000/svg\" height=\"24px\"viewBox=\"0 0 24 24\"\n",
              "     width=\"24px\">\n",
              "    <g>\n",
              "        <path d=\"M19 3H5c-1.1 0-2 .9-2 2v14c0 1.1.9 2 2 2h14c1.1 0 2-.9 2-2V5c0-1.1-.9-2-2-2zM9 17H7v-7h2v7zm4 0h-2V7h2v10zm4 0h-2v-4h2v4z\"/>\n",
              "    </g>\n",
              "</svg>\n",
              "  </button>\n",
              "\n",
              "<style>\n",
              "  .colab-df-quickchart {\n",
              "      --bg-color: #E8F0FE;\n",
              "      --fill-color: #1967D2;\n",
              "      --hover-bg-color: #E2EBFA;\n",
              "      --hover-fill-color: #174EA6;\n",
              "      --disabled-fill-color: #AAA;\n",
              "      --disabled-bg-color: #DDD;\n",
              "  }\n",
              "\n",
              "  [theme=dark] .colab-df-quickchart {\n",
              "      --bg-color: #3B4455;\n",
              "      --fill-color: #D2E3FC;\n",
              "      --hover-bg-color: #434B5C;\n",
              "      --hover-fill-color: #FFFFFF;\n",
              "      --disabled-bg-color: #3B4455;\n",
              "      --disabled-fill-color: #666;\n",
              "  }\n",
              "\n",
              "  .colab-df-quickchart {\n",
              "    background-color: var(--bg-color);\n",
              "    border: none;\n",
              "    border-radius: 50%;\n",
              "    cursor: pointer;\n",
              "    display: none;\n",
              "    fill: var(--fill-color);\n",
              "    height: 32px;\n",
              "    padding: 0;\n",
              "    width: 32px;\n",
              "  }\n",
              "\n",
              "  .colab-df-quickchart:hover {\n",
              "    background-color: var(--hover-bg-color);\n",
              "    box-shadow: 0 1px 2px rgba(60, 64, 67, 0.3), 0 1px 3px 1px rgba(60, 64, 67, 0.15);\n",
              "    fill: var(--button-hover-fill-color);\n",
              "  }\n",
              "\n",
              "  .colab-df-quickchart-complete:disabled,\n",
              "  .colab-df-quickchart-complete:disabled:hover {\n",
              "    background-color: var(--disabled-bg-color);\n",
              "    fill: var(--disabled-fill-color);\n",
              "    box-shadow: none;\n",
              "  }\n",
              "\n",
              "  .colab-df-spinner {\n",
              "    border: 2px solid var(--fill-color);\n",
              "    border-color: transparent;\n",
              "    border-bottom-color: var(--fill-color);\n",
              "    animation:\n",
              "      spin 1s steps(1) infinite;\n",
              "  }\n",
              "\n",
              "  @keyframes spin {\n",
              "    0% {\n",
              "      border-color: transparent;\n",
              "      border-bottom-color: var(--fill-color);\n",
              "      border-left-color: var(--fill-color);\n",
              "    }\n",
              "    20% {\n",
              "      border-color: transparent;\n",
              "      border-left-color: var(--fill-color);\n",
              "      border-top-color: var(--fill-color);\n",
              "    }\n",
              "    30% {\n",
              "      border-color: transparent;\n",
              "      border-left-color: var(--fill-color);\n",
              "      border-top-color: var(--fill-color);\n",
              "      border-right-color: var(--fill-color);\n",
              "    }\n",
              "    40% {\n",
              "      border-color: transparent;\n",
              "      border-right-color: var(--fill-color);\n",
              "      border-top-color: var(--fill-color);\n",
              "    }\n",
              "    60% {\n",
              "      border-color: transparent;\n",
              "      border-right-color: var(--fill-color);\n",
              "    }\n",
              "    80% {\n",
              "      border-color: transparent;\n",
              "      border-right-color: var(--fill-color);\n",
              "      border-bottom-color: var(--fill-color);\n",
              "    }\n",
              "    90% {\n",
              "      border-color: transparent;\n",
              "      border-bottom-color: var(--fill-color);\n",
              "    }\n",
              "  }\n",
              "</style>\n",
              "\n",
              "  <script>\n",
              "    async function quickchart(key) {\n",
              "      const quickchartButtonEl =\n",
              "        document.querySelector('#' + key + ' button');\n",
              "      quickchartButtonEl.disabled = true;  // To prevent multiple clicks.\n",
              "      quickchartButtonEl.classList.add('colab-df-spinner');\n",
              "      try {\n",
              "        const charts = await google.colab.kernel.invokeFunction(\n",
              "            'suggestCharts', [key], {});\n",
              "      } catch (error) {\n",
              "        console.error('Error during call to suggestCharts:', error);\n",
              "      }\n",
              "      quickchartButtonEl.classList.remove('colab-df-spinner');\n",
              "      quickchartButtonEl.classList.add('colab-df-quickchart-complete');\n",
              "    }\n",
              "    (() => {\n",
              "      let quickchartButtonEl =\n",
              "        document.querySelector('#df-0961ffbd-b29c-4795-85ce-65ed6ab9b84e button');\n",
              "      quickchartButtonEl.style.display =\n",
              "        google.colab.kernel.accessAllowed ? 'block' : 'none';\n",
              "    })();\n",
              "  </script>\n",
              "</div>\n",
              "    </div>\n",
              "  </div>\n"
            ]
          },
          "metadata": {},
          "execution_count": 25
        }
      ],
      "source": [
        "X_train['reordered_latest'] = X_train['reordered_latest'].replace(np.nan, 0)\n",
        "X_test['reordered_latest'] = X_test['reordered_latest'].replace(np.nan, 0)\n",
        "X_test.head(1000)"
      ]
    },
    {
      "cell_type": "code",
      "source": [],
      "metadata": {
        "id": "vjaoLxTEaJja"
      },
      "execution_count": null,
      "outputs": []
    },
    {
      "cell_type": "markdown",
      "metadata": {
        "id": "OKO0YW_a6jFl"
      },
      "source": [
        "# Logistic Regression"
      ]
    },
    {
      "cell_type": "code",
      "execution_count": null,
      "metadata": {
        "collapsed": true,
        "id": "ZZqP4kEE6jFm"
      },
      "outputs": [],
      "source": [
        "from sklearn.linear_model import LogisticRegression"
      ]
    },
    {
      "cell_type": "code",
      "execution_count": null,
      "metadata": {
        "collapsed": true,
        "id": "U-eIl-206jFn"
      },
      "outputs": [],
      "source": [
        "clf=(LogisticRegression(C=0.02))"
      ]
    },
    {
      "cell_type": "code",
      "execution_count": null,
      "metadata": {
        "id": "2OHhAYVh6jFo"
      },
      "outputs": [],
      "source": [
        "clf.fit(X_train, y_train)"
      ]
    },
    {
      "cell_type": "markdown",
      "source": [
        "![image.png](data:image/png;base64,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)"
      ],
      "metadata": {
        "id": "ikZG4_jhD-aK"
      }
    },
    {
      "cell_type": "code",
      "execution_count": null,
      "metadata": {
        "collapsed": true,
        "id": "O0r6eGSr6jF0"
      },
      "outputs": [],
      "source": [
        "pred=clf.predict(X_test)"
      ]
    },
    {
      "cell_type": "code",
      "execution_count": null,
      "metadata": {
        "id": "hlI_ItrW6jF1",
        "outputId": "3c6c215e-8005-4527-cbbe-50da6adbf769",
        "colab": {
          "base_uri": "https://localhost:8080/"
        }
      },
      "outputs": [
        {
          "output_type": "stream",
          "name": "stdout",
          "text": [
            "0.9019834165224757\n"
          ]
        }
      ],
      "source": [
        "print(accuracy_score(pred, y_test))"
      ]
    },
    {
      "cell_type": "markdown",
      "metadata": {
        "id": "Kwbghmu-6jF2"
      },
      "source": [
        "# Random Forest"
      ]
    },
    {
      "cell_type": "code",
      "execution_count": null,
      "metadata": {
        "collapsed": true,
        "id": "ai8Ba6jw6jF8"
      },
      "outputs": [],
      "source": [
        "from sklearn.ensemble import RandomForestClassifier"
      ]
    },
    {
      "cell_type": "code",
      "execution_count": null,
      "metadata": {
        "collapsed": true,
        "id": "CzuxBlgy6jF9"
      },
      "outputs": [],
      "source": [
        "clfrf = RandomForestClassifier(max_features=\"log2\", max_depth=11, n_estimators=24,min_samples_split=1000, oob_score=True)"
      ]
    },
    {
      "cell_type": "code",
      "execution_count": null,
      "metadata": {
        "id": "X-SfE0QF6jF9"
      },
      "outputs": [],
      "source": [
        "clfrf.fit(X_train, y_train)"
      ]
    },
    {
      "cell_type": "markdown",
      "source": [
        "![image.png](data:image/png;base64,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)"
      ],
      "metadata": {
        "id": "sD4BUc2OD7qq"
      }
    },
    {
      "cell_type": "code",
      "execution_count": null,
      "metadata": {
        "collapsed": true,
        "id": "B6Fl0zhX6jG4"
      },
      "outputs": [],
      "source": [
        "predrf=clfrf.predict(X_test)"
      ]
    },
    {
      "cell_type": "code",
      "execution_count": null,
      "metadata": {
        "id": "t-2XSwBK6jG-",
        "outputId": "8d92560a-e4be-4782-e602-f6b2aaadbe97",
        "colab": {
          "base_uri": "https://localhost:8080/"
        }
      },
      "outputs": [
        {
          "output_type": "execute_result",
          "data": {
            "text/plain": [
              "0.9054271931414816"
            ]
          },
          "metadata": {},
          "execution_count": 35
        }
      ],
      "source": [
        "accuracy_score(predrf, y_test)"
      ]
    },
    {
      "cell_type": "code",
      "source": [],
      "metadata": {
        "id": "YTmN_S3Yao-t"
      },
      "execution_count": null,
      "outputs": []
    }
  ]
}